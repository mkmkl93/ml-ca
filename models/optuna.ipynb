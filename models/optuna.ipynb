{
 "nbformat": 4,
 "nbformat_minor": 0,
 "metadata": {
  "kernelspec": {
   "display_name": "Python 3",
   "language": "python",
   "name": "python3"
  },
  "language_info": {
   "codemirror_mode": {
    "name": "ipython",
    "version": 3
   },
   "file_extension": ".py",
   "mimetype": "text/x-python",
   "name": "python",
   "nbconvert_exporter": "python",
   "pygments_lexer": "ipython3",
   "version": "3.5.2"
  },
  "colab": {
   "name": "lightgbm_regressor.ipynb",
   "provenance": [],
   "collapsed_sections": []
  }
 },
 "cells": [
  {
   "cell_type": "code",
   "metadata": {
    "id": "GxU10UxXh6fJ",
    "colab_type": "code",
    "colab": {}
   },
   "source": [
    "import optuna.integration.lightgbm as lgb\n",
    "import optuna\n",
    "import itertools\n",
    "import json\n",
    "from sklearn.metrics import mean_squared_error\n",
    "import neptune\n",
    "import pandas as pd\n",
    "\n",
    "import warnings\n",
    "\n",
    "import numpy as np\n",
    "warnings.filterwarnings(\"ignore\")"
   ],
   "execution_count": 1,
   "outputs": []
  },
  {
   "cell_type": "code",
   "metadata": {
    "id": "8GJIvnQRig8d",
    "colab_type": "code",
    "colab": {}
   },
   "source": [
    "def read_data(dataset_path, mode):\n",
    "    print('Read dataset for ' + mode + ' from file ' + dataset_path + mode + '.csv')\n",
    "    dataset = pd.read_csv(dataset_path + mode + '.csv')\n",
    "    dataset = dataset.drop(['Unnamed: 0'], axis=1)\n",
    "    return dataset.drop(['y'], axis=1), dataset['y']"
   ],
   "execution_count": 2,
   "outputs": []
  },
  {
   "cell_type": "code",
   "metadata": {
    "id": "3XpM47i00ySy",
    "colab_type": "code",
    "colab": {}
   },
   "source": [
    "import neptunecontrib.monitoring.optuna as opt_utils\n",
    "neptune_monitor_optuna = opt_utils.NeptuneMonitor()"
   ],
   "execution_count": 3,
   "outputs": []
  },
  {
   "cell_type": "code",
   "metadata": {
    "pycharm": {
     "name": "#%%\n"
    },
    "id": "aOrdj0rUh6fY",
    "colab_type": "code",
    "colab": {}
   },
   "source": [
    "def mean_absolute_percentage_error(y_true, y_pred):\n",
    "    y_true, y_pred = np.array(y_true), np.array(y_pred)\n",
    "    return np.mean(np.abs((y_true - y_pred) / y_true)) * 100"
   ],
   "execution_count": 4,
   "outputs": []
  },
  {
   "cell_type": "code",
   "metadata": {
    "pycharm": {
     "name": "#%%\n"
    },
    "id": "AM23fYhzh6fl",
    "colab_type": "code",
    "outputId": "d379e445-223d-497b-a110-7fd724f77bf0",
    "colab": {
     "base_uri": "https://localhost:8080/",
     "height": 106
    }
   },
   "source": [
    "print('Loading data...')\n",
    "x_train, y_train = read_data('../data/', 'train')\n",
    "x_eval, y_eval = read_data('../data/', 'eval')\n",
    "\n",
    "neptune.init('kowson/OLN')\n",
    "\n",
    "used_params = []"
   ],
   "execution_count": 10,
   "outputs": [
    {
     "name": "stdout",
     "output_type": "stream",
     "text": [
      "Loading data...\n",
      "Read dataset for train from file ../data/train.csv\n",
      "Read dataset for eval from file ../data/eval.csv\n"
     ]
    }
   ]
  },
  {
   "cell_type": "code",
   "metadata": {
    "pycharm": {
     "name": "#%%\n"
    },
    "id": "ZvVACdjOh6fx",
    "colab_type": "code",
    "outputId": "a8a9f36c-bb69-4ed1-d784-060d37fe6507",
    "colab": {
     "base_uri": "https://localhost:8080/",
     "height": 34
    }
   },
   "source": [
    "print('Preparing LightGBM datasets...')\n",
    "lgb_train = lgb.Dataset(x_train, y_train)\n",
    "lgb_eval = lgb.Dataset(x_eval, y_eval, reference=lgb_train)\n"
   ],
   "execution_count": 11,
   "outputs": [
    {
     "name": "stdout",
     "output_type": "stream",
     "text": [
      "Preparing LightGBM datasets...\n"
     ]
    }
   ]
  },
  {
   "cell_type": "code",
   "metadata": {
    "pycharm": {
     "name": "#%% NEPTUNE INTEGRATION\n"
    },
    "id": "JrG20BtRh6f5",
    "colab_type": "code",
    "colab": {}
   },
   "source": [
    "TAGS = ['lightgbm', 'data_v5', '200k_uniform', 'mape', 'relative', 'optimization', 'optuna']\n",
    "\n",
    "def neptune_monitor():\n",
    "    def callback(env):\n",
    "        for name, loss_name, loss_value, _ in env.evaluation_result_list:\n",
    "            neptune.send_metric('{}_{}'.format(name, loss_name), x=env.iteration, y=loss_value)\n",
    "    return callback\n"
   ],
   "execution_count": 0,
   "outputs": []
  },
  {
   "cell_type": "code",
   "metadata": {
    "pycharm": {
     "name": "#%% MODEL HYPERPARAMETERS\n"
    },
    "id": "iviVwrijh6gD",
    "colab_type": "code",
    "colab": {}
   },
   "source": [
    "params_dict = {\n",
    "    'boosting_type': ['gbdt', 'dart',],\n",
    "    'objective': ['regression'],\n",
    "    'metric': [['l2', 'l1']],\n",
    "    'num_leaves': [10, 20, 25, 30, 40, 50, 100],\n",
    "    'num_rounds': [30, 50, 70, 100, 150],\n",
    "    'learning_rate': [0.01, 0.05, 0.1, 0.2, 0.5],\n",
    "    'verbose': [0],\n",
    "}"
   ],
   "execution_count": 0,
   "outputs": []
  },
  {
   "cell_type": "code",
   "metadata": {
    "pycharm": {
     "name": "#%% TRAINING\n"
    },
    "id": "pR2YxdYBh6gS",
    "colab_type": "code",
    "colab": {}
   },
   "source": [
    "print(\"Training...\")\n",
    "try:\n",
    "    with open('lgb_params.json') as data_file:    \n",
    "        used_params = json.load(data_file)\n",
    "except (FileNotFoundError, json.JSONDecodeError): \n",
    "    used_params = []\n",
    "keys, values = zip(*params_dict.items())\n",
    "for v in itertools.product(*values):\n",
    "    experiment_params = dict(zip(keys, v))\n",
    "    if any(param_dict == experiment_params for param_dict in used_params):\n",
    "        continue  # skip already computed\n",
    "    neptune.create_experiment(\n",
    "        name='LightGBM regressor with relative doses', \n",
    "        params=experiment_params,\n",
    "        tags=TAGS\n",
    "    )\n",
    "    gbm = lgb.train(\n",
    "        params=experiment_params, \n",
    "        train_set=lgb_train, \n",
    "        valid_sets=[lgb_train, lgb_eval],\n",
    "        verbose_eval=False,\n",
    "        early_stopping_rounds=5,\n",
    "        callbacks=[neptune_monitor()],\n",
    "    )\n",
    "    # PREDICT AND EVAL\n",
    "    y_pred = gbm.predict(x_eval, num_iteration=gbm.best_iteration)\n",
    "    error = mean_squared_error(y_eval, y_pred) ** 0.5\n",
    "    print(\"RMSE of prediction is: {}\".format(error))\n",
    "    neptune.log_text('rmse', str(error))\n",
    "    error = mean_absolute_percentage_error(y_eval, y_pred)\n",
    "    print(\"MAPE of prediction is: {}\".format(error))\n",
    "    neptune.log_text('mape', str(error))\n",
    "    neptune.stop()\n",
    "    used_params.append(experiment_params)\n",
    "    with open('lgb_params.json', 'w') as outfile:\n",
    "        json.dump(used_params, outfile, sort_keys=True, indent=4)"
   ],
   "execution_count": 0,
   "outputs": []
  },
  {
   "cell_type": "code",
   "metadata": {
    "id": "NpJHBWy71SEY",
    "colab_type": "code",
    "colab": {}
   },
   "source": [
    "def objective(trial):\n",
    "    param = {\n",
    "        'objective': 'regression',\n",
    "        'metric': 'l2',\n",
    "        'boosting_type': ['gbdt'],\n",
    "        'num_leaves': trial.suggest_int('num_leaves', 2, 256),\n",
    "        'num_rounds': trial.suggest_int('num_rounds', 20, 300),\n",
    "        'learning_rate': trial.suggest_loguniform('learning_rate', 1e-3, 0.6),\n",
    "    }\n",
    "    gbm = lgb.train(\n",
    "        params=param, \n",
    "        train_set=lgb_train, \n",
    "        valid_sets=[lgb_train, lgb_eval],\n",
    "        verbose_eval=False,\n",
    "        early_stopping_rounds=5,\n",
    "    )\n",
    "    # PREDICT AND EVAL\n",
    "    y_pred = gbm.predict(x_eval, num_iteration=gbm.best_iteration)\n",
    "    #error = mean_squared_error(y_eval, y_pred) ** 0.5\n",
    "    #print(\"RMSE of prediction is: {}\".format(error))\n",
    "    #neptune.log_text('rmse', str(error))\n",
    "    error = mean_absolute_percentage_error(y_eval, y_pred)\n",
    "    print(\"MAPE of prediction is: {}\".format(error))\n",
    "    neptune.log_metric('mape_error', error)\n",
    "    #neptune.stop()\n",
    "    return error"
   ],
   "execution_count": 12,
   "outputs": []
  },
  {
   "cell_type": "code",
   "metadata": {
    "id": "y1H-TQ6x3sB2",
    "colab_type": "code",
    "colab": {
     "base_uri": "https://localhost:8080/",
     "height": 347
    },
    "outputId": "64be390f-7041-4873-9217-b63d6a7d5358"
   },
   "source": [
    "print(\"Optimizing...\")\n",
    "neptune.create_experiment(\n",
    "    name='Optuna optimization with relative doses', \n",
    "    tags=['optimization', 'optuna', 'lightgbm', 'data_v5', 'relative', 'uniform_200k', 'l2']\n",
    ")\n",
    "study = optuna.create_study(direction='minimize')\n",
    "study.optimize(objective, n_trials=100, callbacks=[neptune_monitor_optuna])"
   ],
   "execution_count": 13,
   "outputs": [
    {
     "name": "stdout",
     "output_type": "stream",
     "text": [
      "Optimizing...\n",
      "https://ui.neptune.ai/kowson/OLN/e/OLN-3150\n"
     ]
    },
    {
     "name": "stderr",
     "output_type": "stream",
     "text": [
      "NVMLError: NVML Shared Library Not Found - GPU usage metrics may not be reported.\n",
      "feature_fraction, val_score: 1309.494738:  14%|#4        | 1/7 [00:08<00:49,  8.33s/it][I 2020-05-21 14:17:51,032] Finished trial#0 with value: 1309.494738473686 with parameters: {'feature_fraction': 0.8}. Best is trial#0 with value: 1309.494738473686.\n",
      "feature_fraction, val_score: 1281.024394:  29%|##8       | 2/7 [00:19<00:45,  9.10s/it][I 2020-05-21 14:18:01,907] Finished trial#1 with value: 1281.0243939759787 with parameters: {'feature_fraction': 1.0}. Best is trial#1 with value: 1281.0243939759787.\n",
      "feature_fraction, val_score: 1281.024394:  29%|##8       | 2/7 [00:19<00:45,  9.10s/it]"
     ]
    },
    {
     "ename": "KeyboardInterrupt",
     "evalue": "",
     "output_type": "error",
     "traceback": [
      "\u001B[0;31m---------------------------------------------------------------------------\u001B[0m",
      "\u001B[0;31mKeyboardInterrupt\u001B[0m                         Traceback (most recent call last)",
      "\u001B[0;32m<ipython-input-13-eb5923afd97a>\u001B[0m in \u001B[0;36m<module>\u001B[0;34m\u001B[0m\n\u001B[1;32m      5\u001B[0m )\n\u001B[1;32m      6\u001B[0m \u001B[0mstudy\u001B[0m \u001B[0;34m=\u001B[0m \u001B[0moptuna\u001B[0m\u001B[0;34m.\u001B[0m\u001B[0mcreate_study\u001B[0m\u001B[0;34m(\u001B[0m\u001B[0mdirection\u001B[0m\u001B[0;34m=\u001B[0m\u001B[0;34m'minimize'\u001B[0m\u001B[0;34m)\u001B[0m\u001B[0;34m\u001B[0m\u001B[0m\n\u001B[0;32m----> 7\u001B[0;31m \u001B[0mstudy\u001B[0m\u001B[0;34m.\u001B[0m\u001B[0moptimize\u001B[0m\u001B[0;34m(\u001B[0m\u001B[0mobjective\u001B[0m\u001B[0;34m,\u001B[0m \u001B[0mn_trials\u001B[0m\u001B[0;34m=\u001B[0m\u001B[0;36m100\u001B[0m\u001B[0;34m,\u001B[0m \u001B[0mcallbacks\u001B[0m\u001B[0;34m=\u001B[0m\u001B[0;34m[\u001B[0m\u001B[0mneptune_monitor_optuna\u001B[0m\u001B[0;34m]\u001B[0m\u001B[0;34m)\u001B[0m\u001B[0;34m\u001B[0m\u001B[0m\n\u001B[0m\u001B[1;32m      8\u001B[0m \u001B[0;34m\u001B[0m\u001B[0m\n",
      "\u001B[0;32m~/ZPP/nasze-ca/models/venv/lib/python3.5/site-packages/optuna/study.py\u001B[0m in \u001B[0;36moptimize\u001B[0;34m(self, func, n_trials, timeout, n_jobs, catch, callbacks, gc_after_trial, show_progress_bar)\u001B[0m\n\u001B[1;32m    332\u001B[0m             \u001B[0;32mif\u001B[0m \u001B[0mn_jobs\u001B[0m \u001B[0;34m==\u001B[0m \u001B[0;36m1\u001B[0m\u001B[0;34m:\u001B[0m\u001B[0;34m\u001B[0m\u001B[0m\n\u001B[1;32m    333\u001B[0m                 self._optimize_sequential(\n\u001B[0;32m--> 334\u001B[0;31m                     \u001B[0mfunc\u001B[0m\u001B[0;34m,\u001B[0m \u001B[0mn_trials\u001B[0m\u001B[0;34m,\u001B[0m \u001B[0mtimeout\u001B[0m\u001B[0;34m,\u001B[0m \u001B[0mcatch\u001B[0m\u001B[0;34m,\u001B[0m \u001B[0mcallbacks\u001B[0m\u001B[0;34m,\u001B[0m \u001B[0mgc_after_trial\u001B[0m\u001B[0;34m,\u001B[0m \u001B[0;32mNone\u001B[0m\u001B[0;34m\u001B[0m\u001B[0m\n\u001B[0m\u001B[1;32m    335\u001B[0m                 )\n\u001B[1;32m    336\u001B[0m             \u001B[0;32melse\u001B[0m\u001B[0;34m:\u001B[0m\u001B[0;34m\u001B[0m\u001B[0m\n",
      "\u001B[0;32m~/ZPP/nasze-ca/models/venv/lib/python3.5/site-packages/optuna/study.py\u001B[0m in \u001B[0;36m_optimize_sequential\u001B[0;34m(self, func, n_trials, timeout, catch, callbacks, gc_after_trial, time_start)\u001B[0m\n\u001B[1;32m    646\u001B[0m                     \u001B[0;32mbreak\u001B[0m\u001B[0;34m\u001B[0m\u001B[0m\n\u001B[1;32m    647\u001B[0m \u001B[0;34m\u001B[0m\u001B[0m\n\u001B[0;32m--> 648\u001B[0;31m             \u001B[0mself\u001B[0m\u001B[0;34m.\u001B[0m\u001B[0m_run_trial_and_callbacks\u001B[0m\u001B[0;34m(\u001B[0m\u001B[0mfunc\u001B[0m\u001B[0;34m,\u001B[0m \u001B[0mcatch\u001B[0m\u001B[0;34m,\u001B[0m \u001B[0mcallbacks\u001B[0m\u001B[0;34m,\u001B[0m \u001B[0mgc_after_trial\u001B[0m\u001B[0;34m)\u001B[0m\u001B[0;34m\u001B[0m\u001B[0m\n\u001B[0m\u001B[1;32m    649\u001B[0m \u001B[0;34m\u001B[0m\u001B[0m\n\u001B[1;32m    650\u001B[0m             \u001B[0mself\u001B[0m\u001B[0;34m.\u001B[0m\u001B[0m_progress_bar\u001B[0m\u001B[0;34m.\u001B[0m\u001B[0mupdate\u001B[0m\u001B[0;34m(\u001B[0m\u001B[0;34m(\u001B[0m\u001B[0mdatetime\u001B[0m\u001B[0;34m.\u001B[0m\u001B[0mdatetime\u001B[0m\u001B[0;34m.\u001B[0m\u001B[0mnow\u001B[0m\u001B[0;34m(\u001B[0m\u001B[0;34m)\u001B[0m \u001B[0;34m-\u001B[0m \u001B[0mtime_start\u001B[0m\u001B[0;34m)\u001B[0m\u001B[0;34m.\u001B[0m\u001B[0mtotal_seconds\u001B[0m\u001B[0;34m(\u001B[0m\u001B[0;34m)\u001B[0m\u001B[0;34m)\u001B[0m\u001B[0;34m\u001B[0m\u001B[0m\n",
      "\u001B[0;32m~/ZPP/nasze-ca/models/venv/lib/python3.5/site-packages/optuna/study.py\u001B[0m in \u001B[0;36m_run_trial_and_callbacks\u001B[0;34m(self, func, catch, callbacks, gc_after_trial)\u001B[0m\n\u001B[1;32m    676\u001B[0m         \u001B[0;31m# type: (...) -> None\u001B[0m\u001B[0;34m\u001B[0m\u001B[0;34m\u001B[0m\u001B[0m\n\u001B[1;32m    677\u001B[0m \u001B[0;34m\u001B[0m\u001B[0m\n\u001B[0;32m--> 678\u001B[0;31m         \u001B[0mtrial\u001B[0m \u001B[0;34m=\u001B[0m \u001B[0mself\u001B[0m\u001B[0;34m.\u001B[0m\u001B[0m_run_trial\u001B[0m\u001B[0;34m(\u001B[0m\u001B[0mfunc\u001B[0m\u001B[0;34m,\u001B[0m \u001B[0mcatch\u001B[0m\u001B[0;34m,\u001B[0m \u001B[0mgc_after_trial\u001B[0m\u001B[0;34m)\u001B[0m\u001B[0;34m\u001B[0m\u001B[0m\n\u001B[0m\u001B[1;32m    679\u001B[0m         \u001B[0;32mif\u001B[0m \u001B[0mcallbacks\u001B[0m \u001B[0;32mis\u001B[0m \u001B[0;32mnot\u001B[0m \u001B[0;32mNone\u001B[0m\u001B[0;34m:\u001B[0m\u001B[0;34m\u001B[0m\u001B[0m\n\u001B[1;32m    680\u001B[0m             \u001B[0mfrozen_trial\u001B[0m \u001B[0;34m=\u001B[0m \u001B[0mself\u001B[0m\u001B[0;34m.\u001B[0m\u001B[0m_storage\u001B[0m\u001B[0;34m.\u001B[0m\u001B[0mget_trial\u001B[0m\u001B[0;34m(\u001B[0m\u001B[0mtrial\u001B[0m\u001B[0;34m.\u001B[0m\u001B[0m_trial_id\u001B[0m\u001B[0;34m)\u001B[0m\u001B[0;34m\u001B[0m\u001B[0m\n",
      "\u001B[0;32m~/ZPP/nasze-ca/models/venv/lib/python3.5/site-packages/optuna/study.py\u001B[0m in \u001B[0;36m_run_trial\u001B[0;34m(self, func, catch, gc_after_trial)\u001B[0m\n\u001B[1;32m    697\u001B[0m \u001B[0;34m\u001B[0m\u001B[0m\n\u001B[1;32m    698\u001B[0m         \u001B[0;32mtry\u001B[0m\u001B[0;34m:\u001B[0m\u001B[0;34m\u001B[0m\u001B[0m\n\u001B[0;32m--> 699\u001B[0;31m             \u001B[0mresult\u001B[0m \u001B[0;34m=\u001B[0m \u001B[0mfunc\u001B[0m\u001B[0;34m(\u001B[0m\u001B[0mtrial\u001B[0m\u001B[0;34m)\u001B[0m\u001B[0;34m\u001B[0m\u001B[0m\n\u001B[0m\u001B[1;32m    700\u001B[0m         \u001B[0;32mexcept\u001B[0m \u001B[0mexceptions\u001B[0m\u001B[0;34m.\u001B[0m\u001B[0mTrialPruned\u001B[0m \u001B[0;32mas\u001B[0m \u001B[0me\u001B[0m\u001B[0;34m:\u001B[0m\u001B[0;34m\u001B[0m\u001B[0m\n\u001B[1;32m    701\u001B[0m             message = \"Setting status of trial#{} as {}. {}\".format(\n",
      "\u001B[0;32m<ipython-input-12-c992a25b62bf>\u001B[0m in \u001B[0;36mobjective\u001B[0;34m(trial)\u001B[0m\n\u001B[1;32m     13\u001B[0m         \u001B[0mvalid_sets\u001B[0m\u001B[0;34m=\u001B[0m\u001B[0;34m[\u001B[0m\u001B[0mlgb_train\u001B[0m\u001B[0;34m,\u001B[0m \u001B[0mlgb_eval\u001B[0m\u001B[0;34m]\u001B[0m\u001B[0;34m,\u001B[0m\u001B[0;34m\u001B[0m\u001B[0m\n\u001B[1;32m     14\u001B[0m         \u001B[0mverbose_eval\u001B[0m\u001B[0;34m=\u001B[0m\u001B[0;32mFalse\u001B[0m\u001B[0;34m,\u001B[0m\u001B[0;34m\u001B[0m\u001B[0m\n\u001B[0;32m---> 15\u001B[0;31m         \u001B[0mearly_stopping_rounds\u001B[0m\u001B[0;34m=\u001B[0m\u001B[0;36m5\u001B[0m\u001B[0;34m,\u001B[0m\u001B[0;34m\u001B[0m\u001B[0m\n\u001B[0m\u001B[1;32m     16\u001B[0m     )\n\u001B[1;32m     17\u001B[0m     \u001B[0;31m# PREDICT AND EVAL\u001B[0m\u001B[0;34m\u001B[0m\u001B[0;34m\u001B[0m\u001B[0m\n",
      "\u001B[0;32m~/ZPP/nasze-ca/models/venv/lib/python3.5/site-packages/optuna/_experimental.py\u001B[0m in \u001B[0;36mnew_func\u001B[0;34m(*args, **kwargs)\u001B[0m\n\u001B[1;32m     91\u001B[0m                 )\n\u001B[1;32m     92\u001B[0m \u001B[0;34m\u001B[0m\u001B[0m\n\u001B[0;32m---> 93\u001B[0;31m                 \u001B[0;32mreturn\u001B[0m \u001B[0mfunc\u001B[0m\u001B[0;34m(\u001B[0m\u001B[0;34m*\u001B[0m\u001B[0margs\u001B[0m\u001B[0;34m,\u001B[0m \u001B[0;34m**\u001B[0m\u001B[0mkwargs\u001B[0m\u001B[0;34m)\u001B[0m  \u001B[0;31m# type: ignore\u001B[0m\u001B[0;34m\u001B[0m\u001B[0m\n\u001B[0m\u001B[1;32m     94\u001B[0m \u001B[0;34m\u001B[0m\u001B[0m\n\u001B[1;32m     95\u001B[0m             \u001B[0;32mreturn\u001B[0m \u001B[0mnew_func\u001B[0m\u001B[0;34m\u001B[0m\u001B[0m\n",
      "\u001B[0;32m~/ZPP/nasze-ca/models/venv/lib/python3.5/site-packages/optuna/integration/lightgbm_tuner/__init__.py\u001B[0m in \u001B[0;36mtrain\u001B[0;34m(*args, **kwargs)\u001B[0m\n\u001B[1;32m     32\u001B[0m \u001B[0;34m\u001B[0m\u001B[0m\n\u001B[1;32m     33\u001B[0m     \u001B[0mauto_booster\u001B[0m \u001B[0;34m=\u001B[0m \u001B[0mLightGBMTuner\u001B[0m\u001B[0;34m(\u001B[0m\u001B[0;34m*\u001B[0m\u001B[0margs\u001B[0m\u001B[0;34m,\u001B[0m \u001B[0;34m**\u001B[0m\u001B[0mkwargs\u001B[0m\u001B[0;34m)\u001B[0m\u001B[0;34m\u001B[0m\u001B[0m\n\u001B[0;32m---> 34\u001B[0;31m     \u001B[0mauto_booster\u001B[0m\u001B[0;34m.\u001B[0m\u001B[0mrun\u001B[0m\u001B[0;34m(\u001B[0m\u001B[0;34m)\u001B[0m\u001B[0;34m\u001B[0m\u001B[0m\n\u001B[0m\u001B[1;32m     35\u001B[0m     \u001B[0;32mreturn\u001B[0m \u001B[0mauto_booster\u001B[0m\u001B[0;34m.\u001B[0m\u001B[0mget_best_booster\u001B[0m\u001B[0;34m(\u001B[0m\u001B[0;34m)\u001B[0m\u001B[0;34m\u001B[0m\u001B[0m\n\u001B[1;32m     36\u001B[0m \u001B[0;34m\u001B[0m\u001B[0m\n",
      "\u001B[0;32m~/ZPP/nasze-ca/models/venv/lib/python3.5/site-packages/optuna/integration/lightgbm_tuner/optimize.py\u001B[0m in \u001B[0;36mrun\u001B[0;34m(self)\u001B[0m\n\u001B[1;32m    548\u001B[0m         \u001B[0mself\u001B[0m\u001B[0;34m.\u001B[0m\u001B[0msample_train_set\u001B[0m\u001B[0;34m(\u001B[0m\u001B[0;34m)\u001B[0m\u001B[0;34m\u001B[0m\u001B[0m\n\u001B[1;32m    549\u001B[0m \u001B[0;34m\u001B[0m\u001B[0m\n\u001B[0;32m--> 550\u001B[0;31m         \u001B[0mself\u001B[0m\u001B[0;34m.\u001B[0m\u001B[0mtune_feature_fraction\u001B[0m\u001B[0;34m(\u001B[0m\u001B[0;34m)\u001B[0m\u001B[0;34m\u001B[0m\u001B[0m\n\u001B[0m\u001B[1;32m    551\u001B[0m         \u001B[0mself\u001B[0m\u001B[0;34m.\u001B[0m\u001B[0mtune_num_leaves\u001B[0m\u001B[0;34m(\u001B[0m\u001B[0;34m)\u001B[0m\u001B[0;34m\u001B[0m\u001B[0m\n\u001B[1;32m    552\u001B[0m         \u001B[0mself\u001B[0m\u001B[0;34m.\u001B[0m\u001B[0mtune_bagging\u001B[0m\u001B[0;34m(\u001B[0m\u001B[0;34m)\u001B[0m\u001B[0;34m\u001B[0m\u001B[0m\n",
      "\u001B[0;32m~/ZPP/nasze-ca/models/venv/lib/python3.5/site-packages/optuna/integration/lightgbm_tuner/optimize.py\u001B[0m in \u001B[0;36mtune_feature_fraction\u001B[0;34m(self, n_trials)\u001B[0m\n\u001B[1;32m    579\u001B[0m             \u001B[0mwarnings\u001B[0m\u001B[0;34m.\u001B[0m\u001B[0msimplefilter\u001B[0m\u001B[0;34m(\u001B[0m\u001B[0;34m\"ignore\"\u001B[0m\u001B[0;34m,\u001B[0m \u001B[0mcategory\u001B[0m\u001B[0;34m=\u001B[0m\u001B[0moptuna\u001B[0m\u001B[0;34m.\u001B[0m\u001B[0mexceptions\u001B[0m\u001B[0;34m.\u001B[0m\u001B[0mExperimentalWarning\u001B[0m\u001B[0;34m)\u001B[0m\u001B[0;34m\u001B[0m\u001B[0m\n\u001B[1;32m    580\u001B[0m             \u001B[0msampler\u001B[0m \u001B[0;34m=\u001B[0m \u001B[0moptuna\u001B[0m\u001B[0;34m.\u001B[0m\u001B[0msamplers\u001B[0m\u001B[0;34m.\u001B[0m\u001B[0mGridSampler\u001B[0m\u001B[0;34m(\u001B[0m\u001B[0;34m{\u001B[0m\u001B[0mparam_name\u001B[0m\u001B[0;34m:\u001B[0m \u001B[0mparam_values\u001B[0m\u001B[0;34m}\u001B[0m\u001B[0;34m)\u001B[0m\u001B[0;34m\u001B[0m\u001B[0m\n\u001B[0;32m--> 581\u001B[0;31m         \u001B[0mself\u001B[0m\u001B[0;34m.\u001B[0m\u001B[0mtune_params\u001B[0m\u001B[0;34m(\u001B[0m\u001B[0;34m[\u001B[0m\u001B[0mparam_name\u001B[0m\u001B[0;34m]\u001B[0m\u001B[0;34m,\u001B[0m \u001B[0mlen\u001B[0m\u001B[0;34m(\u001B[0m\u001B[0mparam_values\u001B[0m\u001B[0;34m)\u001B[0m\u001B[0;34m,\u001B[0m \u001B[0msampler\u001B[0m\u001B[0;34m,\u001B[0m \u001B[0;34m\"feature_fraction\"\u001B[0m\u001B[0;34m)\u001B[0m\u001B[0;34m\u001B[0m\u001B[0m\n\u001B[0m\u001B[1;32m    582\u001B[0m \u001B[0;34m\u001B[0m\u001B[0m\n\u001B[1;32m    583\u001B[0m     \u001B[0;32mdef\u001B[0m \u001B[0mtune_num_leaves\u001B[0m\u001B[0;34m(\u001B[0m\u001B[0mself\u001B[0m\u001B[0;34m,\u001B[0m \u001B[0mn_trials\u001B[0m\u001B[0;34m=\u001B[0m\u001B[0;36m20\u001B[0m\u001B[0;34m)\u001B[0m\u001B[0;34m:\u001B[0m\u001B[0;34m\u001B[0m\u001B[0m\n",
      "\u001B[0;32m~/ZPP/nasze-ca/models/venv/lib/python3.5/site-packages/optuna/integration/lightgbm_tuner/optimize.py\u001B[0m in \u001B[0;36mtune_params\u001B[0;34m(self, target_param_names, n_trials, sampler, step_name)\u001B[0m\n\u001B[1;32m    678\u001B[0m                     \u001B[0mtimeout\u001B[0m\u001B[0;34m=\u001B[0m\u001B[0m_timeout\u001B[0m\u001B[0;34m,\u001B[0m\u001B[0;34m\u001B[0m\u001B[0m\n\u001B[1;32m    679\u001B[0m                     \u001B[0mcatch\u001B[0m\u001B[0;34m=\u001B[0m\u001B[0;34m(\u001B[0m\u001B[0;34m)\u001B[0m\u001B[0;34m,\u001B[0m\u001B[0;34m\u001B[0m\u001B[0m\n\u001B[0;32m--> 680\u001B[0;31m                     \u001B[0mcallbacks\u001B[0m\u001B[0;34m=\u001B[0m\u001B[0mself\u001B[0m\u001B[0;34m.\u001B[0m\u001B[0m_optuna_callbacks\u001B[0m\u001B[0;34m,\u001B[0m\u001B[0;34m\u001B[0m\u001B[0m\n\u001B[0m\u001B[1;32m    681\u001B[0m                 )\n\u001B[1;32m    682\u001B[0m             \u001B[0;32mexcept\u001B[0m \u001B[0mValueError\u001B[0m\u001B[0;34m:\u001B[0m\u001B[0;34m\u001B[0m\u001B[0m\n",
      "\u001B[0;32m~/ZPP/nasze-ca/models/venv/lib/python3.5/site-packages/optuna/study.py\u001B[0m in \u001B[0;36moptimize\u001B[0;34m(self, func, n_trials, timeout, n_jobs, catch, callbacks, gc_after_trial, show_progress_bar)\u001B[0m\n\u001B[1;32m    332\u001B[0m             \u001B[0;32mif\u001B[0m \u001B[0mn_jobs\u001B[0m \u001B[0;34m==\u001B[0m \u001B[0;36m1\u001B[0m\u001B[0;34m:\u001B[0m\u001B[0;34m\u001B[0m\u001B[0m\n\u001B[1;32m    333\u001B[0m                 self._optimize_sequential(\n\u001B[0;32m--> 334\u001B[0;31m                     \u001B[0mfunc\u001B[0m\u001B[0;34m,\u001B[0m \u001B[0mn_trials\u001B[0m\u001B[0;34m,\u001B[0m \u001B[0mtimeout\u001B[0m\u001B[0;34m,\u001B[0m \u001B[0mcatch\u001B[0m\u001B[0;34m,\u001B[0m \u001B[0mcallbacks\u001B[0m\u001B[0;34m,\u001B[0m \u001B[0mgc_after_trial\u001B[0m\u001B[0;34m,\u001B[0m \u001B[0;32mNone\u001B[0m\u001B[0;34m\u001B[0m\u001B[0m\n\u001B[0m\u001B[1;32m    335\u001B[0m                 )\n\u001B[1;32m    336\u001B[0m             \u001B[0;32melse\u001B[0m\u001B[0;34m:\u001B[0m\u001B[0;34m\u001B[0m\u001B[0m\n",
      "\u001B[0;32m~/ZPP/nasze-ca/models/venv/lib/python3.5/site-packages/optuna/study.py\u001B[0m in \u001B[0;36m_optimize_sequential\u001B[0;34m(self, func, n_trials, timeout, catch, callbacks, gc_after_trial, time_start)\u001B[0m\n\u001B[1;32m    646\u001B[0m                     \u001B[0;32mbreak\u001B[0m\u001B[0;34m\u001B[0m\u001B[0m\n\u001B[1;32m    647\u001B[0m \u001B[0;34m\u001B[0m\u001B[0m\n\u001B[0;32m--> 648\u001B[0;31m             \u001B[0mself\u001B[0m\u001B[0;34m.\u001B[0m\u001B[0m_run_trial_and_callbacks\u001B[0m\u001B[0;34m(\u001B[0m\u001B[0mfunc\u001B[0m\u001B[0;34m,\u001B[0m \u001B[0mcatch\u001B[0m\u001B[0;34m,\u001B[0m \u001B[0mcallbacks\u001B[0m\u001B[0;34m,\u001B[0m \u001B[0mgc_after_trial\u001B[0m\u001B[0;34m)\u001B[0m\u001B[0;34m\u001B[0m\u001B[0m\n\u001B[0m\u001B[1;32m    649\u001B[0m \u001B[0;34m\u001B[0m\u001B[0m\n\u001B[1;32m    650\u001B[0m             \u001B[0mself\u001B[0m\u001B[0;34m.\u001B[0m\u001B[0m_progress_bar\u001B[0m\u001B[0;34m.\u001B[0m\u001B[0mupdate\u001B[0m\u001B[0;34m(\u001B[0m\u001B[0;34m(\u001B[0m\u001B[0mdatetime\u001B[0m\u001B[0;34m.\u001B[0m\u001B[0mdatetime\u001B[0m\u001B[0;34m.\u001B[0m\u001B[0mnow\u001B[0m\u001B[0;34m(\u001B[0m\u001B[0;34m)\u001B[0m \u001B[0;34m-\u001B[0m \u001B[0mtime_start\u001B[0m\u001B[0;34m)\u001B[0m\u001B[0;34m.\u001B[0m\u001B[0mtotal_seconds\u001B[0m\u001B[0;34m(\u001B[0m\u001B[0;34m)\u001B[0m\u001B[0;34m)\u001B[0m\u001B[0;34m\u001B[0m\u001B[0m\n",
      "\u001B[0;32m~/ZPP/nasze-ca/models/venv/lib/python3.5/site-packages/optuna/study.py\u001B[0m in \u001B[0;36m_run_trial_and_callbacks\u001B[0;34m(self, func, catch, callbacks, gc_after_trial)\u001B[0m\n\u001B[1;32m    676\u001B[0m         \u001B[0;31m# type: (...) -> None\u001B[0m\u001B[0;34m\u001B[0m\u001B[0;34m\u001B[0m\u001B[0m\n\u001B[1;32m    677\u001B[0m \u001B[0;34m\u001B[0m\u001B[0m\n\u001B[0;32m--> 678\u001B[0;31m         \u001B[0mtrial\u001B[0m \u001B[0;34m=\u001B[0m \u001B[0mself\u001B[0m\u001B[0;34m.\u001B[0m\u001B[0m_run_trial\u001B[0m\u001B[0;34m(\u001B[0m\u001B[0mfunc\u001B[0m\u001B[0;34m,\u001B[0m \u001B[0mcatch\u001B[0m\u001B[0;34m,\u001B[0m \u001B[0mgc_after_trial\u001B[0m\u001B[0;34m)\u001B[0m\u001B[0;34m\u001B[0m\u001B[0m\n\u001B[0m\u001B[1;32m    679\u001B[0m         \u001B[0;32mif\u001B[0m \u001B[0mcallbacks\u001B[0m \u001B[0;32mis\u001B[0m \u001B[0;32mnot\u001B[0m \u001B[0;32mNone\u001B[0m\u001B[0;34m:\u001B[0m\u001B[0;34m\u001B[0m\u001B[0m\n\u001B[1;32m    680\u001B[0m             \u001B[0mfrozen_trial\u001B[0m \u001B[0;34m=\u001B[0m \u001B[0mself\u001B[0m\u001B[0;34m.\u001B[0m\u001B[0m_storage\u001B[0m\u001B[0;34m.\u001B[0m\u001B[0mget_trial\u001B[0m\u001B[0;34m(\u001B[0m\u001B[0mtrial\u001B[0m\u001B[0;34m.\u001B[0m\u001B[0m_trial_id\u001B[0m\u001B[0;34m)\u001B[0m\u001B[0;34m\u001B[0m\u001B[0m\n",
      "\u001B[0;32m~/ZPP/nasze-ca/models/venv/lib/python3.5/site-packages/optuna/study.py\u001B[0m in \u001B[0;36m_run_trial\u001B[0;34m(self, func, catch, gc_after_trial)\u001B[0m\n\u001B[1;32m    697\u001B[0m \u001B[0;34m\u001B[0m\u001B[0m\n\u001B[1;32m    698\u001B[0m         \u001B[0;32mtry\u001B[0m\u001B[0;34m:\u001B[0m\u001B[0;34m\u001B[0m\u001B[0m\n\u001B[0;32m--> 699\u001B[0;31m             \u001B[0mresult\u001B[0m \u001B[0;34m=\u001B[0m \u001B[0mfunc\u001B[0m\u001B[0;34m(\u001B[0m\u001B[0mtrial\u001B[0m\u001B[0;34m)\u001B[0m\u001B[0;34m\u001B[0m\u001B[0m\n\u001B[0m\u001B[1;32m    700\u001B[0m         \u001B[0;32mexcept\u001B[0m \u001B[0mexceptions\u001B[0m\u001B[0;34m.\u001B[0m\u001B[0mTrialPruned\u001B[0m \u001B[0;32mas\u001B[0m \u001B[0me\u001B[0m\u001B[0;34m:\u001B[0m\u001B[0;34m\u001B[0m\u001B[0m\n\u001B[1;32m    701\u001B[0m             message = \"Setting status of trial#{} as {}. {}\".format(\n",
      "\u001B[0;32m~/ZPP/nasze-ca/models/venv/lib/python3.5/site-packages/optuna/integration/lightgbm_tuner/optimize.py\u001B[0m in \u001B[0;36m__call__\u001B[0;34m(self, trial)\u001B[0m\n\u001B[1;32m    229\u001B[0m \u001B[0;34m\u001B[0m\u001B[0m\n\u001B[1;32m    230\u001B[0m         \u001B[0mstart_time\u001B[0m \u001B[0;34m=\u001B[0m \u001B[0mtime\u001B[0m\u001B[0;34m.\u001B[0m\u001B[0mtime\u001B[0m\u001B[0;34m(\u001B[0m\u001B[0;34m)\u001B[0m\u001B[0;34m\u001B[0m\u001B[0m\n\u001B[0;32m--> 231\u001B[0;31m         \u001B[0mbooster\u001B[0m \u001B[0;34m=\u001B[0m \u001B[0mlgb\u001B[0m\u001B[0;34m.\u001B[0m\u001B[0mtrain\u001B[0m\u001B[0;34m(\u001B[0m\u001B[0mself\u001B[0m\u001B[0;34m.\u001B[0m\u001B[0mlgbm_params\u001B[0m\u001B[0;34m,\u001B[0m \u001B[0mself\u001B[0m\u001B[0;34m.\u001B[0m\u001B[0mtrain_set\u001B[0m\u001B[0;34m,\u001B[0m \u001B[0;34m**\u001B[0m\u001B[0mself\u001B[0m\u001B[0;34m.\u001B[0m\u001B[0mlgbm_kwargs\u001B[0m\u001B[0;34m)\u001B[0m\u001B[0;34m\u001B[0m\u001B[0m\n\u001B[0m\u001B[1;32m    232\u001B[0m \u001B[0;34m\u001B[0m\u001B[0m\n\u001B[1;32m    233\u001B[0m         \u001B[0mval_score\u001B[0m \u001B[0;34m=\u001B[0m \u001B[0mself\u001B[0m\u001B[0;34m.\u001B[0m\u001B[0m_get_booster_best_score\u001B[0m\u001B[0;34m(\u001B[0m\u001B[0mbooster\u001B[0m\u001B[0;34m)\u001B[0m\u001B[0;34m\u001B[0m\u001B[0m\n",
      "\u001B[0;32m~/ZPP/nasze-ca/models/venv/lib/python3.5/site-packages/lightgbm/engine.py\u001B[0m in \u001B[0;36mtrain\u001B[0;34m(params, train_set, num_boost_round, valid_sets, valid_names, fobj, feval, init_model, feature_name, categorical_feature, early_stopping_rounds, evals_result, verbose_eval, learning_rates, keep_training_booster, callbacks)\u001B[0m\n\u001B[1;32m    247\u001B[0m                                     evaluation_result_list=None))\n\u001B[1;32m    248\u001B[0m \u001B[0;34m\u001B[0m\u001B[0m\n\u001B[0;32m--> 249\u001B[0;31m         \u001B[0mbooster\u001B[0m\u001B[0;34m.\u001B[0m\u001B[0mupdate\u001B[0m\u001B[0;34m(\u001B[0m\u001B[0mfobj\u001B[0m\u001B[0;34m=\u001B[0m\u001B[0mfobj\u001B[0m\u001B[0;34m)\u001B[0m\u001B[0;34m\u001B[0m\u001B[0m\n\u001B[0m\u001B[1;32m    250\u001B[0m \u001B[0;34m\u001B[0m\u001B[0m\n\u001B[1;32m    251\u001B[0m         \u001B[0mevaluation_result_list\u001B[0m \u001B[0;34m=\u001B[0m \u001B[0;34m[\u001B[0m\u001B[0;34m]\u001B[0m\u001B[0;34m\u001B[0m\u001B[0m\n",
      "\u001B[0;32m~/ZPP/nasze-ca/models/venv/lib/python3.5/site-packages/lightgbm/basic.py\u001B[0m in \u001B[0;36mupdate\u001B[0;34m(self, train_set, fobj)\u001B[0m\n\u001B[1;32m   1974\u001B[0m             _safe_call(_LIB.LGBM_BoosterUpdateOneIter(\n\u001B[1;32m   1975\u001B[0m                 \u001B[0mself\u001B[0m\u001B[0;34m.\u001B[0m\u001B[0mhandle\u001B[0m\u001B[0;34m,\u001B[0m\u001B[0;34m\u001B[0m\u001B[0m\n\u001B[0;32m-> 1976\u001B[0;31m                 ctypes.byref(is_finished)))\n\u001B[0m\u001B[1;32m   1977\u001B[0m             \u001B[0mself\u001B[0m\u001B[0;34m.\u001B[0m\u001B[0m__is_predicted_cur_iter\u001B[0m \u001B[0;34m=\u001B[0m \u001B[0;34m[\u001B[0m\u001B[0;32mFalse\u001B[0m \u001B[0;32mfor\u001B[0m \u001B[0m_\u001B[0m \u001B[0;32min\u001B[0m \u001B[0mrange_\u001B[0m\u001B[0;34m(\u001B[0m\u001B[0mself\u001B[0m\u001B[0;34m.\u001B[0m\u001B[0m__num_dataset\u001B[0m\u001B[0;34m)\u001B[0m\u001B[0;34m]\u001B[0m\u001B[0;34m\u001B[0m\u001B[0m\n\u001B[1;32m   1978\u001B[0m             \u001B[0;32mreturn\u001B[0m \u001B[0mis_finished\u001B[0m\u001B[0;34m.\u001B[0m\u001B[0mvalue\u001B[0m \u001B[0;34m==\u001B[0m \u001B[0;36m1\u001B[0m\u001B[0;34m\u001B[0m\u001B[0m\n",
      "\u001B[0;31mKeyboardInterrupt\u001B[0m: "
     ]
    }
   ]
  },
  {
   "cell_type": "code",
   "metadata": {
    "id": "N_a-Y3peIZoC",
    "colab_type": "code",
    "colab": {}
   },
   "source": [
    "neptune.stop()"
   ],
   "execution_count": 0,
   "outputs": []
  }
 ]
}