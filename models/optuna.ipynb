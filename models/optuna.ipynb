{
 "cells": [
  {
   "cell_type": "code",
   "execution_count": null,
   "metadata": {},
   "outputs": [],
   "source": [
    "!pip install lightgbm\n",
    "!pip install optuna\n",
    "!pip install pandas\n",
    "!pip install neptune-client neptune-contrib[\"monitoring\"]\n",
    "!pip install sklearn\n",
    "!pip install numpy"
   ]
  },
  {
   "cell_type": "code",
   "execution_count": 1,
   "metadata": {
    "colab": {},
    "colab_type": "code",
    "id": "GxU10UxXh6fJ"
   },
   "outputs": [],
   "source": [
    "import optuna\n",
    "#import optuna.integration.lightgbm as lgb\n",
    "import lightgbm as lgb\n",
    "import itertools\n",
    "import json\n",
    "from sklearn.metrics import mean_squared_error\n",
    "import neptune\n",
    "import pandas as pd\n",
    "\n",
    "import warnings\n",
    "\n",
    "import numpy as np\n",
    "warnings.filterwarnings(\"ignore\")"
   ]
  },
  {
   "cell_type": "code",
   "execution_count": 2,
   "metadata": {
    "colab": {},
    "colab_type": "code",
    "id": "8GJIvnQRig8d"
   },
   "outputs": [],
   "source": [
    "def read_data(dataset_path, mode):\n",
    "    print('Read dataset for ' + mode + ' from file ' + dataset_path + mode + '.csv')\n",
    "    dataset = pd.read_csv(dataset_path + mode + '.csv')\n",
    "    dataset = dataset.drop(['Unnamed: 0'], axis=1)\n",
    "    return dataset.drop(['y'], axis=1), dataset['y']"
   ]
  },
  {
   "cell_type": "code",
   "execution_count": 3,
   "metadata": {
    "colab": {},
    "colab_type": "code",
    "id": "3XpM47i00ySy"
   },
   "outputs": [],
   "source": [
    "import neptunecontrib.monitoring.optuna as opt_utils\n",
    "neptune_monitor_optuna = opt_utils.NeptuneMonitor()"
   ]
  },
  {
   "cell_type": "code",
   "execution_count": 4,
   "metadata": {
    "colab": {},
    "colab_type": "code",
    "id": "aOrdj0rUh6fY",
    "pycharm": {
     "name": "#%%\n"
    }
   },
   "outputs": [],
   "source": [
    "def mean_absolute_percentage_error(y_true, y_pred):\n",
    "    y_true, y_pred = np.array(y_true), np.array(y_pred)\n",
    "    return np.mean(np.abs((y_true - y_pred) / y_true)) * 100"
   ]
  },
  {
   "cell_type": "code",
   "execution_count": 5,
   "metadata": {
    "colab": {
     "base_uri": "https://localhost:8080/",
     "height": 106
    },
    "colab_type": "code",
    "id": "AM23fYhzh6fl",
    "outputId": "d379e445-223d-497b-a110-7fd724f77bf0",
    "pycharm": {
     "name": "#%%\n"
    }
   },
   "outputs": [
    {
     "name": "stdout",
     "output_type": "stream",
     "text": [
      "Loading data...\n",
      "Read dataset for train from file train.csv\n",
      "Read dataset for eval from file eval.csv\n"
     ]
    }
   ],
   "source": [
    "print('Loading data...')\n",
    "x_train, y_train = read_data('', 'train')\n",
    "x_eval, y_eval = read_data('', 'eval')\n",
    "\n",
    "neptune.init('kowson/OLN')\n",
    "\n",
    "used_params = []"
   ]
  },
  {
   "cell_type": "code",
   "execution_count": 6,
   "metadata": {
    "colab": {
     "base_uri": "https://localhost:8080/",
     "height": 34
    },
    "colab_type": "code",
    "id": "ZvVACdjOh6fx",
    "outputId": "a8a9f36c-bb69-4ed1-d784-060d37fe6507",
    "pycharm": {
     "name": "#%%\n"
    }
   },
   "outputs": [
    {
     "name": "stdout",
     "output_type": "stream",
     "text": [
      "Preparing LightGBM datasets...\n"
     ]
    }
   ],
   "source": [
    "print('Preparing LightGBM datasets...')\n",
    "lgb_train = lgb.Dataset(x_train, y_train)\n",
    "lgb_eval = lgb.Dataset(x_eval, y_eval, reference=lgb_train)\n"
   ]
  },
  {
   "cell_type": "code",
   "execution_count": null,
   "metadata": {
    "colab": {},
    "colab_type": "code",
    "id": "JrG20BtRh6f5",
    "pycharm": {
     "name": "#%% NEPTUNE INTEGRATION\n"
    }
   },
   "outputs": [],
   "source": [
    "TAGS = ['lightgbm', 'data_v5', '200k_uniform', 'mape', 'relative', 'optimization', 'optuna']\n",
    "\n",
    "def neptune_monitor():\n",
    "    def callback(env):\n",
    "        for name, loss_name, loss_value, _ in env.evaluation_result_list:\n",
    "            neptune.send_metric('{}_{}'.format(name, loss_name), x=env.iteration, y=loss_value)\n",
    "    return callback\n"
   ]
  },
  {
   "cell_type": "code",
   "execution_count": null,
   "metadata": {
    "colab": {},
    "colab_type": "code",
    "id": "pR2YxdYBh6gS",
    "pycharm": {
     "name": "#%% TRAINING\n"
    }
   },
   "outputs": [],
   "source": [
    "print(\"Training...\")\n",
    "try:\n",
    "    with open('lgb_params.json') as data_file:    \n",
    "        used_params = json.load(data_file)\n",
    "except (FileNotFoundError, json.JSONDecodeError): \n",
    "    used_params = []\n",
    "keys, values = zip(*params_dict.items())\n",
    "for v in itertools.product(*values):\n",
    "    experiment_params = dict(zip(keys, v))\n",
    "    if any(param_dict == experiment_params for param_dict in used_params):\n",
    "        continue  # skip already computed\n",
    "    neptune.create_experiment(\n",
    "        name='LightGBM regressor with relative doses', \n",
    "        params=experiment_params,\n",
    "        tags=TAGS\n",
    "    )\n",
    "    gbm = lgb.train(\n",
    "        params=experiment_params, \n",
    "        train_set=lgb_train, \n",
    "        valid_sets=[lgb_train, lgb_eval],\n",
    "        verbose_eval=False,\n",
    "        early_stopping_rounds=5,\n",
    "        callbacks=[neptune_monitor()],\n",
    "    )\n",
    "    # PREDICT AND EVAL\n",
    "    y_pred = gbm.predict(x_eval, num_iteration=gbm.best_iteration)\n",
    "    error = mean_squared_error(y_eval, y_pred) ** 0.5\n",
    "    print(\"RMSE of prediction is: {}\".format(error))\n",
    "    neptune.log_text('rmse', str(error))\n",
    "    error = mean_absolute_percentage_error(y_eval, y_pred)\n",
    "    print(\"MAPE of prediction is: {}\".format(error))\n",
    "    neptune.log_text('mape', str(error))\n",
    "    neptune.stop()\n",
    "    used_params.append(experiment_params)\n",
    "    with open('lgb_params.json', 'w') as outfile:\n",
    "        json.dump(used_params, outfile, sort_keys=True, indent=4)"
   ]
  },
  {
   "cell_type": "code",
   "execution_count": 7,
   "metadata": {
    "colab": {},
    "colab_type": "code",
    "id": "NpJHBWy71SEY"
   },
   "outputs": [],
   "source": [
    "def objective(trial):\n",
    "    param = {\n",
    "        'objective': 'regression',\n",
    "        'metric': 'l2',\n",
    "        'boosting_type': trial.suggest_categorical('boosting_type', ['gbdt', 'goss', 'dart']),\n",
    "        'num_leaves': trial.suggest_int('num_leaves', 20, 256),\n",
    "        'num_rounds': trial.suggest_int('num_rounds', 100, 700),\n",
    "        'learning_rate': trial.suggest_loguniform('learning_rate', 1e-3, 0.5),\n",
    "        'min_data_in_leaf': trial.suggest_int('min_data_in_leaf', 20, 100),\n",
    "        'verbose': 0,\n",
    "    }\n",
    "    gbm = lgb.train(\n",
    "        params=param, \n",
    "        train_set=lgb_train, \n",
    "        valid_sets=[lgb_train, lgb_eval],\n",
    "        verbose_eval=False,\n",
    "        early_stopping_rounds=5,\n",
    "    )\n",
    "    # PREDICT AND EVAL\n",
    "    y_pred = gbm.predict(x_eval, num_iteration=gbm.best_iteration)\n",
    "    #error = mean_squared_error(y_eval, y_pred) ** 0.5\n",
    "    #print(\"RMSE of prediction is: {}\".format(error))\n",
    "    #neptune.log_text('rmse', str(error))\n",
    "    error = mean_absolute_percentage_error(y_eval, y_pred)\n",
    "    print(\"MAPE of prediction is: {}\".format(error))\n",
    "    neptune.log_metric('mape_error', error)\n",
    "    #neptune.stop()\n",
    "    return error"
   ]
  },
  {
   "cell_type": "code",
   "execution_count": 8,
   "metadata": {
    "colab": {
     "base_uri": "https://localhost:8080/",
     "height": 347
    },
    "colab_type": "code",
    "id": "y1H-TQ6x3sB2",
    "outputId": "64be390f-7041-4873-9217-b63d6a7d5358"
   },
   "outputs": [
    {
     "name": "stdout",
     "output_type": "stream",
     "text": [
      "Optimizing...\n",
      "https://ui.neptune.ai/kowson/OLN/e/OLN-3190\n",
      "MAPE of prediction is: 6.672050006002464\n"
     ]
    },
    {
     "name": "stderr",
     "output_type": "stream",
     "text": [
      "[I 2020-05-22 15:12:00,719] Finished trial#0 with value: 6.672050006002464 with parameters: {'boosting_type': 'goss', 'num_leaves': 214, 'num_rounds': 230, 'learning_rate': 0.0011054536505026786, 'min_data_in_leaf': 41}. Best is trial#0 with value: 6.672050006002464.\n"
     ]
    },
    {
     "name": "stdout",
     "output_type": "stream",
     "text": [
      "MAPE of prediction is: 2.8135853023804027\n"
     ]
    },
    {
     "name": "stderr",
     "output_type": "stream",
     "text": [
      "[I 2020-05-22 15:12:39,664] Finished trial#1 with value: 2.8135853023804027 with parameters: {'boosting_type': 'gbdt', 'num_leaves': 223, 'num_rounds': 437, 'learning_rate': 0.01907882816340135, 'min_data_in_leaf': 94}. Best is trial#1 with value: 2.8135853023804027.\n"
     ]
    },
    {
     "name": "stdout",
     "output_type": "stream",
     "text": [
      "MAPE of prediction is: 60.96925338894776\n"
     ]
    },
    {
     "name": "stderr",
     "output_type": "stream",
     "text": [
      "[I 2020-05-22 15:19:07,152] Finished trial#2 with value: 60.96925338894776 with parameters: {'boosting_type': 'dart', 'num_leaves': 246, 'num_rounds': 577, 'learning_rate': 0.0014799570064447827, 'min_data_in_leaf': 88}. Best is trial#1 with value: 2.8135853023804027.\n"
     ]
    },
    {
     "name": "stdout",
     "output_type": "stream",
     "text": [
      "MAPE of prediction is: 6.600147521442374\n"
     ]
    },
    {
     "name": "stderr",
     "output_type": "stream",
     "text": [
      "[I 2020-05-22 15:19:32,094] Finished trial#3 with value: 6.600147521442374 with parameters: {'boosting_type': 'goss', 'num_leaves': 230, 'num_rounds': 233, 'learning_rate': 0.0012227734480289305, 'min_data_in_leaf': 30}. Best is trial#1 with value: 2.8135853023804027.\n"
     ]
    },
    {
     "name": "stdout",
     "output_type": "stream",
     "text": [
      "MAPE of prediction is: 6.090963107308641\n"
     ]
    },
    {
     "name": "stderr",
     "output_type": "stream",
     "text": [
      "[I 2020-05-22 15:19:48,983] Finished trial#4 with value: 6.090963107308641 with parameters: {'boosting_type': 'gbdt', 'num_leaves': 90, 'num_rounds': 290, 'learning_rate': 0.0025489649481855964, 'min_data_in_leaf': 38}. Best is trial#1 with value: 2.8135853023804027.\n"
     ]
    },
    {
     "name": "stdout",
     "output_type": "stream",
     "text": [
      "MAPE of prediction is: 2.122515062935319\n"
     ]
    },
    {
     "name": "stderr",
     "output_type": "stream",
     "text": [
      "[I 2020-05-22 15:20:28,717] Finished trial#5 with value: 2.122515062935319 with parameters: {'boosting_type': 'gbdt', 'num_leaves': 241, 'num_rounds': 599, 'learning_rate': 0.09676939614306602, 'min_data_in_leaf': 46}. Best is trial#5 with value: 2.122515062935319.\n"
     ]
    },
    {
     "name": "stdout",
     "output_type": "stream",
     "text": [
      "MAPE of prediction is: 10.003739478709855\n"
     ]
    },
    {
     "name": "stderr",
     "output_type": "stream",
     "text": [
      "[I 2020-05-22 15:25:17,711] Finished trial#6 with value: 10.003739478709855 with parameters: {'boosting_type': 'dart', 'num_leaves': 148, 'num_rounds': 533, 'learning_rate': 0.019621224662715552, 'min_data_in_leaf': 99}. Best is trial#5 with value: 2.122515062935319.\n"
     ]
    },
    {
     "name": "stdout",
     "output_type": "stream",
     "text": [
      "MAPE of prediction is: 5.539057400212173\n"
     ]
    },
    {
     "name": "stderr",
     "output_type": "stream",
     "text": [
      "[I 2020-05-22 15:25:26,750] Finished trial#7 with value: 5.539057400212173 with parameters: {'boosting_type': 'goss', 'num_leaves': 224, 'num_rounds': 685, 'learning_rate': 0.012100796199123718, 'min_data_in_leaf': 34}. Best is trial#5 with value: 2.122515062935319.\n"
     ]
    },
    {
     "name": "stdout",
     "output_type": "stream",
     "text": [
      "MAPE of prediction is: 4.604765125800944\n"
     ]
    },
    {
     "name": "stderr",
     "output_type": "stream",
     "text": [
      "[I 2020-05-22 15:29:48,195] Finished trial#8 with value: 4.604765125800944 with parameters: {'boosting_type': 'dart', 'num_leaves': 185, 'num_rounds': 480, 'learning_rate': 0.05044884202184086, 'min_data_in_leaf': 72}. Best is trial#5 with value: 2.122515062935319.\n"
     ]
    },
    {
     "name": "stdout",
     "output_type": "stream",
     "text": [
      "MAPE of prediction is: 2.2097216813758926\n"
     ]
    },
    {
     "name": "stderr",
     "output_type": "stream",
     "text": [
      "[I 2020-05-22 15:30:07,271] Finished trial#9 with value: 2.2097216813758926 with parameters: {'boosting_type': 'gbdt', 'num_leaves': 125, 'num_rounds': 415, 'learning_rate': 0.19131596106525128, 'min_data_in_leaf': 86}. Best is trial#5 with value: 2.122515062935319.\n"
     ]
    },
    {
     "name": "stdout",
     "output_type": "stream",
     "text": [
      "MAPE of prediction is: 2.4685379311055327\n"
     ]
    },
    {
     "name": "stderr",
     "output_type": "stream",
     "text": [
      "[I 2020-05-22 15:30:17,358] Finished trial#10 with value: 2.4685379311055327 with parameters: {'boosting_type': 'gbdt', 'num_leaves': 47, 'num_rounds': 700, 'learning_rate': 0.4691391421211135, 'min_data_in_leaf': 56}. Best is trial#5 with value: 2.122515062935319.\n"
     ]
    },
    {
     "name": "stdout",
     "output_type": "stream",
     "text": [
      "MAPE of prediction is: 2.2428627005220867\n"
     ]
    },
    {
     "name": "stderr",
     "output_type": "stream",
     "text": [
      "[I 2020-05-22 15:30:32,916] Finished trial#11 with value: 2.2428627005220867 with parameters: {'boosting_type': 'gbdt', 'num_leaves': 118, 'num_rounds': 353, 'learning_rate': 0.20461412468237036, 'min_data_in_leaf': 58}. Best is trial#5 with value: 2.122515062935319.\n"
     ]
    },
    {
     "name": "stdout",
     "output_type": "stream",
     "text": [
      "MAPE of prediction is: 2.8031255253282623\n"
     ]
    },
    {
     "name": "stderr",
     "output_type": "stream",
     "text": [
      "[I 2020-05-22 15:30:40,909] Finished trial#12 with value: 2.8031255253282623 with parameters: {'boosting_type': 'gbdt', 'num_leaves': 159, 'num_rounds': 110, 'learning_rate': 0.09109431219648578, 'min_data_in_leaf': 76}. Best is trial#5 with value: 2.122515062935319.\n"
     ]
    },
    {
     "name": "stdout",
     "output_type": "stream",
     "text": [
      "MAPE of prediction is: 2.5656205931057756\n"
     ]
    },
    {
     "name": "stderr",
     "output_type": "stream",
     "text": [
      "[I 2020-05-22 15:30:48,492] Finished trial#13 with value: 2.5656205931057756 with parameters: {'boosting_type': 'gbdt', 'num_leaves': 90, 'num_rounds': 608, 'learning_rate': 0.43457376851679186, 'min_data_in_leaf': 48}. Best is trial#5 with value: 2.122515062935319.\n"
     ]
    },
    {
     "name": "stdout",
     "output_type": "stream",
     "text": [
      "MAPE of prediction is: 2.3786536643274516\n"
     ]
    },
    {
     "name": "stderr",
     "output_type": "stream",
     "text": [
      "[I 2020-05-22 15:31:00,599] Finished trial#14 with value: 2.3786536643274516 with parameters: {'boosting_type': 'gbdt', 'num_leaves': 34, 'num_rounds': 348, 'learning_rate': 0.13600301240619808, 'min_data_in_leaf': 72}. Best is trial#5 with value: 2.122515062935319.\n"
     ]
    },
    {
     "name": "stdout",
     "output_type": "stream",
     "text": [
      "MAPE of prediction is: 2.1828987583245993\n"
     ]
    },
    {
     "name": "stderr",
     "output_type": "stream",
     "text": [
      "[I 2020-05-22 15:31:39,293] Finished trial#15 with value: 2.1828987583245993 with parameters: {'boosting_type': 'gbdt', 'num_leaves': 122, 'num_rounds': 643, 'learning_rate': 0.05326293134902544, 'min_data_in_leaf': 23}. Best is trial#5 with value: 2.122515062935319.\n"
     ]
    },
    {
     "name": "stdout",
     "output_type": "stream",
     "text": [
      "MAPE of prediction is: 2.1598328118030747\n"
     ]
    },
    {
     "name": "stderr",
     "output_type": "stream",
     "text": [
      "[I 2020-05-22 15:32:24,276] Finished trial#16 with value: 2.1598328118030747 with parameters: {'boosting_type': 'gbdt', 'num_leaves': 173, 'num_rounds': 640, 'learning_rate': 0.05001798800352706, 'min_data_in_leaf': 21}. Best is trial#5 with value: 2.122515062935319.\n"
     ]
    },
    {
     "name": "stdout",
     "output_type": "stream",
     "text": [
      "MAPE of prediction is: 3.9588196932503443\n"
     ]
    },
    {
     "name": "stderr",
     "output_type": "stream",
     "text": [
      "[I 2020-05-22 15:33:07,627] Finished trial#17 with value: 3.9588196932503443 with parameters: {'boosting_type': 'gbdt', 'num_leaves': 190, 'num_rounds': 516, 'learning_rate': 0.0067560528830602, 'min_data_in_leaf': 21}. Best is trial#5 with value: 2.122515062935319.\n"
     ]
    },
    {
     "name": "stdout",
     "output_type": "stream",
     "text": [
      "MAPE of prediction is: 2.1307740889744617\n"
     ]
    },
    {
     "name": "stderr",
     "output_type": "stream",
     "text": [
      "[I 2020-05-22 15:33:55,777] Finished trial#18 with value: 2.1307740889744617 with parameters: {'boosting_type': 'gbdt', 'num_leaves': 183, 'num_rounds': 698, 'learning_rate': 0.050535907769841584, 'min_data_in_leaf': 48}. Best is trial#5 with value: 2.122515062935319.\n"
     ]
    },
    {
     "name": "stdout",
     "output_type": "stream",
     "text": [
      "MAPE of prediction is: 26.926795887916793\n"
     ]
    },
    {
     "name": "stderr",
     "output_type": "stream",
     "text": [
      "[I 2020-05-22 15:42:20,351] Finished trial#19 with value: 26.926795887916793 with parameters: {'boosting_type': 'dart', 'num_leaves': 197, 'num_rounds': 695, 'learning_rate': 0.006833328969904989, 'min_data_in_leaf': 45}. Best is trial#5 with value: 2.122515062935319.\n"
     ]
    },
    {
     "name": "stdout",
     "output_type": "stream",
     "text": [
      "MAPE of prediction is: 5.511593606482594\n"
     ]
    },
    {
     "name": "stderr",
     "output_type": "stream",
     "text": [
      "[I 2020-05-22 15:42:23,968] Finished trial#20 with value: 5.511593606482594 with parameters: {'boosting_type': 'goss', 'num_leaves': 250, 'num_rounds': 570, 'learning_rate': 0.032610095244854136, 'min_data_in_leaf': 51}. Best is trial#5 with value: 2.122515062935319.\n"
     ]
    },
    {
     "name": "stdout",
     "output_type": "stream",
     "text": [
      "MAPE of prediction is: 2.121627573337193\n"
     ]
    },
    {
     "name": "stderr",
     "output_type": "stream",
     "text": [
      "[I 2020-05-22 15:43:05,495] Finished trial#21 with value: 2.121627573337193 with parameters: {'boosting_type': 'gbdt', 'num_leaves': 170, 'num_rounds': 642, 'learning_rate': 0.06298910975412002, 'min_data_in_leaf': 64}. Best is trial#21 with value: 2.121627573337193.\n"
     ]
    },
    {
     "name": "stdout",
     "output_type": "stream",
     "text": [
      "MAPE of prediction is: 2.1028960808069126\n"
     ]
    },
    {
     "name": "stderr",
     "output_type": "stream",
     "text": [
      "[I 2020-05-22 15:43:42,206] Finished trial#22 with value: 2.1028960808069126 with parameters: {'boosting_type': 'gbdt', 'num_leaves': 167, 'num_rounds': 653, 'learning_rate': 0.0972389099142205, 'min_data_in_leaf': 66}. Best is trial#22 with value: 2.1028960808069126.\n"
     ]
    },
    {
     "name": "stdout",
     "output_type": "stream",
     "text": [
      "MAPE of prediction is: 2.1112550974113287\n"
     ]
    },
    {
     "name": "stderr",
     "output_type": "stream",
     "text": [
      "[I 2020-05-22 15:44:16,386] Finished trial#23 with value: 2.1112550974113287 with parameters: {'boosting_type': 'gbdt', 'num_leaves': 160, 'num_rounds': 617, 'learning_rate': 0.10291569875630872, 'min_data_in_leaf': 65}. Best is trial#22 with value: 2.1028960808069126.\n"
     ]
    },
    {
     "name": "stdout",
     "output_type": "stream",
     "text": [
      "MAPE of prediction is: 2.46514586620952\n"
     ]
    },
    {
     "name": "stderr",
     "output_type": "stream",
     "text": [
      "[I 2020-05-22 15:44:27,770] Finished trial#24 with value: 2.46514586620952 with parameters: {'boosting_type': 'gbdt', 'num_leaves': 159, 'num_rounds': 648, 'learning_rate': 0.34115840582069834, 'min_data_in_leaf': 65}. Best is trial#22 with value: 2.1028960808069126.\n"
     ]
    },
    {
     "name": "stdout",
     "output_type": "stream",
     "text": [
      "MAPE of prediction is: 2.1356833068974854\n"
     ]
    },
    {
     "name": "stderr",
     "output_type": "stream",
     "text": [
      "[I 2020-05-22 15:44:56,869] Finished trial#25 with value: 2.1356833068974854 with parameters: {'boosting_type': 'gbdt', 'num_leaves': 140, 'num_rounds': 505, 'learning_rate': 0.09192541753835684, 'min_data_in_leaf': 65}. Best is trial#22 with value: 2.1028960808069126.\n"
     ]
    },
    {
     "name": "stdout",
     "output_type": "stream",
     "text": [
      "MAPE of prediction is: 2.1984141482285\n"
     ]
    },
    {
     "name": "stderr",
     "output_type": "stream",
     "text": [
      "[I 2020-05-22 15:45:22,133] Finished trial#26 with value: 2.1984141482285 with parameters: {'boosting_type': 'gbdt', 'num_leaves': 165, 'num_rounds': 553, 'learning_rate': 0.194343678809283, 'min_data_in_leaf': 78}. Best is trial#22 with value: 2.1028960808069126.\n"
     ]
    },
    {
     "name": "stdout",
     "output_type": "stream",
     "text": [
      "MAPE of prediction is: 2.2492585954966997\n"
     ]
    },
    {
     "name": "stderr",
     "output_type": "stream",
     "text": [
      "[I 2020-05-22 15:46:13,816] Finished trial#27 with value: 2.2492585954966997 with parameters: {'boosting_type': 'gbdt', 'num_leaves': 201, 'num_rounds': 649, 'learning_rate': 0.03346101316136668, 'min_data_in_leaf': 65}. Best is trial#22 with value: 2.1028960808069126.\n"
     ]
    },
    {
     "name": "stdout",
     "output_type": "stream",
     "text": [
      "MAPE of prediction is: 2.1820981828224775\n"
     ]
    },
    {
     "name": "stderr",
     "output_type": "stream",
     "text": [
      "[I 2020-05-22 15:46:42,451] Finished trial#28 with value: 2.1820981828224775 with parameters: {'boosting_type': 'gbdt', 'num_leaves': 138, 'num_rounds': 460, 'learning_rate': 0.07592230662133204, 'min_data_in_leaf': 82}. Best is trial#22 with value: 2.1028960808069126.\n"
     ]
    },
    {
     "name": "stdout",
     "output_type": "stream",
     "text": [
      "MAPE of prediction is: 5.86026861718775\n"
     ]
    },
    {
     "name": "stderr",
     "output_type": "stream",
     "text": [
      "[I 2020-05-22 15:46:42,976] Finished trial#29 with value: 5.86026861718775 with parameters: {'boosting_type': 'goss', 'num_leaves': 102, 'num_rounds': 607, 'learning_rate': 0.2797430491745755, 'min_data_in_leaf': 61}. Best is trial#22 with value: 2.1028960808069126.\n"
     ]
    },
    {
     "name": "stdout",
     "output_type": "stream",
     "text": [
      "MAPE of prediction is: 4.207555486271426\n"
     ]
    },
    {
     "name": "stderr",
     "output_type": "stream",
     "text": [
      "[I 2020-05-22 15:46:51,289] Finished trial#30 with value: 4.207555486271426 with parameters: {'boosting_type': 'gbdt', 'num_leaves': 203, 'num_rounds': 102, 'learning_rate': 0.02803556861538506, 'min_data_in_leaf': 70}. Best is trial#22 with value: 2.1028960808069126.\n"
     ]
    },
    {
     "name": "stdout",
     "output_type": "stream",
     "text": [
      "MAPE of prediction is: 2.1202628315669516\n"
     ]
    },
    {
     "name": "stderr",
     "output_type": "stream",
     "text": [
      "[I 2020-05-22 15:47:23,538] Finished trial#31 with value: 2.1202628315669516 with parameters: {'boosting_type': 'gbdt', 'num_leaves': 170, 'num_rounds': 611, 'learning_rate': 0.13078389374327826, 'min_data_in_leaf': 54}. Best is trial#22 with value: 2.1028960808069126.\n"
     ]
    },
    {
     "name": "stdout",
     "output_type": "stream",
     "text": [
      "MAPE of prediction is: 2.13004527830001\n"
     ]
    },
    {
     "name": "stderr",
     "output_type": "stream",
     "text": [
      "[I 2020-05-22 15:47:56,301] Finished trial#32 with value: 2.13004527830001 with parameters: {'boosting_type': 'gbdt', 'num_leaves': 170, 'num_rounds': 651, 'learning_rate': 0.1508654009220868, 'min_data_in_leaf': 55}. Best is trial#22 with value: 2.1028960808069126.\n"
     ]
    },
    {
     "name": "stdout",
     "output_type": "stream",
     "text": [
      "MAPE of prediction is: 2.1173258401128066\n"
     ]
    },
    {
     "name": "stderr",
     "output_type": "stream",
     "text": [
      "[I 2020-05-22 15:48:32,048] Finished trial#33 with value: 2.1173258401128066 with parameters: {'boosting_type': 'gbdt', 'num_leaves': 211, 'num_rounds': 584, 'learning_rate': 0.11400058744907142, 'min_data_in_leaf': 61}. Best is trial#22 with value: 2.1028960808069126.\n"
     ]
    },
    {
     "name": "stdout",
     "output_type": "stream",
     "text": [
      "MAPE of prediction is: 2.137586217360168\n"
     ]
    },
    {
     "name": "stderr",
     "output_type": "stream",
     "text": [
      "[I 2020-05-22 15:49:06,007] Finished trial#34 with value: 2.137586217360168 with parameters: {'boosting_type': 'gbdt', 'num_leaves': 214, 'num_rounds': 566, 'learning_rate': 0.12465747193560668, 'min_data_in_leaf': 54}. Best is trial#22 with value: 2.1028960808069126.\n"
     ]
    },
    {
     "name": "stdout",
     "output_type": "stream",
     "text": [
      "MAPE of prediction is: 2.4008940079248915\n"
     ]
    },
    {
     "name": "stderr",
     "output_type": "stream",
     "text": [
      "[I 2020-05-22 15:49:25,096] Finished trial#35 with value: 2.4008940079248915 with parameters: {'boosting_type': 'gbdt', 'num_leaves': 208, 'num_rounds': 584, 'learning_rate': 0.30115599219268113, 'min_data_in_leaf': 60}. Best is trial#22 with value: 2.1028960808069126.\n"
     ]
    },
    {
     "name": "stdout",
     "output_type": "stream",
     "text": [
      "MAPE of prediction is: 2.5413201936975773\n"
     ]
    },
    {
     "name": "stderr",
     "output_type": "stream",
     "text": [
      "[I 2020-05-22 15:54:30,566] Finished trial#36 with value: 2.5413201936975773 with parameters: {'boosting_type': 'dart', 'num_leaves': 151, 'num_rounds': 541, 'learning_rate': 0.12256013423970422, 'min_data_in_leaf': 41}. Best is trial#22 with value: 2.1028960808069126.\n"
     ]
    },
    {
     "name": "stdout",
     "output_type": "stream",
     "text": [
      "MAPE of prediction is: 5.574434127731001\n"
     ]
    },
    {
     "name": "stderr",
     "output_type": "stream",
     "text": [
      "[I 2020-05-22 15:54:31,334] Finished trial#37 with value: 5.574434127731001 with parameters: {'boosting_type': 'goss', 'num_leaves': 238, 'num_rounds': 497, 'learning_rate': 0.222884677016789, 'min_data_in_leaf': 70}. Best is trial#22 with value: 2.1028960808069126.\n"
     ]
    },
    {
     "name": "stdout",
     "output_type": "stream",
     "text": [
      "MAPE of prediction is: 2.1141092990792663\n"
     ]
    },
    {
     "name": "stderr",
     "output_type": "stream",
     "text": [
      "[I 2020-05-22 15:55:11,593] Finished trial#38 with value: 2.1141092990792663 with parameters: {'boosting_type': 'gbdt', 'num_leaves': 187, 'num_rounds': 615, 'learning_rate': 0.07054869826100334, 'min_data_in_leaf': 52}. Best is trial#22 with value: 2.1028960808069126.\n"
     ]
    },
    {
     "name": "stdout",
     "output_type": "stream",
     "text": [
      "MAPE of prediction is: 2.698983624643842\n"
     ]
    },
    {
     "name": "stderr",
     "output_type": "stream",
     "text": [
      "[I 2020-05-22 15:56:10,209] Finished trial#39 with value: 2.698983624643842 with parameters: {'boosting_type': 'gbdt', 'num_leaves': 221, 'num_rounds': 679, 'learning_rate': 0.01400632888099636, 'min_data_in_leaf': 76}. Best is trial#22 with value: 2.1028960808069126.\n"
     ]
    },
    {
     "name": "stdout",
     "output_type": "stream",
     "text": [
      "MAPE of prediction is: 5.8254548278561575\n"
     ]
    },
    {
     "name": "stderr",
     "output_type": "stream",
     "text": [
      "[I 2020-05-22 16:00:06,180] Finished trial#40 with value: 5.8254548278561575 with parameters: {'boosting_type': 'dart', 'num_leaves': 187, 'num_rounds': 456, 'learning_rate': 0.037913747548173726, 'min_data_in_leaf': 90}. Best is trial#22 with value: 2.1028960808069126.\n"
     ]
    },
    {
     "name": "stdout",
     "output_type": "stream",
     "text": [
      "MAPE of prediction is: 2.1300700019791425\n"
     ]
    },
    {
     "name": "stderr",
     "output_type": "stream",
     "text": [
      "[I 2020-05-22 16:00:42,135] Finished trial#41 with value: 2.1300700019791425 with parameters: {'boosting_type': 'gbdt', 'num_leaves': 149, 'num_rounds': 613, 'learning_rate': 0.07567320868205785, 'min_data_in_leaf': 52}. Best is trial#22 with value: 2.1028960808069126.\n"
     ]
    },
    {
     "name": "stdout",
     "output_type": "stream",
     "text": [
      "MAPE of prediction is: 2.0908185695313253\n"
     ]
    },
    {
     "name": "stderr",
     "output_type": "stream",
     "text": [
      "[I 2020-05-22 16:01:18,514] Finished trial#42 with value: 2.0908185695313253 with parameters: {'boosting_type': 'gbdt', 'num_leaves': 176, 'num_rounds': 671, 'learning_rate': 0.11519262422883467, 'min_data_in_leaf': 60}. Best is trial#42 with value: 2.0908185695313253.\n"
     ]
    },
    {
     "name": "stdout",
     "output_type": "stream",
     "text": [
      "MAPE of prediction is: 2.089825834043428\n"
     ]
    },
    {
     "name": "stderr",
     "output_type": "stream",
     "text": [
      "[I 2020-05-22 16:01:56,651] Finished trial#43 with value: 2.089825834043428 with parameters: {'boosting_type': 'gbdt', 'num_leaves': 180, 'num_rounds': 671, 'learning_rate': 0.10402995199048283, 'min_data_in_leaf': 68}. Best is trial#43 with value: 2.089825834043428.\n"
     ]
    },
    {
     "name": "stdout",
     "output_type": "stream",
     "text": [
      "MAPE of prediction is: 2.0905444687390666\n"
     ]
    },
    {
     "name": "stderr",
     "output_type": "stream",
     "text": [
      "[I 2020-05-22 16:02:38,150] Finished trial#44 with value: 2.0905444687390666 with parameters: {'boosting_type': 'gbdt', 'num_leaves': 184, 'num_rounds': 669, 'learning_rate': 0.07771226150155525, 'min_data_in_leaf': 69}. Best is trial#43 with value: 2.089825834043428.\n"
     ]
    },
    {
     "name": "stdout",
     "output_type": "stream",
     "text": [
      "MAPE of prediction is: 2.1471201992030653\n"
     ]
    },
    {
     "name": "stderr",
     "output_type": "stream",
     "text": [
      "[I 2020-05-22 16:03:11,604] Finished trial#45 with value: 2.1471201992030653 with parameters: {'boosting_type': 'gbdt', 'num_leaves': 177, 'num_rounds': 676, 'learning_rate': 0.17208719876702033, 'min_data_in_leaf': 69}. Best is trial#43 with value: 2.089825834043428.\n"
     ]
    },
    {
     "name": "stdout",
     "output_type": "stream",
     "text": [
      "MAPE of prediction is: 2.446161896872205\n"
     ]
    },
    {
     "name": "stderr",
     "output_type": "stream",
     "text": [
      "[I 2020-05-22 16:03:24,634] Finished trial#46 with value: 2.446161896872205 with parameters: {'boosting_type': 'gbdt', 'num_leaves': 158, 'num_rounds': 185, 'learning_rate': 0.09484058095312646, 'min_data_in_leaf': 80}. Best is trial#43 with value: 2.089825834043428.\n"
     ]
    },
    {
     "name": "stdout",
     "output_type": "stream",
     "text": [
      "MAPE of prediction is: 2.2040231539929533\n"
     ]
    },
    {
     "name": "stderr",
     "output_type": "stream",
     "text": [
      "[I 2020-05-22 16:04:07,290] Finished trial#47 with value: 2.2040231539929533 with parameters: {'boosting_type': 'gbdt', 'num_leaves': 131, 'num_rounds': 673, 'learning_rate': 0.04517343290617746, 'min_data_in_leaf': 74}. Best is trial#43 with value: 2.089825834043428.\n"
     ]
    },
    {
     "name": "stdout",
     "output_type": "stream",
     "text": [
      "MAPE of prediction is: 2.508111425510994\n"
     ]
    },
    {
     "name": "stderr",
     "output_type": "stream",
     "text": [
      "[I 2020-05-22 16:04:50,768] Finished trial#48 with value: 2.508111425510994 with parameters: {'boosting_type': 'gbdt', 'num_leaves': 108, 'num_rounds': 700, 'learning_rate': 0.024058436665749205, 'min_data_in_leaf': 68}. Best is trial#43 with value: 2.089825834043428.\n"
     ]
    },
    {
     "name": "stdout",
     "output_type": "stream",
     "text": [
      "MAPE of prediction is: 5.5330590499984975\n"
     ]
    },
    {
     "name": "stderr",
     "output_type": "stream",
     "text": [
      "[I 2020-05-22 16:04:51,487] Finished trial#49 with value: 5.5330590499984975 with parameters: {'boosting_type': 'goss', 'num_leaves': 195, 'num_rounds': 666, 'learning_rate': 0.2420328539665261, 'min_data_in_leaf': 84}. Best is trial#43 with value: 2.089825834043428.\n"
     ]
    },
    {
     "name": "stdout",
     "output_type": "stream",
     "text": [
      "MAPE of prediction is: 2.6123395985470066\n"
     ]
    },
    {
     "name": "stderr",
     "output_type": "stream",
     "text": [
      "[I 2020-05-22 16:05:00,299] Finished trial#50 with value: 2.6123395985470066 with parameters: {'boosting_type': 'gbdt', 'num_leaves': 179, 'num_rounds': 626, 'learning_rate': 0.40004812283506647, 'min_data_in_leaf': 57}. Best is trial#43 with value: 2.089825834043428.\n"
     ]
    },
    {
     "name": "stdout",
     "output_type": "stream",
     "text": [
      "MAPE of prediction is: 2.114154460515815\n"
     ]
    },
    {
     "name": "stderr",
     "output_type": "stream",
     "text": [
      "[I 2020-05-22 16:05:42,143] Finished trial#51 with value: 2.114154460515815 with parameters: {'boosting_type': 'gbdt', 'num_leaves': 192, 'num_rounds': 624, 'learning_rate': 0.06904578614554227, 'min_data_in_leaf': 63}. Best is trial#43 with value: 2.089825834043428.\n"
     ]
    },
    {
     "name": "stdout",
     "output_type": "stream",
     "text": [
      "MAPE of prediction is: 2.1221550344063944\n"
     ]
    },
    {
     "name": "stderr",
     "output_type": "stream",
     "text": [
      "[I 2020-05-22 16:06:21,875] Finished trial#52 with value: 2.1221550344063944 with parameters: {'boosting_type': 'gbdt', 'num_leaves': 145, 'num_rounds': 666, 'learning_rate': 0.06514261852964565, 'min_data_in_leaf': 67}. Best is trial#43 with value: 2.089825834043428.\n"
     ]
    },
    {
     "name": "stdout",
     "output_type": "stream",
     "text": [
      "MAPE of prediction is: 2.149276719574125\n"
     ]
    },
    {
     "name": "stderr",
     "output_type": "stream",
     "text": [
      "[I 2020-05-22 16:06:53,723] Finished trial#53 with value: 2.149276719574125 with parameters: {'boosting_type': 'gbdt', 'num_leaves': 182, 'num_rounds': 594, 'learning_rate': 0.16135605972032876, 'min_data_in_leaf': 72}. Best is trial#43 with value: 2.089825834043428.\n"
     ]
    },
    {
     "name": "stdout",
     "output_type": "stream",
     "text": [
      "MAPE of prediction is: 2.075449686609079\n"
     ]
    },
    {
     "name": "stderr",
     "output_type": "stream",
     "text": [
      "[I 2020-05-22 16:07:32,753] Finished trial#54 with value: 2.075449686609079 with parameters: {'boosting_type': 'gbdt', 'num_leaves': 163, 'num_rounds': 699, 'learning_rate': 0.08954256776448288, 'min_data_in_leaf': 58}. Best is trial#54 with value: 2.075449686609079.\n"
     ]
    },
    {
     "name": "stdout",
     "output_type": "stream",
     "text": [
      "MAPE of prediction is: 2.09396037769645\n"
     ]
    },
    {
     "name": "stderr",
     "output_type": "stream",
     "text": [
      "[I 2020-05-22 16:08:09,454] Finished trial#55 with value: 2.09396037769645 with parameters: {'boosting_type': 'gbdt', 'num_leaves': 161, 'num_rounds': 700, 'learning_rate': 0.10501051277081498, 'min_data_in_leaf': 59}. Best is trial#54 with value: 2.075449686609079.\n"
     ]
    },
    {
     "name": "stdout",
     "output_type": "stream",
     "text": [
      "MAPE of prediction is: 2.2063323787466396\n"
     ]
    },
    {
     "name": "stderr",
     "output_type": "stream",
     "text": [
      "[I 2020-05-22 16:08:52,998] Finished trial#56 with value: 2.2063323787466396 with parameters: {'boosting_type': 'gbdt', 'num_leaves': 128, 'num_rounds': 689, 'learning_rate': 0.04275695223807441, 'min_data_in_leaf': 59}. Best is trial#54 with value: 2.075449686609079.\n"
     ]
    },
    {
     "name": "stdout",
     "output_type": "stream",
     "text": [
      "MAPE of prediction is: 2.882080989963116\n"
     ]
    },
    {
     "name": "stderr",
     "output_type": "stream",
     "text": [
      "[I 2020-05-22 16:16:57,415] Finished trial#57 with value: 2.882080989963116 with parameters: {'boosting_type': 'dart', 'num_leaves': 156, 'num_rounds': 695, 'learning_rate': 0.08573256223454451, 'min_data_in_leaf': 58}. Best is trial#54 with value: 2.075449686609079.\n"
     ]
    },
    {
     "name": "stdout",
     "output_type": "stream",
     "text": [
      "MAPE of prediction is: 2.1901293853725714\n"
     ]
    },
    {
     "name": "stderr",
     "output_type": "stream",
     "text": [
      "[I 2020-05-22 16:17:17,775] Finished trial#58 with value: 2.1901293853725714 with parameters: {'boosting_type': 'gbdt', 'num_leaves': 167, 'num_rounds': 371, 'learning_rate': 0.1483720214611055, 'min_data_in_leaf': 49}. Best is trial#54 with value: 2.075449686609079.\n"
     ]
    },
    {
     "name": "stdout",
     "output_type": "stream",
     "text": [
      "MAPE of prediction is: 2.0924036292533765\n"
     ]
    },
    {
     "name": "stderr",
     "output_type": "stream",
     "text": [
      "[I 2020-05-22 16:17:54,859] Finished trial#59 with value: 2.0924036292533765 with parameters: {'boosting_type': 'gbdt', 'num_leaves': 176, 'num_rounds': 659, 'learning_rate': 0.10812588324674637, 'min_data_in_leaf': 63}. Best is trial#54 with value: 2.075449686609079.\n"
     ]
    },
    {
     "name": "stdout",
     "output_type": "stream",
     "text": [
      "MAPE of prediction is: 2.4603975285245943\n"
     ]
    },
    {
     "name": "stderr",
     "output_type": "stream",
     "text": [
      "[I 2020-05-22 16:18:16,384] Finished trial#60 with value: 2.4603975285245943 with parameters: {'boosting_type': 'gbdt', 'num_leaves': 177, 'num_rounds': 286, 'learning_rate': 0.05398246415235406, 'min_data_in_leaf': 74}. Best is trial#54 with value: 2.075449686609079.\n"
     ]
    },
    {
     "name": "stdout",
     "output_type": "stream",
     "text": [
      "MAPE of prediction is: 2.086508188641765\n"
     ]
    },
    {
     "name": "stderr",
     "output_type": "stream",
     "text": [
      "[I 2020-05-22 16:18:52,552] Finished trial#61 with value: 2.086508188641765 with parameters: {'boosting_type': 'gbdt', 'num_leaves': 152, 'num_rounds': 699, 'learning_rate': 0.10809294993019188, 'min_data_in_leaf': 62}. Best is trial#54 with value: 2.075449686609079.\n"
     ]
    },
    {
     "name": "stdout",
     "output_type": "stream",
     "text": [
      "MAPE of prediction is: 2.087904431202034\n"
     ]
    },
    {
     "name": "stderr",
     "output_type": "stream",
     "text": [
      "[I 2020-05-22 16:19:27,256] Finished trial#62 with value: 2.087904431202034 with parameters: {'boosting_type': 'gbdt', 'num_leaves': 144, 'num_rounds': 698, 'learning_rate': 0.11289932373320055, 'min_data_in_leaf': 62}. Best is trial#54 with value: 2.075449686609079.\n"
     ]
    },
    {
     "name": "stdout",
     "output_type": "stream",
     "text": [
      "MAPE of prediction is: 2.1437145756289513\n"
     ]
    },
    {
     "name": "stderr",
     "output_type": "stream",
     "text": [
      "[I 2020-05-22 16:19:57,184] Finished trial#63 with value: 2.1437145756289513 with parameters: {'boosting_type': 'gbdt', 'num_leaves': 143, 'num_rounds': 672, 'learning_rate': 0.17994282122956792, 'min_data_in_leaf': 62}. Best is trial#54 with value: 2.075449686609079.\n"
     ]
    },
    {
     "name": "stdout",
     "output_type": "stream",
     "text": [
      "MAPE of prediction is: 2.122431081926312\n"
     ]
    },
    {
     "name": "stderr",
     "output_type": "stream",
     "text": [
      "[I 2020-05-22 16:20:38,133] Finished trial#64 with value: 2.122431081926312 with parameters: {'boosting_type': 'gbdt', 'num_leaves': 132, 'num_rounds': 700, 'learning_rate': 0.06026949772420468, 'min_data_in_leaf': 63}. Best is trial#54 with value: 2.075449686609079.\n"
     ]
    },
    {
     "name": "stdout",
     "output_type": "stream",
     "text": [
      "MAPE of prediction is: 2.2357625290791776\n"
     ]
    },
    {
     "name": "stderr",
     "output_type": "stream",
     "text": [
      "[I 2020-05-22 16:21:02,324] Finished trial#65 with value: 2.2357625290791776 with parameters: {'boosting_type': 'gbdt', 'num_leaves': 151, 'num_rounds': 639, 'learning_rate': 0.23146435440308652, 'min_data_in_leaf': 67}. Best is trial#54 with value: 2.075449686609079.\n"
     ]
    },
    {
     "name": "stdout",
     "output_type": "stream",
     "text": [
      "MAPE of prediction is: 2.092353981109856\n"
     ]
    },
    {
     "name": "stderr",
     "output_type": "stream",
     "text": [
      "[I 2020-05-22 16:21:44,611] Finished trial#66 with value: 2.092353981109856 with parameters: {'boosting_type': 'gbdt', 'num_leaves': 200, 'num_rounds': 659, 'learning_rate': 0.08057338455851343, 'min_data_in_leaf': 70}. Best is trial#54 with value: 2.075449686609079.\n"
     ]
    },
    {
     "name": "stdout",
     "output_type": "stream",
     "text": [
      "MAPE of prediction is: 2.126630070599812\n"
     ]
    },
    {
     "name": "stderr",
     "output_type": "stream",
     "text": [
      "[I 2020-05-22 16:22:17,736] Finished trial#67 with value: 2.126630070599812 with parameters: {'boosting_type': 'gbdt', 'num_leaves': 117, 'num_rounds': 634, 'learning_rate': 0.0823339510633358, 'min_data_in_leaf': 74}. Best is trial#54 with value: 2.075449686609079.\n"
     ]
    },
    {
     "name": "stdout",
     "output_type": "stream",
     "text": [
      "MAPE of prediction is: 2.1017208886260765\n"
     ]
    },
    {
     "name": "stderr",
     "output_type": "stream",
     "text": [
      "[I 2020-05-22 16:23:07,632] Finished trial#68 with value: 2.1017208886260765 with parameters: {'boosting_type': 'gbdt', 'num_leaves': 225, 'num_rounds': 686, 'learning_rate': 0.05890793745643132, 'min_data_in_leaf': 71}. Best is trial#54 with value: 2.075449686609079.\n"
     ]
    },
    {
     "name": "stdout",
     "output_type": "stream",
     "text": [
      "MAPE of prediction is: 5.7700345538985855\n"
     ]
    },
    {
     "name": "stderr",
     "output_type": "stream",
     "text": [
      "[I 2020-05-22 16:23:42,072] Finished trial#69 with value: 5.7700345538985855 with parameters: {'boosting_type': 'gbdt', 'num_leaves': 64, 'num_rounds': 665, 'learning_rate': 0.0017852821487761412, 'min_data_in_leaf': 56}. Best is trial#54 with value: 2.075449686609079.\n"
     ]
    },
    {
     "name": "stdout",
     "output_type": "stream",
     "text": [
      "MAPE of prediction is: 5.607629548705895\n"
     ]
    },
    {
     "name": "stderr",
     "output_type": "stream",
     "text": [
      "[I 2020-05-22 16:23:43,108] Finished trial#70 with value: 5.607629548705895 with parameters: {'boosting_type': 'goss', 'num_leaves': 204, 'num_rounds': 699, 'learning_rate': 0.13195468735763857, 'min_data_in_leaf': 45}. Best is trial#54 with value: 2.075449686609079.\n"
     ]
    },
    {
     "name": "stdout",
     "output_type": "stream",
     "text": [
      "MAPE of prediction is: 2.1045070877102665\n"
     ]
    },
    {
     "name": "stderr",
     "output_type": "stream",
     "text": [
      "[I 2020-05-22 16:24:21,863] Finished trial#71 with value: 2.1045070877102665 with parameters: {'boosting_type': 'gbdt', 'num_leaves': 198, 'num_rounds': 656, 'learning_rate': 0.1117867212943547, 'min_data_in_leaf': 62}. Best is trial#54 with value: 2.075449686609079.\n"
     ]
    },
    {
     "name": "stdout",
     "output_type": "stream",
     "text": [
      "MAPE of prediction is: 2.099814991343013\n"
     ]
    },
    {
     "name": "stderr",
     "output_type": "stream",
     "text": [
      "[I 2020-05-22 16:24:59,905] Finished trial#72 with value: 2.099814991343013 with parameters: {'boosting_type': 'gbdt', 'num_leaves': 172, 'num_rounds': 633, 'learning_rate': 0.08466756139733661, 'min_data_in_leaf': 68}. Best is trial#54 with value: 2.075449686609079.\n"
     ]
    },
    {
     "name": "stdout",
     "output_type": "stream",
     "text": [
      "MAPE of prediction is: 2.131272433317994\n"
     ]
    },
    {
     "name": "stderr",
     "output_type": "stream",
     "text": [
      "[I 2020-05-22 16:25:35,772] Finished trial#73 with value: 2.131272433317994 with parameters: {'boosting_type': 'gbdt', 'num_leaves': 184, 'num_rounds': 657, 'learning_rate': 0.15562271861035995, 'min_data_in_leaf': 77}. Best is trial#54 with value: 2.075449686609079.\n"
     ]
    },
    {
     "name": "stdout",
     "output_type": "stream",
     "text": [
      "MAPE of prediction is: 2.09683228465565\n"
     ]
    },
    {
     "name": "stderr",
     "output_type": "stream",
     "text": [
      "[I 2020-05-22 16:26:15,586] Finished trial#74 with value: 2.09683228465565 with parameters: {'boosting_type': 'gbdt', 'num_leaves': 192, 'num_rounds': 683, 'learning_rate': 0.10512175872783786, 'min_data_in_leaf': 65}. Best is trial#54 with value: 2.075449686609079.\n"
     ]
    },
    {
     "name": "stdout",
     "output_type": "stream",
     "text": [
      "MAPE of prediction is: 2.124272228214877\n"
     ]
    },
    {
     "name": "stderr",
     "output_type": "stream",
     "text": [
      "[I 2020-05-22 16:26:49,511] Finished trial#75 with value: 2.124272228214877 with parameters: {'boosting_type': 'gbdt', 'num_leaves': 175, 'num_rounds': 649, 'learning_rate': 0.1385935879029273, 'min_data_in_leaf': 60}. Best is trial#54 with value: 2.075449686609079.\n"
     ]
    },
    {
     "name": "stdout",
     "output_type": "stream",
     "text": [
      "MAPE of prediction is: 2.169532976851117\n"
     ]
    },
    {
     "name": "stderr",
     "output_type": "stream",
     "text": [
      "[I 2020-05-22 16:27:20,032] Finished trial#76 with value: 2.169532976851117 with parameters: {'boosting_type': 'gbdt', 'num_leaves': 151, 'num_rounds': 682, 'learning_rate': 0.19201447027525573, 'min_data_in_leaf': 57}. Best is trial#54 with value: 2.075449686609079.\n"
     ]
    },
    {
     "name": "stdout",
     "output_type": "stream",
     "text": [
      "MAPE of prediction is: 2.3311803027840727\n"
     ]
    },
    {
     "name": "stderr",
     "output_type": "stream",
     "text": [
      "[I 2020-05-22 16:27:35,232] Finished trial#77 with value: 2.3311803027840727 with parameters: {'boosting_type': 'gbdt', 'num_leaves': 161, 'num_rounds': 605, 'learning_rate': 0.2628090719284292, 'min_data_in_leaf': 64}. Best is trial#54 with value: 2.075449686609079.\n"
     ]
    },
    {
     "name": "stdout",
     "output_type": "stream",
     "text": [
      "MAPE of prediction is: 2.1102386896189986\n"
     ]
    },
    {
     "name": "stderr",
     "output_type": "stream",
     "text": [
      "[I 2020-05-22 16:28:15,987] Finished trial#78 with value: 2.1102386896189986 with parameters: {'boosting_type': 'gbdt', 'num_leaves': 212, 'num_rounds': 590, 'learning_rate': 0.07568649054699578, 'min_data_in_leaf': 54}. Best is trial#54 with value: 2.075449686609079.\n"
     ]
    },
    {
     "name": "stdout",
     "output_type": "stream",
     "text": [
      "MAPE of prediction is: 2.3314099688160823\n"
     ]
    },
    {
     "name": "stderr",
     "output_type": "stream",
     "text": [
      "[I 2020-05-22 16:35:21,428] Finished trial#79 with value: 2.3314099688160823 with parameters: {'boosting_type': 'dart', 'num_leaves': 167, 'num_rounds': 636, 'learning_rate': 0.12037343382441375, 'min_data_in_leaf': 66}. Best is trial#54 with value: 2.075449686609079.\n"
     ]
    },
    {
     "name": "stdout",
     "output_type": "stream",
     "text": [
      "MAPE of prediction is: 2.242670096821775\n"
     ]
    },
    {
     "name": "stderr",
     "output_type": "stream",
     "text": [
      "[I 2020-05-22 16:35:58,533] Finished trial#80 with value: 2.242670096821775 with parameters: {'boosting_type': 'gbdt', 'num_leaves': 135, 'num_rounds': 563, 'learning_rate': 0.047685411261574016, 'min_data_in_leaf': 70}. Best is trial#54 with value: 2.075449686609079.\n"
     ]
    },
    {
     "name": "stdout",
     "output_type": "stream",
     "text": [
      "MAPE of prediction is: 2.0932865346153986\n"
     ]
    },
    {
     "name": "stderr",
     "output_type": "stream",
     "text": [
      "[I 2020-05-22 16:36:36,225] Finished trial#81 with value: 2.0932865346153986 with parameters: {'boosting_type': 'gbdt', 'num_leaves': 163, 'num_rounds': 695, 'learning_rate': 0.10299706445928238, 'min_data_in_leaf': 59}. Best is trial#54 with value: 2.075449686609079.\n"
     ]
    },
    {
     "name": "stdout",
     "output_type": "stream",
     "text": [
      "MAPE of prediction is: 2.0948185159927912\n"
     ]
    },
    {
     "name": "stderr",
     "output_type": "stream",
     "text": [
      "[I 2020-05-22 16:37:13,886] Finished trial#82 with value: 2.0948185159927912 with parameters: {'boosting_type': 'gbdt', 'num_leaves': 155, 'num_rounds': 666, 'learning_rate': 0.08322713891246329, 'min_data_in_leaf': 61}. Best is trial#54 with value: 2.075449686609079.\n"
     ]
    },
    {
     "name": "stdout",
     "output_type": "stream",
     "text": [
      "MAPE of prediction is: 2.1015987358264367\n"
     ]
    },
    {
     "name": "stderr",
     "output_type": "stream",
     "text": [
      "[I 2020-05-22 16:37:48,490] Finished trial#83 with value: 2.1015987358264367 with parameters: {'boosting_type': 'gbdt', 'num_leaves': 141, 'num_rounds': 684, 'learning_rate': 0.09934870750546862, 'min_data_in_leaf': 50}. Best is trial#54 with value: 2.075449686609079.\n"
     ]
    },
    {
     "name": "stdout",
     "output_type": "stream",
     "text": [
      "MAPE of prediction is: 2.248677781815217\n"
     ]
    },
    {
     "name": "stderr",
     "output_type": "stream",
     "text": [
      "[I 2020-05-22 16:38:35,516] Finished trial#84 with value: 2.248677781815217 with parameters: {'boosting_type': 'gbdt', 'num_leaves': 164, 'num_rounds': 652, 'learning_rate': 0.036508776309893035, 'min_data_in_leaf': 73}. Best is trial#54 with value: 2.075449686609079.\n"
     ]
    },
    {
     "name": "stdout",
     "output_type": "stream",
     "text": [
      "MAPE of prediction is: 2.2199703952539176\n"
     ]
    },
    {
     "name": "stderr",
     "output_type": "stream",
     "text": [
      "[I 2020-05-22 16:39:02,728] Finished trial#85 with value: 2.2199703952539176 with parameters: {'boosting_type': 'gbdt', 'num_leaves': 187, 'num_rounds': 698, 'learning_rate': 0.20704075104420877, 'min_data_in_leaf': 69}. Best is trial#54 with value: 2.075449686609079.\n"
     ]
    },
    {
     "name": "stdout",
     "output_type": "stream",
     "text": [
      "MAPE of prediction is: 2.1085731053285737\n"
     ]
    },
    {
     "name": "stderr",
     "output_type": "stream",
     "text": [
      "[I 2020-05-22 16:39:37,097] Finished trial#86 with value: 2.1085731053285737 with parameters: {'boosting_type': 'gbdt', 'num_leaves': 175, 'num_rounds': 625, 'learning_rate': 0.1160510509449865, 'min_data_in_leaf': 63}. Best is trial#54 with value: 2.075449686609079.\n"
     ]
    },
    {
     "name": "stdout",
     "output_type": "stream",
     "text": [
      "MAPE of prediction is: 2.10106579708783\n"
     ]
    },
    {
     "name": "stderr",
     "output_type": "stream",
     "text": [
      "[I 2020-05-22 16:40:23,897] Finished trial#87 with value: 2.10106579708783 with parameters: {'boosting_type': 'gbdt', 'num_leaves': 204, 'num_rounds': 674, 'learning_rate': 0.06629064766781623, 'min_data_in_leaf': 100}. Best is trial#54 with value: 2.075449686609079.\n"
     ]
    },
    {
     "name": "stdout",
     "output_type": "stream",
     "text": [
      "MAPE of prediction is: 2.0795925173546754\n"
     ]
    },
    {
     "name": "stderr",
     "output_type": "stream",
     "text": [
      "[I 2020-05-22 16:41:03,723] Finished trial#88 with value: 2.0795925173546754 with parameters: {'boosting_type': 'gbdt', 'num_leaves': 182, 'num_rounds': 700, 'learning_rate': 0.09374291474691883, 'min_data_in_leaf': 55}. Best is trial#54 with value: 2.075449686609079.\n"
     ]
    },
    {
     "name": "stdout",
     "output_type": "stream",
     "text": [
      "MAPE of prediction is: 2.115944100157567\n"
     ]
    },
    {
     "name": "stderr",
     "output_type": "stream",
     "text": [
      "[I 2020-05-22 16:41:37,903] Finished trial#89 with value: 2.115944100157567 with parameters: {'boosting_type': 'gbdt', 'num_leaves': 180, 'num_rounds': 661, 'learning_rate': 0.1411611432845999, 'min_data_in_leaf': 53}. Best is trial#54 with value: 2.075449686609079.\n"
     ]
    },
    {
     "name": "stdout",
     "output_type": "stream",
     "text": [
      "MAPE of prediction is: 5.571168318510401\n"
     ]
    },
    {
     "name": "stderr",
     "output_type": "stream",
     "text": [
      "[I 2020-05-22 16:41:39,930] Finished trial#90 with value: 5.571168318510401 with parameters: {'boosting_type': 'goss', 'num_leaves': 196, 'num_rounds': 645, 'learning_rate': 0.05791837716812263, 'min_data_in_leaf': 47}. Best is trial#54 with value: 2.075449686609079.\n"
     ]
    },
    {
     "name": "stdout",
     "output_type": "stream",
     "text": [
      "MAPE of prediction is: 2.089671782267176\n"
     ]
    },
    {
     "name": "stderr",
     "output_type": "stream",
     "text": [
      "[I 2020-05-22 16:42:18,949] Finished trial#91 with value: 2.089671782267176 with parameters: {'boosting_type': 'gbdt', 'num_leaves': 172, 'num_rounds': 688, 'learning_rate': 0.0931104933790208, 'min_data_in_leaf': 56}. Best is trial#54 with value: 2.075449686609079.\n"
     ]
    },
    {
     "name": "stdout",
     "output_type": "stream",
     "text": [
      "MAPE of prediction is: 2.0945023958498488\n"
     ]
    },
    {
     "name": "stderr",
     "output_type": "stream",
     "text": [
      "[I 2020-05-22 16:42:59,510] Finished trial#92 with value: 2.0945023958498488 with parameters: {'boosting_type': 'gbdt', 'num_leaves': 191, 'num_rounds': 681, 'learning_rate': 0.09233652883922425, 'min_data_in_leaf': 56}. Best is trial#54 with value: 2.075449686609079.\n"
     ]
    },
    {
     "name": "stdout",
     "output_type": "stream",
     "text": [
      "MAPE of prediction is: 2.1013452950426634\n"
     ]
    },
    {
     "name": "stderr",
     "output_type": "stream",
     "text": [
      "[I 2020-05-22 16:43:40,859] Finished trial#93 with value: 2.1013452950426634 with parameters: {'boosting_type': 'gbdt', 'num_leaves': 183, 'num_rounds': 665, 'learning_rate': 0.07538454506220624, 'min_data_in_leaf': 57}. Best is trial#54 with value: 2.075449686609079.\n"
     ]
    },
    {
     "name": "stdout",
     "output_type": "stream",
     "text": [
      "MAPE of prediction is: 2.097082603346001\n"
     ]
    },
    {
     "name": "stderr",
     "output_type": "stream",
     "text": [
      "[I 2020-05-22 16:44:16,026] Finished trial#94 with value: 2.097082603346001 with parameters: {'boosting_type': 'gbdt', 'num_leaves': 155, 'num_rounds': 698, 'learning_rate': 0.1185018917657634, 'min_data_in_leaf': 51}. Best is trial#54 with value: 2.075449686609079.\n"
     ]
    },
    {
     "name": "stdout",
     "output_type": "stream",
     "text": [
      "MAPE of prediction is: 2.160649254703773\n"
     ]
    },
    {
     "name": "stderr",
     "output_type": "stream",
     "text": [
      "[I 2020-05-22 16:44:46,991] Finished trial#95 with value: 2.160649254703773 with parameters: {'boosting_type': 'gbdt', 'num_leaves': 172, 'num_rounds': 617, 'learning_rate': 0.17860506797978873, 'min_data_in_leaf': 61}. Best is trial#54 with value: 2.075449686609079.\n"
     ]
    },
    {
     "name": "stdout",
     "output_type": "stream",
     "text": [
      "MAPE of prediction is: 2.0792659346792224\n"
     ]
    },
    {
     "name": "stderr",
     "output_type": "stream",
     "text": [
      "[I 2020-05-22 16:45:24,239] Finished trial#96 with value: 2.0792659346792224 with parameters: {'boosting_type': 'gbdt', 'num_leaves': 148, 'num_rounds': 686, 'learning_rate': 0.08876236562107592, 'min_data_in_leaf': 67}. Best is trial#54 with value: 2.075449686609079.\n"
     ]
    },
    {
     "name": "stdout",
     "output_type": "stream",
     "text": [
      "MAPE of prediction is: 2.148788255980547\n"
     ]
    },
    {
     "name": "stderr",
     "output_type": "stream",
     "text": [
      "[I 2020-05-22 16:46:07,935] Finished trial#97 with value: 2.148788255980547 with parameters: {'boosting_type': 'gbdt', 'num_leaves': 145, 'num_rounds': 688, 'learning_rate': 0.05223610276716522, 'min_data_in_leaf': 66}. Best is trial#54 with value: 2.075449686609079.\n"
     ]
    },
    {
     "name": "stdout",
     "output_type": "stream",
     "text": [
      "MAPE of prediction is: 2.0930911343968925\n"
     ]
    },
    {
     "name": "stderr",
     "output_type": "stream",
     "text": [
      "[I 2020-05-22 16:46:46,075] Finished trial#98 with value: 2.0930911343968925 with parameters: {'boosting_type': 'gbdt', 'num_leaves': 167, 'num_rounds': 675, 'learning_rate': 0.09113442313832164, 'min_data_in_leaf': 68}. Best is trial#54 with value: 2.075449686609079.\n"
     ]
    },
    {
     "name": "stdout",
     "output_type": "stream",
     "text": [
      "MAPE of prediction is: 2.7254347971077997\n"
     ]
    },
    {
     "name": "stderr",
     "output_type": "stream",
     "text": [
      "[I 2020-05-22 16:46:57,439] Finished trial#99 with value: 2.7254347971077997 with parameters: {'boosting_type': 'gbdt', 'num_leaves': 120, 'num_rounds': 176, 'learning_rate': 0.0682491264723193, 'min_data_in_leaf': 55}. Best is trial#54 with value: 2.075449686609079.\n"
     ]
    },
    {
     "name": "stdout",
     "output_type": "stream",
     "text": [
      "MAPE of prediction is: 2.116909567307089\n"
     ]
    },
    {
     "name": "stderr",
     "output_type": "stream",
     "text": [
      "[I 2020-05-22 16:47:27,382] Finished trial#100 with value: 2.116909567307089 with parameters: {'boosting_type': 'gbdt', 'num_leaves': 137, 'num_rounds': 643, 'learning_rate': 0.15638799947712703, 'min_data_in_leaf': 72}. Best is trial#54 with value: 2.075449686609079.\n"
     ]
    },
    {
     "name": "stdout",
     "output_type": "stream",
     "text": [
      "MAPE of prediction is: 2.1056230505531817\n"
     ]
    },
    {
     "name": "stderr",
     "output_type": "stream",
     "text": [
      "[I 2020-05-22 16:48:02,985] Finished trial#101 with value: 2.1056230505531817 with parameters: {'boosting_type': 'gbdt', 'num_leaves': 179, 'num_rounds': 659, 'learning_rate': 0.12872560956792573, 'min_data_in_leaf': 63}. Best is trial#54 with value: 2.075449686609079.\n"
     ]
    },
    {
     "name": "stdout",
     "output_type": "stream",
     "text": [
      "MAPE of prediction is: 2.090698879665658\n"
     ]
    },
    {
     "name": "stderr",
     "output_type": "stream",
     "text": [
      "[I 2020-05-22 16:48:45,376] Finished trial#102 with value: 2.090698879665658 with parameters: {'boosting_type': 'gbdt', 'num_leaves': 188, 'num_rounds': 688, 'learning_rate': 0.07912648108169712, 'min_data_in_leaf': 60}. Best is trial#54 with value: 2.075449686609079.\n"
     ]
    },
    {
     "name": "stdout",
     "output_type": "stream",
     "text": [
      "MAPE of prediction is: 2.085248540687373\n"
     ]
    },
    {
     "name": "stderr",
     "output_type": "stream",
     "text": [
      "[I 2020-05-22 16:49:30,075] Finished trial#103 with value: 2.085248540687373 with parameters: {'boosting_type': 'gbdt', 'num_leaves': 217, 'num_rounds': 689, 'learning_rate': 0.07865664795990593, 'min_data_in_leaf': 59}. Best is trial#54 with value: 2.075449686609079.\n"
     ]
    },
    {
     "name": "stdout",
     "output_type": "stream",
     "text": [
      "MAPE of prediction is: 2.1315391199190494\n"
     ]
    },
    {
     "name": "stderr",
     "output_type": "stream",
     "text": [
      "[I 2020-05-22 16:50:27,234] Finished trial#104 with value: 2.1315391199190494 with parameters: {'boosting_type': 'gbdt', 'num_leaves': 247, 'num_rounds': 693, 'learning_rate': 0.04304717330252318, 'min_data_in_leaf': 58}. Best is trial#54 with value: 2.075449686609079.\n"
     ]
    },
    {
     "name": "stdout",
     "output_type": "stream",
     "text": [
      "MAPE of prediction is: 2.0950713700289723\n"
     ]
    },
    {
     "name": "stderr",
     "output_type": "stream",
     "text": [
      "[I 2020-05-22 16:51:11,166] Finished trial#105 with value: 2.0950713700289723 with parameters: {'boosting_type': 'gbdt', 'num_leaves': 220, 'num_rounds': 700, 'learning_rate': 0.09414074589737079, 'min_data_in_leaf': 59}. Best is trial#54 with value: 2.075449686609079.\n"
     ]
    },
    {
     "name": "stdout",
     "output_type": "stream",
     "text": [
      "MAPE of prediction is: 3.6170426524717296\n"
     ]
    },
    {
     "name": "stderr",
     "output_type": "stream",
     "text": [
      "[I 2020-05-22 16:58:44,843] Finished trial#106 with value: 3.6170426524717296 with parameters: {'boosting_type': 'dart', 'num_leaves': 148, 'num_rounds': 679, 'learning_rate': 0.061229179219728445, 'min_data_in_leaf': 53}. Best is trial#54 with value: 2.075449686609079.\n"
     ]
    },
    {
     "name": "stdout",
     "output_type": "stream",
     "text": [
      "MAPE of prediction is: 2.167650644058141\n"
     ]
    },
    {
     "name": "stderr",
     "output_type": "stream",
     "text": [
      "[I 2020-05-22 16:59:18,435] Finished trial#107 with value: 2.167650644058141 with parameters: {'boosting_type': 'gbdt', 'num_leaves': 234, 'num_rounds': 426, 'learning_rate': 0.07358226002193252, 'min_data_in_leaf': 61}. Best is trial#54 with value: 2.075449686609079.\n"
     ]
    },
    {
     "name": "stdout",
     "output_type": "stream",
     "text": [
      "MAPE of prediction is: 2.091930740018867\n"
     ]
    },
    {
     "name": "stderr",
     "output_type": "stream",
     "text": [
      "[I 2020-05-22 16:59:59,235] Finished trial#108 with value: 2.091930740018867 with parameters: {'boosting_type': 'gbdt', 'num_leaves': 188, 'num_rounds': 672, 'learning_rate': 0.08373598969569748, 'min_data_in_leaf': 55}. Best is trial#54 with value: 2.075449686609079.\n"
     ]
    },
    {
     "name": "stdout",
     "output_type": "stream",
     "text": [
      "MAPE of prediction is: 2.096212840564267\n"
     ]
    },
    {
     "name": "stderr",
     "output_type": "stream",
     "text": [
      "[I 2020-05-22 17:00:34,425] Finished trial#109 with value: 2.096212840564267 with parameters: {'boosting_type': 'gbdt', 'num_leaves': 157, 'num_rounds': 692, 'learning_rate': 0.13162763254383217, 'min_data_in_leaf': 65}. Best is trial#54 with value: 2.075449686609079.\n"
     ]
    },
    {
     "name": "stdout",
     "output_type": "stream",
     "text": [
      "MAPE of prediction is: 3.445244215960265\n"
     ]
    },
    {
     "name": "stderr",
     "output_type": "stream",
     "text": [
      "[I 2020-05-22 17:01:26,865] Finished trial#110 with value: 3.445244215960265 with parameters: {'boosting_type': 'gbdt', 'num_leaves': 170, 'num_rounds': 682, 'learning_rate': 0.007693978978591526, 'min_data_in_leaf': 58}. Best is trial#54 with value: 2.075449686609079.\n"
     ]
    },
    {
     "name": "stdout",
     "output_type": "stream",
     "text": [
      "MAPE of prediction is: 2.088356611049337\n"
     ]
    },
    {
     "name": "stderr",
     "output_type": "stream",
     "text": [
      "[I 2020-05-22 17:02:06,662] Finished trial#111 with value: 2.088356611049337 with parameters: {'boosting_type': 'gbdt', 'num_leaves': 185, 'num_rounds': 672, 'learning_rate': 0.08920109013107573, 'min_data_in_leaf': 55}. Best is trial#54 with value: 2.075449686609079.\n"
     ]
    },
    {
     "name": "stdout",
     "output_type": "stream",
     "text": [
      "MAPE of prediction is: 2.1072096203938635\n"
     ]
    },
    {
     "name": "stderr",
     "output_type": "stream",
     "text": [
      "[I 2020-05-22 17:02:43,187] Finished trial#112 with value: 2.1072096203938635 with parameters: {'boosting_type': 'gbdt', 'num_leaves': 194, 'num_rounds': 626, 'learning_rate': 0.10734606237617292, 'min_data_in_leaf': 60}. Best is trial#54 with value: 2.075449686609079.\n"
     ]
    },
    {
     "name": "stdout",
     "output_type": "stream",
     "text": [
      "MAPE of prediction is: 2.097353075701047\n"
     ]
    },
    {
     "name": "stderr",
     "output_type": "stream",
     "text": [
      "[I 2020-05-22 17:03:20,590] Finished trial#113 with value: 2.097353075701047 with parameters: {'boosting_type': 'gbdt', 'num_leaves': 181, 'num_rounds': 648, 'learning_rate': 0.09411451007718065, 'min_data_in_leaf': 51}. Best is trial#54 with value: 2.075449686609079.\n"
     ]
    },
    {
     "name": "stdout",
     "output_type": "stream",
     "text": [
      "MAPE of prediction is: 2.098025162723098\n"
     ]
    },
    {
     "name": "stderr",
     "output_type": "stream",
     "text": [
      "[I 2020-05-22 17:04:05,376] Finished trial#114 with value: 2.098025162723098 with parameters: {'boosting_type': 'gbdt', 'num_leaves': 207, 'num_rounds': 673, 'learning_rate': 0.07056402209342268, 'min_data_in_leaf': 55}. Best is trial#54 with value: 2.075449686609079.\n"
     ]
    },
    {
     "name": "stdout",
     "output_type": "stream",
     "text": [
      "MAPE of prediction is: 2.1331080549548416\n"
     ]
    },
    {
     "name": "stderr",
     "output_type": "stream",
     "text": [
      "[I 2020-05-22 17:04:50,470] Finished trial#115 with value: 2.1331080549548416 with parameters: {'boosting_type': 'gbdt', 'num_leaves': 163, 'num_rounds': 689, 'learning_rate': 0.05372039551743247, 'min_data_in_leaf': 57}. Best is trial#54 with value: 2.075449686609079.\n"
     ]
    },
    {
     "name": "stdout",
     "output_type": "stream",
     "text": [
      "MAPE of prediction is: 2.1471227624997797\n"
     ]
    },
    {
     "name": "stderr",
     "output_type": "stream",
     "text": [
      "[I 2020-05-22 17:05:23,239] Finished trial#116 with value: 2.1471227624997797 with parameters: {'boosting_type': 'gbdt', 'num_leaves': 173, 'num_rounds': 699, 'learning_rate': 0.16075315674576793, 'min_data_in_leaf': 43}. Best is trial#54 with value: 2.075449686609079.\n"
     ]
    },
    {
     "name": "stdout",
     "output_type": "stream",
     "text": [
      "MAPE of prediction is: 2.1025614621168485\n"
     ]
    },
    {
     "name": "stderr",
     "output_type": "stream",
     "text": [
      "[I 2020-05-22 17:06:09,751] Finished trial#117 with value: 2.1025614621168485 with parameters: {'boosting_type': 'gbdt', 'num_leaves': 255, 'num_rounds': 700, 'learning_rate': 0.11075264129928618, 'min_data_in_leaf': 67}. Best is trial#54 with value: 2.075449686609079.\n"
     ]
    },
    {
     "name": "stdout",
     "output_type": "stream",
     "text": [
      "MAPE of prediction is: 2.0863415776764547\n"
     ]
    },
    {
     "name": "stderr",
     "output_type": "stream",
     "text": [
      "[I 2020-05-22 17:06:54,078] Finished trial#118 with value: 2.0863415776764547 with parameters: {'boosting_type': 'gbdt', 'num_leaves': 217, 'num_rounds': 670, 'learning_rate': 0.07929044397463411, 'min_data_in_leaf': 62}. Best is trial#54 with value: 2.075449686609079.\n"
     ]
    },
    {
     "name": "stdout",
     "output_type": "stream",
     "text": [
      "MAPE of prediction is: 2.2851140467799747\n"
     ]
    },
    {
     "name": "stderr",
     "output_type": "stream",
     "text": [
      "[I 2020-05-22 17:07:48,707] Finished trial#119 with value: 2.2851140467799747 with parameters: {'boosting_type': 'gbdt', 'num_leaves': 216, 'num_rounds': 654, 'learning_rate': 0.02899095202440784, 'min_data_in_leaf': 64}. Best is trial#54 with value: 2.075449686609079.\n"
     ]
    },
    {
     "name": "stdout",
     "output_type": "stream",
     "text": [
      "MAPE of prediction is: 5.708132642246464\n"
     ]
    },
    {
     "name": "stderr",
     "output_type": "stream",
     "text": [
      "[I 2020-05-22 17:07:50,302] Finished trial#120 with value: 5.708132642246464 with parameters: {'boosting_type': 'goss', 'num_leaves': 126, 'num_rounds': 635, 'learning_rate': 0.0650935734950579, 'min_data_in_leaf': 62}. Best is trial#54 with value: 2.075449686609079.\n"
     ]
    },
    {
     "name": "stdout",
     "output_type": "stream",
     "text": [
      "MAPE of prediction is: 2.093296424607842\n"
     ]
    },
    {
     "name": "stderr",
     "output_type": "stream",
     "text": [
      "[I 2020-05-22 17:08:34,370] Finished trial#121 with value: 2.093296424607842 with parameters: {'boosting_type': 'gbdt', 'num_leaves': 225, 'num_rounds': 666, 'learning_rate': 0.0852576744175637, 'min_data_in_leaf': 60}. Best is trial#54 with value: 2.075449686609079.\n"
     ]
    },
    {
     "name": "stdout",
     "output_type": "stream",
     "text": [
      "MAPE of prediction is: 2.088634980887151\n"
     ]
    },
    {
     "name": "stderr",
     "output_type": "stream",
     "text": [
      "[I 2020-05-22 17:09:18,662] Finished trial#122 with value: 2.088634980887151 with parameters: {'boosting_type': 'gbdt', 'num_leaves': 232, 'num_rounds': 688, 'learning_rate': 0.09640582672898289, 'min_data_in_leaf': 53}. Best is trial#54 with value: 2.075449686609079.\n"
     ]
    },
    {
     "name": "stdout",
     "output_type": "stream",
     "text": [
      "MAPE of prediction is: 2.0968133064383094\n"
     ]
    },
    {
     "name": "stderr",
     "output_type": "stream",
     "text": [
      "[I 2020-05-22 17:09:56,481] Finished trial#123 with value: 2.0968133064383094 with parameters: {'boosting_type': 'gbdt', 'num_leaves': 146, 'num_rounds': 685, 'learning_rate': 0.08048238070942795, 'min_data_in_leaf': 49}. Best is trial#54 with value: 2.075449686609079.\n"
     ]
    },
    {
     "name": "stdout",
     "output_type": "stream",
     "text": [
      "MAPE of prediction is: 2.085284667524289\n"
     ]
    },
    {
     "name": "stderr",
     "output_type": "stream",
     "text": [
      "[I 2020-05-22 17:10:40,961] Finished trial#124 with value: 2.085284667524289 with parameters: {'boosting_type': 'gbdt', 'num_leaves': 234, 'num_rounds': 700, 'learning_rate': 0.09947200928462792, 'min_data_in_leaf': 54}. Best is trial#54 with value: 2.075449686609079.\n"
     ]
    },
    {
     "name": "stdout",
     "output_type": "stream",
     "text": [
      "MAPE of prediction is: 2.1201273557975973\n"
     ]
    },
    {
     "name": "stderr",
     "output_type": "stream",
     "text": [
      "[I 2020-05-22 17:11:20,753] Finished trial#125 with value: 2.1201273557975973 with parameters: {'boosting_type': 'gbdt', 'num_leaves': 241, 'num_rounds': 676, 'learning_rate': 0.13990307452536926, 'min_data_in_leaf': 53}. Best is trial#54 with value: 2.075449686609079.\n"
     ]
    },
    {
     "name": "stdout",
     "output_type": "stream",
     "text": [
      "MAPE of prediction is: 2.082812147911313\n"
     ]
    },
    {
     "name": "stderr",
     "output_type": "stream",
     "text": [
      "[I 2020-05-22 17:12:05,228] Finished trial#126 with value: 2.082812147911313 with parameters: {'boosting_type': 'gbdt', 'num_leaves': 242, 'num_rounds': 665, 'learning_rate': 0.09126600566372291, 'min_data_in_leaf': 56}. Best is trial#54 with value: 2.075449686609079.\n"
     ]
    },
    {
     "name": "stdout",
     "output_type": "stream",
     "text": [
      "MAPE of prediction is: 2.0891857683601613\n"
     ]
    },
    {
     "name": "stderr",
     "output_type": "stream",
     "text": [
      "[I 2020-05-22 17:12:49,034] Finished trial#127 with value: 2.0891857683601613 with parameters: {'boosting_type': 'gbdt', 'num_leaves': 231, 'num_rounds': 700, 'learning_rate': 0.10310526347355793, 'min_data_in_leaf': 52}. Best is trial#54 with value: 2.075449686609079.\n"
     ]
    },
    {
     "name": "stdout",
     "output_type": "stream",
     "text": [
      "MAPE of prediction is: 2.0939594002191306\n"
     ]
    },
    {
     "name": "stderr",
     "output_type": "stream",
     "text": [
      "[I 2020-05-22 17:13:33,557] Finished trial#128 with value: 2.0939594002191306 with parameters: {'boosting_type': 'gbdt', 'num_leaves': 233, 'num_rounds': 691, 'learning_rate': 0.09645867093179133, 'min_data_in_leaf': 52}. Best is trial#54 with value: 2.075449686609079.\n"
     ]
    },
    {
     "name": "stdout",
     "output_type": "stream",
     "text": [
      "MAPE of prediction is: 2.1199690508865636\n"
     ]
    },
    {
     "name": "stderr",
     "output_type": "stream",
     "text": [
      "[I 2020-05-22 17:14:15,462] Finished trial#129 with value: 2.1199690508865636 with parameters: {'boosting_type': 'gbdt', 'num_leaves': 236, 'num_rounds': 699, 'learning_rate': 0.12422190386574361, 'min_data_in_leaf': 48}. Best is trial#54 with value: 2.075449686609079.\n"
     ]
    },
    {
     "name": "stdout",
     "output_type": "stream",
     "text": [
      "MAPE of prediction is: 2.1103705835284066\n"
     ]
    },
    {
     "name": "stderr",
     "output_type": "stream",
     "text": [
      "[I 2020-05-22 17:15:04,212] Finished trial#130 with value: 2.1103705835284066 with parameters: {'boosting_type': 'gbdt', 'num_leaves': 230, 'num_rounds': 659, 'learning_rate': 0.058110594455782934, 'min_data_in_leaf': 54}. Best is trial#54 with value: 2.075449686609079.\n"
     ]
    },
    {
     "name": "stdout",
     "output_type": "stream",
     "text": [
      "MAPE of prediction is: 2.0910605558834656\n"
     ]
    },
    {
     "name": "stderr",
     "output_type": "stream",
     "text": [
      "[I 2020-05-22 17:15:49,100] Finished trial#131 with value: 2.0910605558834656 with parameters: {'boosting_type': 'gbdt', 'num_leaves': 242, 'num_rounds': 700, 'learning_rate': 0.1045373357253817, 'min_data_in_leaf': 56}. Best is trial#54 with value: 2.075449686609079.\n"
     ]
    },
    {
     "name": "stdout",
     "output_type": "stream",
     "text": [
      "MAPE of prediction is: 2.097863857505105\n"
     ]
    },
    {
     "name": "stderr",
     "output_type": "stream",
     "text": [
      "[I 2020-05-22 17:16:32,554] Finished trial#132 with value: 2.097863857505105 with parameters: {'boosting_type': 'gbdt', 'num_leaves': 222, 'num_rounds': 700, 'learning_rate': 0.09383919382547522, 'min_data_in_leaf': 50}. Best is trial#54 with value: 2.075449686609079.\n"
     ]
    },
    {
     "name": "stdout",
     "output_type": "stream",
     "text": [
      "MAPE of prediction is: 2.1167752128982285\n"
     ]
    },
    {
     "name": "stderr",
     "output_type": "stream",
     "text": [
      "[I 2020-05-22 17:17:16,246] Finished trial#133 with value: 2.1167752128982285 with parameters: {'boosting_type': 'gbdt', 'num_leaves': 256, 'num_rounds': 677, 'learning_rate': 0.11928534066876731, 'min_data_in_leaf': 57}. Best is trial#54 with value: 2.075449686609079.\n"
     ]
    },
    {
     "name": "stdout",
     "output_type": "stream",
     "text": [
      "MAPE of prediction is: 2.1400368258214275\n"
     ]
    },
    {
     "name": "stderr",
     "output_type": "stream",
     "text": [
      "[I 2020-05-22 17:17:54,295] Finished trial#134 with value: 2.1400368258214275 with parameters: {'boosting_type': 'gbdt', 'num_leaves': 230, 'num_rounds': 643, 'learning_rate': 0.14046410599006937, 'min_data_in_leaf': 52}. Best is trial#54 with value: 2.075449686609079.\n"
     ]
    },
    {
     "name": "stdout",
     "output_type": "stream",
     "text": [
      "MAPE of prediction is: 2.1024988361258834\n"
     ]
    },
    {
     "name": "stderr",
     "output_type": "stream",
     "text": [
      "[I 2020-05-22 17:18:42,318] Finished trial#135 with value: 2.1024988361258834 with parameters: {'boosting_type': 'gbdt', 'num_leaves': 251, 'num_rounds': 665, 'learning_rate': 0.06967743589873736, 'min_data_in_leaf': 46}. Best is trial#54 with value: 2.075449686609079.\n"
     ]
    },
    {
     "name": "stdout",
     "output_type": "stream",
     "text": [
      "MAPE of prediction is: 2.097227321896849\n"
     ]
    },
    {
     "name": "stderr",
     "output_type": "stream",
     "text": [
      "[I 2020-05-22 17:19:25,626] Finished trial#136 with value: 2.097227321896849 with parameters: {'boosting_type': 'gbdt', 'num_leaves': 242, 'num_rounds': 683, 'learning_rate': 0.10584942571420167, 'min_data_in_leaf': 54}. Best is trial#54 with value: 2.075449686609079.\n"
     ]
    },
    {
     "name": "stdout",
     "output_type": "stream",
     "text": [
      "MAPE of prediction is: 2.084088769964498\n"
     ]
    },
    {
     "name": "stderr",
     "output_type": "stream",
     "text": [
      "[I 2020-05-22 17:20:11,233] Finished trial#137 with value: 2.084088769964498 with parameters: {'boosting_type': 'gbdt', 'num_leaves': 230, 'num_rounds': 700, 'learning_rate': 0.089873402795886, 'min_data_in_leaf': 58}. Best is trial#54 with value: 2.075449686609079.\n"
     ]
    },
    {
     "name": "stdout",
     "output_type": "stream",
     "text": [
      "MAPE of prediction is: 2.092143227786534\n"
     ]
    },
    {
     "name": "stderr",
     "output_type": "stream",
     "text": [
      "[I 2020-05-22 17:20:56,541] Finished trial#138 with value: 2.092143227786534 with parameters: {'boosting_type': 'gbdt', 'num_leaves': 227, 'num_rounds': 700, 'learning_rate': 0.0863980985012683, 'min_data_in_leaf': 56}. Best is trial#54 with value: 2.075449686609079.\n"
     ]
    },
    {
     "name": "stdout",
     "output_type": "stream",
     "text": [
      "MAPE of prediction is: 2.0969596518300717\n"
     ]
    },
    {
     "name": "stderr",
     "output_type": "stream",
     "text": [
      "[I 2020-05-22 17:21:42,041] Finished trial#139 with value: 2.0969596518300717 with parameters: {'boosting_type': 'gbdt', 'num_leaves': 219, 'num_rounds': 679, 'learning_rate': 0.07451834398502745, 'min_data_in_leaf': 58}. Best is trial#54 with value: 2.075449686609079.\n"
     ]
    },
    {
     "name": "stdout",
     "output_type": "stream",
     "text": [
      "MAPE of prediction is: 2.521751381512906\n"
     ]
    },
    {
     "name": "stderr",
     "output_type": "stream",
     "text": [
      "[I 2020-05-22 17:30:57,554] Finished trial#140 with value: 2.521751381512906 with parameters: {'boosting_type': 'dart', 'num_leaves': 247, 'num_rounds': 700, 'learning_rate': 0.09119074593376193, 'min_data_in_leaf': 55}. Best is trial#54 with value: 2.075449686609079.\n"
     ]
    },
    {
     "name": "stdout",
     "output_type": "stream",
     "text": [
      "MAPE of prediction is: 2.1112845530311777\n"
     ]
    },
    {
     "name": "stderr",
     "output_type": "stream",
     "text": [
      "[I 2020-05-22 17:31:38,957] Finished trial#141 with value: 2.1112845530311777 with parameters: {'boosting_type': 'gbdt', 'num_leaves': 238, 'num_rounds': 652, 'learning_rate': 0.11497743572305041, 'min_data_in_leaf': 62}. Best is trial#54 with value: 2.075449686609079.\n"
     ]
    },
    {
     "name": "stdout",
     "output_type": "stream",
     "text": [
      "MAPE of prediction is: 2.0905500165340687\n"
     ]
    },
    {
     "name": "stderr",
     "output_type": "stream",
     "text": [
      "[I 2020-05-22 17:32:21,909] Finished trial#142 with value: 2.0905500165340687 with parameters: {'boosting_type': 'gbdt', 'num_leaves': 229, 'num_rounds': 665, 'learning_rate': 0.10008876865100763, 'min_data_in_leaf': 59}. Best is trial#54 with value: 2.075449686609079.\n"
     ]
    },
    {
     "name": "stdout",
     "output_type": "stream",
     "text": [
      "MAPE of prediction is: 2.099914038894705\n"
     ]
    },
    {
     "name": "stderr",
     "output_type": "stream",
     "text": [
      "[I 2020-05-22 17:33:01,587] Finished trial#143 with value: 2.099914038894705 with parameters: {'boosting_type': 'gbdt', 'num_leaves': 217, 'num_rounds': 686, 'learning_rate': 0.12601803901586578, 'min_data_in_leaf': 52}. Best is trial#54 with value: 2.075449686609079.\n"
     ]
    },
    {
     "name": "stdout",
     "output_type": "stream",
     "text": [
      "MAPE of prediction is: 2.088623057654717\n"
     ]
    },
    {
     "name": "stderr",
     "output_type": "stream",
     "text": [
      "[I 2020-05-22 17:33:49,069] Finished trial#144 with value: 2.088623057654717 with parameters: {'boosting_type': 'gbdt', 'num_leaves': 211, 'num_rounds': 673, 'learning_rate': 0.06208231015260351, 'min_data_in_leaf': 58}. Best is trial#54 with value: 2.075449686609079.\n"
     ]
    },
    {
     "name": "stdout",
     "output_type": "stream",
     "text": [
      "MAPE of prediction is: 2.09899756655434\n"
     ]
    },
    {
     "name": "stderr",
     "output_type": "stream",
     "text": [
      "[I 2020-05-22 17:34:36,241] Finished trial#145 with value: 2.09899756655434 with parameters: {'boosting_type': 'gbdt', 'num_leaves': 210, 'num_rounds': 688, 'learning_rate': 0.06412728338240851, 'min_data_in_leaf': 56}. Best is trial#54 with value: 2.075449686609079.\n"
     ]
    },
    {
     "name": "stdout",
     "output_type": "stream",
     "text": [
      "MAPE of prediction is: 2.5444326615507573\n"
     ]
    },
    {
     "name": "stderr",
     "output_type": "stream",
     "text": [
      "[I 2020-05-22 17:35:37,235] Finished trial#146 with value: 2.5444326615507573 with parameters: {'boosting_type': 'gbdt', 'num_leaves': 233, 'num_rounds': 670, 'learning_rate': 0.017042427813258113, 'min_data_in_leaf': 27}. Best is trial#54 with value: 2.075449686609079.\n"
     ]
    },
    {
     "name": "stdout",
     "output_type": "stream",
     "text": [
      "MAPE of prediction is: 2.091886323090547\n"
     ]
    },
    {
     "name": "stderr",
     "output_type": "stream",
     "text": [
      "[I 2020-05-22 17:36:22,073] Finished trial#147 with value: 2.091886323090547 with parameters: {'boosting_type': 'gbdt', 'num_leaves': 214, 'num_rounds': 699, 'learning_rate': 0.07977962540365399, 'min_data_in_leaf': 50}. Best is trial#54 with value: 2.075449686609079.\n"
     ]
    },
    {
     "name": "stdout",
     "output_type": "stream",
     "text": [
      "MAPE of prediction is: 2.130604206859304\n"
     ]
    },
    {
     "name": "stderr",
     "output_type": "stream",
     "text": [
      "[I 2020-05-22 17:37:12,202] Finished trial#148 with value: 2.130604206859304 with parameters: {'boosting_type': 'gbdt', 'num_leaves': 223, 'num_rounds': 656, 'learning_rate': 0.05019439195054669, 'min_data_in_leaf': 53}. Best is trial#54 with value: 2.075449686609079.\n"
     ]
    },
    {
     "name": "stdout",
     "output_type": "stream",
     "text": [
      "MAPE of prediction is: 2.0852695110804382\n"
     ]
    },
    {
     "name": "stderr",
     "output_type": "stream",
     "text": [
      "[I 2020-05-22 17:37:58,553] Finished trial#149 with value: 2.0852695110804382 with parameters: {'boosting_type': 'gbdt', 'num_leaves': 240, 'num_rounds': 700, 'learning_rate': 0.08882218797897794, 'min_data_in_leaf': 57}. Best is trial#54 with value: 2.075449686609079.\n"
     ]
    },
    {
     "name": "stdout",
     "output_type": "stream",
     "text": [
      "MAPE of prediction is: 2.0953326665374825\n"
     ]
    },
    {
     "name": "stderr",
     "output_type": "stream",
     "text": [
      "[I 2020-05-22 17:38:46,123] Finished trial#150 with value: 2.0953326665374825 with parameters: {'boosting_type': 'gbdt', 'num_leaves': 240, 'num_rounds': 675, 'learning_rate': 0.07134191694708536, 'min_data_in_leaf': 58}. Best is trial#54 with value: 2.075449686609079.\n"
     ]
    },
    {
     "name": "stdout",
     "output_type": "stream",
     "text": [
      "MAPE of prediction is: 2.081116043808749\n"
     ]
    },
    {
     "name": "stderr",
     "output_type": "stream",
     "text": [
      "[I 2020-05-22 17:39:32,235] Finished trial#151 with value: 2.081116043808749 with parameters: {'boosting_type': 'gbdt', 'num_leaves': 235, 'num_rounds': 700, 'learning_rate': 0.08827676310930382, 'min_data_in_leaf': 58}. Best is trial#54 with value: 2.075449686609079.\n"
     ]
    },
    {
     "name": "stdout",
     "output_type": "stream",
     "text": [
      "MAPE of prediction is: 2.2265325901186657\n"
     ]
    },
    {
     "name": "stderr",
     "output_type": "stream",
     "text": [
      "[I 2020-05-22 17:39:56,813] Finished trial#152 with value: 2.2265325901186657 with parameters: {'boosting_type': 'gbdt', 'num_leaves': 251, 'num_rounds': 295, 'learning_rate': 0.09008707202573815, 'min_data_in_leaf': 61}. Best is trial#54 with value: 2.075449686609079.\n"
     ]
    },
    {
     "name": "stdout",
     "output_type": "stream",
     "text": [
      "MAPE of prediction is: 2.10054839184025\n"
     ]
    },
    {
     "name": "stderr",
     "output_type": "stream",
     "text": [
      "[I 2020-05-22 17:40:40,610] Finished trial#153 with value: 2.10054839184025 with parameters: {'boosting_type': 'gbdt', 'num_leaves': 228, 'num_rounds': 699, 'learning_rate': 0.10599336754226413, 'min_data_in_leaf': 59}. Best is trial#54 with value: 2.075449686609079.\n"
     ]
    },
    {
     "name": "stdout",
     "output_type": "stream",
     "text": [
      "MAPE of prediction is: 2.0999887940488224\n"
     ]
    },
    {
     "name": "stderr",
     "output_type": "stream",
     "text": [
      "[I 2020-05-22 17:41:32,267] Finished trial#154 with value: 2.0999887940488224 with parameters: {'boosting_type': 'gbdt', 'num_leaves': 244, 'num_rounds': 700, 'learning_rate': 0.060113195990478645, 'min_data_in_leaf': 54}. Best is trial#54 with value: 2.075449686609079.\n"
     ]
    },
    {
     "name": "stdout",
     "output_type": "stream",
     "text": [
      "MAPE of prediction is: 2.0866542652671782\n"
     ]
    },
    {
     "name": "stderr",
     "output_type": "stream",
     "text": [
      "[I 2020-05-22 17:42:18,747] Finished trial#155 with value: 2.0866542652671782 with parameters: {'boosting_type': 'gbdt', 'num_leaves': 237, 'num_rounds': 688, 'learning_rate': 0.0818300594844453, 'min_data_in_leaf': 57}. Best is trial#54 with value: 2.075449686609079.\n"
     ]
    },
    {
     "name": "stdout",
     "output_type": "stream",
     "text": [
      "MAPE of prediction is: 2.087685262146753\n"
     ]
    },
    {
     "name": "stderr",
     "output_type": "stream",
     "text": [
      "[I 2020-05-22 17:43:05,203] Finished trial#156 with value: 2.087685262146753 with parameters: {'boosting_type': 'gbdt', 'num_leaves': 235, 'num_rounds': 683, 'learning_rate': 0.0812283582886157, 'min_data_in_leaf': 58}. Best is trial#54 with value: 2.075449686609079.\n"
     ]
    },
    {
     "name": "stdout",
     "output_type": "stream",
     "text": [
      "MAPE of prediction is: 2.16656525289128\n"
     ]
    },
    {
     "name": "stderr",
     "output_type": "stream",
     "text": [
      "[I 2020-05-22 17:43:36,070] Finished trial#157 with value: 2.16656525289128 with parameters: {'boosting_type': 'gbdt', 'num_leaves': 237, 'num_rounds': 397, 'learning_rate': 0.08175912605691743, 'min_data_in_leaf': 58}. Best is trial#54 with value: 2.075449686609079.\n"
     ]
    },
    {
     "name": "stdout",
     "output_type": "stream",
     "text": [
      "MAPE of prediction is: 2.104022948444774\n"
     ]
    },
    {
     "name": "stderr",
     "output_type": "stream",
     "text": [
      "[I 2020-05-22 17:44:23,305] Finished trial#158 with value: 2.104022948444774 with parameters: {'boosting_type': 'gbdt', 'num_leaves': 247, 'num_rounds': 644, 'learning_rate': 0.07050509796817014, 'min_data_in_leaf': 63}. Best is trial#54 with value: 2.075449686609079.\n"
     ]
    },
    {
     "name": "stdout",
     "output_type": "stream",
     "text": [
      "MAPE of prediction is: 5.562506149656507\n"
     ]
    },
    {
     "name": "stderr",
     "output_type": "stream",
     "text": [
      "[I 2020-05-22 17:44:25,264] Finished trial#159 with value: 5.562506149656507 with parameters: {'boosting_type': 'goss', 'num_leaves': 225, 'num_rounds': 675, 'learning_rate': 0.06407377529436532, 'min_data_in_leaf': 61}. Best is trial#54 with value: 2.075449686609079.\n"
     ]
    },
    {
     "name": "stdout",
     "output_type": "stream",
     "text": [
      "MAPE of prediction is: 2.095011530056519\n"
     ]
    },
    {
     "name": "stderr",
     "output_type": "stream",
     "text": [
      "[I 2020-05-22 17:45:02,111] Finished trial#160 with value: 2.095011530056519 with parameters: {'boosting_type': 'gbdt', 'num_leaves': 140, 'num_rounds': 667, 'learning_rate': 0.0802916778088573, 'min_data_in_leaf': 57}. Best is trial#54 with value: 2.075449686609079.\n"
     ]
    },
    {
     "name": "stdout",
     "output_type": "stream",
     "text": [
      "MAPE of prediction is: 2.0899182607943967\n"
     ]
    },
    {
     "name": "stderr",
     "output_type": "stream",
     "text": [
      "[I 2020-05-22 17:45:47,659] Finished trial#161 with value: 2.0899182607943967 with parameters: {'boosting_type': 'gbdt', 'num_leaves': 235, 'num_rounds': 682, 'learning_rate': 0.0887979388418021, 'min_data_in_leaf': 59}. Best is trial#54 with value: 2.075449686609079.\n"
     ]
    },
    {
     "name": "stdout",
     "output_type": "stream",
     "text": [
      "MAPE of prediction is: 2.090405299546504\n"
     ]
    },
    {
     "name": "stderr",
     "output_type": "stream",
     "text": [
      "[I 2020-05-22 17:46:30,798] Finished trial#162 with value: 2.090405299546504 with parameters: {'boosting_type': 'gbdt', 'num_leaves': 237, 'num_rounds': 686, 'learning_rate': 0.11253233417519483, 'min_data_in_leaf': 56}. Best is trial#54 with value: 2.075449686609079.\n"
     ]
    },
    {
     "name": "stdout",
     "output_type": "stream",
     "text": [
      "MAPE of prediction is: 2.102999027851584\n"
     ]
    },
    {
     "name": "stderr",
     "output_type": "stream",
     "text": [
      "[I 2020-05-22 17:47:10,248] Finished trial#163 with value: 2.102999027851584 with parameters: {'boosting_type': 'gbdt', 'num_leaves': 152, 'num_rounds': 688, 'learning_rate': 0.07497997045557679, 'min_data_in_leaf': 62}. Best is trial#54 with value: 2.075449686609079.\n"
     ]
    },
    {
     "name": "stdout",
     "output_type": "stream",
     "text": [
      "MAPE of prediction is: 2.0903391536444373\n"
     ]
    },
    {
     "name": "stderr",
     "output_type": "stream",
     "text": [
      "[I 2020-05-22 17:47:52,693] Finished trial#164 with value: 2.0903391536444373 with parameters: {'boosting_type': 'gbdt', 'num_leaves': 222, 'num_rounds': 657, 'learning_rate': 0.09925218744708385, 'min_data_in_leaf': 64}. Best is trial#54 with value: 2.075449686609079.\n"
     ]
    },
    {
     "name": "stdout",
     "output_type": "stream",
     "text": [
      "MAPE of prediction is: 2.1062670136589916\n"
     ]
    },
    {
     "name": "stderr",
     "output_type": "stream",
     "text": [
      "[I 2020-05-22 17:48:45,175] Finished trial#165 with value: 2.1062670136589916 with parameters: {'boosting_type': 'gbdt', 'num_leaves': 245, 'num_rounds': 691, 'learning_rate': 0.055666517400514794, 'min_data_in_leaf': 55}. Best is trial#54 with value: 2.075449686609079.\n"
     ]
    },
    {
     "name": "stdout",
     "output_type": "stream",
     "text": [
      "MAPE of prediction is: 2.1298927265267316\n"
     ]
    },
    {
     "name": "stderr",
     "output_type": "stream",
     "text": [
      "[I 2020-05-22 17:49:23,400] Finished trial#166 with value: 2.1298927265267316 with parameters: {'boosting_type': 'gbdt', 'num_leaves': 253, 'num_rounds': 522, 'learning_rate': 0.08763187051399547, 'min_data_in_leaf': 60}. Best is trial#54 with value: 2.075449686609079.\n"
     ]
    },
    {
     "name": "stdout",
     "output_type": "stream",
     "text": [
      "MAPE of prediction is: 2.128509376389812\n"
     ]
    },
    {
     "name": "stderr",
     "output_type": "stream",
     "text": [
      "[I 2020-05-22 17:50:03,057] Finished trial#167 with value: 2.128509376389812 with parameters: {'boosting_type': 'gbdt', 'num_leaves': 217, 'num_rounds': 673, 'learning_rate': 0.13470520268656308, 'min_data_in_leaf': 58}. Best is trial#54 with value: 2.075449686609079.\n"
     ]
    },
    {
     "name": "stdout",
     "output_type": "stream",
     "text": [
      "MAPE of prediction is: 2.103022470676177\n"
     ]
    },
    {
     "name": "stderr",
     "output_type": "stream",
     "text": [
      "[I 2020-05-22 17:50:43,019] Finished trial#168 with value: 2.103022470676177 with parameters: {'boosting_type': 'gbdt', 'num_leaves': 206, 'num_rounds': 700, 'learning_rate': 0.12031997412938397, 'min_data_in_leaf': 54}. Best is trial#54 with value: 2.075449686609079.\n"
     ]
    },
    {
     "name": "stdout",
     "output_type": "stream",
     "text": [
      "MAPE of prediction is: 2.0872660999118784\n"
     ]
    },
    {
     "name": "stderr",
     "output_type": "stream",
     "text": [
      "[I 2020-05-22 17:51:29,819] Finished trial#169 with value: 2.0872660999118784 with parameters: {'boosting_type': 'gbdt', 'num_leaves': 231, 'num_rounds': 681, 'learning_rate': 0.07431254738819205, 'min_data_in_leaf': 57}. Best is trial#54 with value: 2.075449686609079.\n"
     ]
    },
    {
     "name": "stdout",
     "output_type": "stream",
     "text": [
      "MAPE of prediction is: 2.144014351669097\n"
     ]
    },
    {
     "name": "stderr",
     "output_type": "stream",
     "text": [
      "[I 2020-05-22 17:52:20,905] Finished trial#170 with value: 2.144014351669097 with parameters: {'boosting_type': 'gbdt', 'num_leaves': 211, 'num_rounds': 660, 'learning_rate': 0.045933504643246005, 'min_data_in_leaf': 59}. Best is trial#54 with value: 2.075449686609079.\n"
     ]
    },
    {
     "name": "stdout",
     "output_type": "stream",
     "text": [
      "MAPE of prediction is: 2.087866229371618\n"
     ]
    },
    {
     "name": "stderr",
     "output_type": "stream",
     "text": [
      "[I 2020-05-22 17:53:07,576] Finished trial#171 with value: 2.087866229371618 with parameters: {'boosting_type': 'gbdt', 'num_leaves': 232, 'num_rounds': 688, 'learning_rate': 0.07627879575365569, 'min_data_in_leaf': 57}. Best is trial#54 with value: 2.075449686609079.\n"
     ]
    },
    {
     "name": "stdout",
     "output_type": "stream",
     "text": [
      "MAPE of prediction is: 2.088804956170117\n"
     ]
    },
    {
     "name": "stderr",
     "output_type": "stream",
     "text": [
      "[I 2020-05-22 17:53:58,031] Finished trial#172 with value: 2.088804956170117 with parameters: {'boosting_type': 'gbdt', 'num_leaves': 240, 'num_rounds': 700, 'learning_rate': 0.06536844662926623, 'min_data_in_leaf': 57}. Best is trial#54 with value: 2.075449686609079.\n"
     ]
    },
    {
     "name": "stdout",
     "output_type": "stream",
     "text": [
      "MAPE of prediction is: 2.0952542122715094\n"
     ]
    },
    {
     "name": "stderr",
     "output_type": "stream",
     "text": [
      "[I 2020-05-22 17:54:43,962] Finished trial#173 with value: 2.0952542122715094 with parameters: {'boosting_type': 'gbdt', 'num_leaves': 227, 'num_rounds': 678, 'learning_rate': 0.07627534972815041, 'min_data_in_leaf': 60}. Best is trial#54 with value: 2.075449686609079.\n"
     ]
    },
    {
     "name": "stdout",
     "output_type": "stream",
     "text": [
      "MAPE of prediction is: 2.094096225146665\n"
     ]
    },
    {
     "name": "stderr",
     "output_type": "stream",
     "text": [
      "[I 2020-05-22 17:55:29,135] Finished trial#174 with value: 2.094096225146665 with parameters: {'boosting_type': 'gbdt', 'num_leaves': 238, 'num_rounds': 670, 'learning_rate': 0.08281515985095142, 'min_data_in_leaf': 56}. Best is trial#54 with value: 2.075449686609079.\n"
     ]
    },
    {
     "name": "stdout",
     "output_type": "stream",
     "text": [
      "MAPE of prediction is: 2.094851958238661\n"
     ]
    },
    {
     "name": "stderr",
     "output_type": "stream",
     "text": [
      "[I 2020-05-22 17:56:17,768] Finished trial#175 with value: 2.094851958238661 with parameters: {'boosting_type': 'gbdt', 'num_leaves': 233, 'num_rounds': 700, 'learning_rate': 0.07018515800316678, 'min_data_in_leaf': 57}. Best is trial#54 with value: 2.075449686609079.\n"
     ]
    },
    {
     "name": "stdout",
     "output_type": "stream",
     "text": [
      "MAPE of prediction is: 2.0789111443521295\n"
     ]
    },
    {
     "name": "stderr",
     "output_type": "stream",
     "text": [
      "[I 2020-05-22 17:57:01,658] Finished trial#176 with value: 2.0789111443521295 with parameters: {'boosting_type': 'gbdt', 'num_leaves': 221, 'num_rounds': 685, 'learning_rate': 0.08911893802687818, 'min_data_in_leaf': 62}. Best is trial#54 with value: 2.075449686609079.\n"
     ]
    },
    {
     "name": "stdout",
     "output_type": "stream",
     "text": [
      "MAPE of prediction is: 2.102135379826319\n"
     ]
    },
    {
     "name": "stderr",
     "output_type": "stream",
     "text": [
      "[I 2020-05-22 17:57:45,721] Finished trial#177 with value: 2.102135379826319 with parameters: {'boosting_type': 'gbdt', 'num_leaves': 222, 'num_rounds': 685, 'learning_rate': 0.09565183507342227, 'min_data_in_leaf': 64}. Best is trial#54 with value: 2.075449686609079.\n"
     ]
    },
    {
     "name": "stdout",
     "output_type": "stream",
     "text": [
      "MAPE of prediction is: 2.0910033649804696\n"
     ]
    },
    {
     "name": "stderr",
     "output_type": "stream",
     "text": [
      "[I 2020-05-22 17:58:30,115] Finished trial#178 with value: 2.0910033649804696 with parameters: {'boosting_type': 'gbdt', 'num_leaves': 244, 'num_rounds': 691, 'learning_rate': 0.11176734330038018, 'min_data_in_leaf': 61}. Best is trial#54 with value: 2.075449686609079.\n"
     ]
    },
    {
     "name": "stdout",
     "output_type": "stream",
     "text": [
      "MAPE of prediction is: 2.5861816771942596\n"
     ]
    },
    {
     "name": "stderr",
     "output_type": "stream",
     "text": [
      "[I 2020-05-22 18:06:24,789] Finished trial#179 with value: 2.5861816771942596 with parameters: {'boosting_type': 'dart', 'num_leaves': 227, 'num_rounds': 647, 'learning_rate': 0.08571433667114231, 'min_data_in_leaf': 62}. Best is trial#54 with value: 2.075449686609079.\n"
     ]
    },
    {
     "name": "stdout",
     "output_type": "stream",
     "text": [
      "MAPE of prediction is: 2.143611484965779\n"
     ]
    },
    {
     "name": "stderr",
     "output_type": "stream",
     "text": [
      "[I 2020-05-22 18:07:04,750] Finished trial#180 with value: 2.143611484965779 with parameters: {'boosting_type': 'gbdt', 'num_leaves': 234, 'num_rounds': 664, 'learning_rate': 0.1520628048617842, 'min_data_in_leaf': 66}. Best is trial#54 with value: 2.075449686609079.\n"
     ]
    },
    {
     "name": "stdout",
     "output_type": "stream",
     "text": [
      "MAPE of prediction is: 2.086863842019532\n"
     ]
    },
    {
     "name": "stderr",
     "output_type": "stream",
     "text": [
      "[I 2020-05-22 18:07:50,175] Finished trial#181 with value: 2.086863842019532 with parameters: {'boosting_type': 'gbdt', 'num_leaves': 218, 'num_rounds': 679, 'learning_rate': 0.07560073306043379, 'min_data_in_leaf': 58}. Best is trial#54 with value: 2.075449686609079.\n"
     ]
    },
    {
     "name": "stdout",
     "output_type": "stream",
     "text": [
      "MAPE of prediction is: 2.0805256216859322\n"
     ]
    },
    {
     "name": "stderr",
     "output_type": "stream",
     "text": [
      "[I 2020-05-22 18:08:36,067] Finished trial#182 with value: 2.0805256216859322 with parameters: {'boosting_type': 'gbdt', 'num_leaves': 218, 'num_rounds': 700, 'learning_rate': 0.07677295102124089, 'min_data_in_leaf': 55}. Best is trial#54 with value: 2.075449686609079.\n"
     ]
    },
    {
     "name": "stdout",
     "output_type": "stream",
     "text": [
      "MAPE of prediction is: 2.0844504283964143\n"
     ]
    },
    {
     "name": "stderr",
     "output_type": "stream",
     "text": [
      "[I 2020-05-22 18:09:21,006] Finished trial#183 with value: 2.0844504283964143 with parameters: {'boosting_type': 'gbdt', 'num_leaves': 215, 'num_rounds': 690, 'learning_rate': 0.07968967485938745, 'min_data_in_leaf': 59}. Best is trial#54 with value: 2.075449686609079.\n"
     ]
    },
    {
     "name": "stdout",
     "output_type": "stream",
     "text": [
      "MAPE of prediction is: 2.0922789202961636\n"
     ]
    },
    {
     "name": "stderr",
     "output_type": "stream",
     "text": [
      "[I 2020-05-22 18:10:07,580] Finished trial#184 with value: 2.0922789202961636 with parameters: {'boosting_type': 'gbdt', 'num_leaves': 220, 'num_rounds': 689, 'learning_rate': 0.07499554139074564, 'min_data_in_leaf': 60}. Best is trial#54 with value: 2.075449686609079.\n"
     ]
    },
    {
     "name": "stdout",
     "output_type": "stream",
     "text": [
      "MAPE of prediction is: 2.088285729912817\n"
     ]
    },
    {
     "name": "stderr",
     "output_type": "stream",
     "text": [
      "[I 2020-05-22 18:10:53,413] Finished trial#185 with value: 2.088285729912817 with parameters: {'boosting_type': 'gbdt', 'num_leaves': 217, 'num_rounds': 683, 'learning_rate': 0.07251658991032002, 'min_data_in_leaf': 58}. Best is trial#54 with value: 2.075449686609079.\n"
     ]
    },
    {
     "name": "stdout",
     "output_type": "stream",
     "text": [
      "MAPE of prediction is: 2.1040131207001456\n"
     ]
    },
    {
     "name": "stderr",
     "output_type": "stream",
     "text": [
      "[I 2020-05-22 18:11:44,574] Finished trial#186 with value: 2.1040131207001456 with parameters: {'boosting_type': 'gbdt', 'num_leaves': 224, 'num_rounds': 700, 'learning_rate': 0.05643746063036147, 'min_data_in_leaf': 55}. Best is trial#54 with value: 2.075449686609079.\n"
     ]
    },
    {
     "name": "stdout",
     "output_type": "stream",
     "text": [
      "MAPE of prediction is: 2.096666957967272\n"
     ]
    },
    {
     "name": "stderr",
     "output_type": "stream",
     "text": [
      "[I 2020-05-22 18:12:31,055] Finished trial#187 with value: 2.096666957967272 with parameters: {'boosting_type': 'gbdt', 'num_leaves': 201, 'num_rounds': 700, 'learning_rate': 0.06538547050617992, 'min_data_in_leaf': 57}. Best is trial#54 with value: 2.075449686609079.\n"
     ]
    },
    {
     "name": "stdout",
     "output_type": "stream",
     "text": [
      "MAPE of prediction is: 2.092105353812491\n"
     ]
    },
    {
     "name": "stderr",
     "output_type": "stream",
     "text": [
      "[I 2020-05-22 18:13:16,588] Finished trial#188 with value: 2.092105353812491 with parameters: {'boosting_type': 'gbdt', 'num_leaves': 228, 'num_rounds': 681, 'learning_rate': 0.07990320146896113, 'min_data_in_leaf': 59}. Best is trial#54 with value: 2.075449686609079.\n"
     ]
    },
    {
     "name": "stdout",
     "output_type": "stream",
     "text": [
      "MAPE of prediction is: 2.086508335781636\n"
     ]
    },
    {
     "name": "stderr",
     "output_type": "stream",
     "text": [
      "[I 2020-05-22 18:13:59,396] Finished trial#189 with value: 2.086508335781636 with parameters: {'boosting_type': 'gbdt', 'num_leaves': 214, 'num_rounds': 687, 'learning_rate': 0.09688834075328685, 'min_data_in_leaf': 54}. Best is trial#54 with value: 2.075449686609079.\n"
     ]
    },
    {
     "name": "stdout",
     "output_type": "stream",
     "text": [
      "MAPE of prediction is: 2.0988962682434273\n"
     ]
    },
    {
     "name": "stderr",
     "output_type": "stream",
     "text": [
      "[I 2020-05-22 18:14:39,831] Finished trial#190 with value: 2.0988962682434273 with parameters: {'boosting_type': 'gbdt', 'num_leaves': 216, 'num_rounds': 669, 'learning_rate': 0.10251521466383991, 'min_data_in_leaf': 53}. Best is trial#54 with value: 2.075449686609079.\n"
     ]
    },
    {
     "name": "stdout",
     "output_type": "stream",
     "text": [
      "MAPE of prediction is: 2.0833209601280807\n"
     ]
    },
    {
     "name": "stderr",
     "output_type": "stream",
     "text": [
      "[I 2020-05-22 18:15:22,835] Finished trial#191 with value: 2.0833209601280807 with parameters: {'boosting_type': 'gbdt', 'num_leaves': 214, 'num_rounds': 689, 'learning_rate': 0.09078415160704624, 'min_data_in_leaf': 55}. Best is trial#54 with value: 2.075449686609079.\n"
     ]
    },
    {
     "name": "stdout",
     "output_type": "stream",
     "text": [
      "MAPE of prediction is: 2.089909774701019\n"
     ]
    },
    {
     "name": "stderr",
     "output_type": "stream",
     "text": [
      "[I 2020-05-22 18:16:05,266] Finished trial#192 with value: 2.089909774701019 with parameters: {'boosting_type': 'gbdt', 'num_leaves': 207, 'num_rounds': 688, 'learning_rate': 0.09080657518627858, 'min_data_in_leaf': 55}. Best is trial#54 with value: 2.075449686609079.\n"
     ]
    },
    {
     "name": "stdout",
     "output_type": "stream",
     "text": [
      "MAPE of prediction is: 2.088192359492622\n"
     ]
    },
    {
     "name": "stderr",
     "output_type": "stream",
     "text": [
      "[I 2020-05-22 18:16:46,927] Finished trial#193 with value: 2.088192359492622 with parameters: {'boosting_type': 'gbdt', 'num_leaves': 210, 'num_rounds': 700, 'learning_rate': 0.09908922175365424, 'min_data_in_leaf': 54}. Best is trial#54 with value: 2.075449686609079.\n"
     ]
    },
    {
     "name": "stdout",
     "output_type": "stream",
     "text": [
      "MAPE of prediction is: 2.0764847766146044\n"
     ]
    },
    {
     "name": "stderr",
     "output_type": "stream",
     "text": [
      "[I 2020-05-22 18:17:31,232] Finished trial#194 with value: 2.0764847766146044 with parameters: {'boosting_type': 'gbdt', 'num_leaves': 214, 'num_rounds': 700, 'learning_rate': 0.08752651216058122, 'min_data_in_leaf': 56}. Best is trial#54 with value: 2.075449686609079.\n"
     ]
    },
    {
     "name": "stdout",
     "output_type": "stream",
     "text": [
      "MAPE of prediction is: 2.0793107527103216\n"
     ]
    },
    {
     "name": "stderr",
     "output_type": "stream",
     "text": [
      "[I 2020-05-22 18:18:15,354] Finished trial#195 with value: 2.0793107527103216 with parameters: {'boosting_type': 'gbdt', 'num_leaves': 215, 'num_rounds': 700, 'learning_rate': 0.09124447952730241, 'min_data_in_leaf': 56}. Best is trial#54 with value: 2.075449686609079.\n"
     ]
    },
    {
     "name": "stdout",
     "output_type": "stream",
     "text": [
      "MAPE of prediction is: 2.1024050119555713\n"
     ]
    },
    {
     "name": "stderr",
     "output_type": "stream",
     "text": [
      "[I 2020-05-22 18:18:55,796] Finished trial#196 with value: 2.1024050119555713 with parameters: {'boosting_type': 'gbdt', 'num_leaves': 215, 'num_rounds': 696, 'learning_rate': 0.11765947221706885, 'min_data_in_leaf': 51}. Best is trial#54 with value: 2.075449686609079.\n"
     ]
    },
    {
     "name": "stdout",
     "output_type": "stream",
     "text": [
      "MAPE of prediction is: 2.086549180933041\n"
     ]
    },
    {
     "name": "stderr",
     "output_type": "stream",
     "text": [
      "[I 2020-05-22 18:19:38,592] Finished trial#197 with value: 2.086549180933041 with parameters: {'boosting_type': 'gbdt', 'num_leaves': 213, 'num_rounds': 700, 'learning_rate': 0.09532439817903925, 'min_data_in_leaf': 54}. Best is trial#54 with value: 2.075449686609079.\n"
     ]
    },
    {
     "name": "stdout",
     "output_type": "stream",
     "text": [
      "MAPE of prediction is: 2.0971143785359145\n"
     ]
    },
    {
     "name": "stderr",
     "output_type": "stream",
     "text": [
      "[I 2020-05-22 18:20:21,605] Finished trial#198 with value: 2.0971143785359145 with parameters: {'boosting_type': 'gbdt', 'num_leaves': 214, 'num_rounds': 699, 'learning_rate': 0.09901114147892393, 'min_data_in_leaf': 54}. Best is trial#54 with value: 2.075449686609079.\n"
     ]
    },
    {
     "name": "stdout",
     "output_type": "stream",
     "text": [
      "MAPE of prediction is: 2.0876629088828853\n"
     ]
    },
    {
     "name": "stderr",
     "output_type": "stream",
     "text": [
      "[I 2020-05-22 18:21:04,004] Finished trial#199 with value: 2.0876629088828853 with parameters: {'boosting_type': 'gbdt', 'num_leaves': 204, 'num_rounds': 692, 'learning_rate': 0.08923939982426449, 'min_data_in_leaf': 52}. Best is trial#54 with value: 2.075449686609079.\n"
     ]
    },
    {
     "name": "stdout",
     "output_type": "stream",
     "text": [
      "MAPE of prediction is: 2.1169285879424056\n"
     ]
    },
    {
     "name": "stderr",
     "output_type": "stream",
     "text": [
      "[I 2020-05-22 18:21:42,999] Finished trial#200 with value: 2.1169285879424056 with parameters: {'boosting_type': 'gbdt', 'num_leaves': 199, 'num_rounds': 698, 'learning_rate': 0.12536148943184028, 'min_data_in_leaf': 55}. Best is trial#54 with value: 2.075449686609079.\n"
     ]
    },
    {
     "name": "stdout",
     "output_type": "stream",
     "text": [
      "MAPE of prediction is: 2.1074520737168077\n"
     ]
    },
    {
     "name": "stderr",
     "output_type": "stream",
     "text": [
      "[I 2020-05-22 18:22:23,759] Finished trial#201 with value: 2.1074520737168077 with parameters: {'boosting_type': 'gbdt', 'num_leaves': 210, 'num_rounds': 677, 'learning_rate': 0.10633536542731034, 'min_data_in_leaf': 56}. Best is trial#54 with value: 2.075449686609079.\n"
     ]
    },
    {
     "name": "stdout",
     "output_type": "stream",
     "text": [
      "MAPE of prediction is: 2.145292406799142\n"
     ]
    },
    {
     "name": "stderr",
     "output_type": "stream",
     "text": [
      "[I 2020-05-22 18:22:57,335] Finished trial#202 with value: 2.145292406799142 with parameters: {'boosting_type': 'gbdt', 'num_leaves': 220, 'num_rounds': 478, 'learning_rate': 0.08835533532823803, 'min_data_in_leaf': 53}. Best is trial#54 with value: 2.075449686609079.\n"
     ]
    },
    {
     "name": "stdout",
     "output_type": "stream",
     "text": [
      "MAPE of prediction is: 2.083896479431604\n"
     ]
    },
    {
     "name": "stderr",
     "output_type": "stream",
     "text": [
      "[I 2020-05-22 18:23:40,477] Finished trial#203 with value: 2.083896479431604 with parameters: {'boosting_type': 'gbdt', 'num_leaves': 212, 'num_rounds': 698, 'learning_rate': 0.09483399800407602, 'min_data_in_leaf': 59}. Best is trial#54 with value: 2.075449686609079.\n"
     ]
    },
    {
     "name": "stdout",
     "output_type": "stream",
     "text": [
      "MAPE of prediction is: 2.092860476896346\n"
     ]
    },
    {
     "name": "stderr",
     "output_type": "stream",
     "text": [
      "[I 2020-05-22 18:24:22,437] Finished trial#204 with value: 2.092860476896346 with parameters: {'boosting_type': 'gbdt', 'num_leaves': 207, 'num_rounds': 692, 'learning_rate': 0.10361208035673969, 'min_data_in_leaf': 61}. Best is trial#54 with value: 2.075449686609079.\n"
     ]
    },
    {
     "name": "stdout",
     "output_type": "stream",
     "text": [
      "MAPE of prediction is: 2.0808758871219144\n"
     ]
    },
    {
     "name": "stderr",
     "output_type": "stream",
     "text": [
      "[I 2020-05-22 18:25:06,157] Finished trial#205 with value: 2.0808758871219144 with parameters: {'boosting_type': 'gbdt', 'num_leaves': 215, 'num_rounds': 698, 'learning_rate': 0.09165116595639791, 'min_data_in_leaf': 56}. Best is trial#54 with value: 2.075449686609079.\n"
     ]
    },
    {
     "name": "stdout",
     "output_type": "stream",
     "text": [
      "MAPE of prediction is: 2.0886164541205323\n"
     ]
    },
    {
     "name": "stderr",
     "output_type": "stream",
     "text": [
      "[I 2020-05-22 18:25:48,678] Finished trial#206 with value: 2.0886164541205323 with parameters: {'boosting_type': 'gbdt', 'num_leaves': 211, 'num_rounds': 698, 'learning_rate': 0.09522308631832067, 'min_data_in_leaf': 51}. Best is trial#54 with value: 2.075449686609079.\n"
     ]
    },
    {
     "name": "stdout",
     "output_type": "stream",
     "text": [
      "MAPE of prediction is: 2.115838341650414\n"
     ]
    },
    {
     "name": "stderr",
     "output_type": "stream",
     "text": [
      "[I 2020-05-22 18:26:28,415] Finished trial#207 with value: 2.115838341650414 with parameters: {'boosting_type': 'gbdt', 'num_leaves': 213, 'num_rounds': 699, 'learning_rate': 0.12948002821688204, 'min_data_in_leaf': 55}. Best is trial#54 with value: 2.075449686609079.\n"
     ]
    },
    {
     "name": "stdout",
     "output_type": "stream",
     "text": [
      "MAPE of prediction is: 2.1057800378646006\n"
     ]
    },
    {
     "name": "stderr",
     "output_type": "stream",
     "text": [
      "[I 2020-05-22 18:27:11,342] Finished trial#208 with value: 2.1057800378646006 with parameters: {'boosting_type': 'gbdt', 'num_leaves': 223, 'num_rounds': 700, 'learning_rate': 0.11058505399532312, 'min_data_in_leaf': 60}. Best is trial#54 with value: 2.075449686609079.\n"
     ]
    },
    {
     "name": "stdout",
     "output_type": "stream",
     "text": [
      "MAPE of prediction is: 2.095698401345949\n"
     ]
    },
    {
     "name": "stderr",
     "output_type": "stream",
     "text": [
      "[I 2020-05-22 18:27:52,010] Finished trial#209 with value: 2.095698401345949 with parameters: {'boosting_type': 'gbdt', 'num_leaves': 202, 'num_rounds': 663, 'learning_rate': 0.09289907249421324, 'min_data_in_leaf': 56}. Best is trial#54 with value: 2.075449686609079.\n"
     ]
    },
    {
     "name": "stdout",
     "output_type": "stream",
     "text": [
      "MAPE of prediction is: 2.0976938306046455\n"
     ]
    },
    {
     "name": "stderr",
     "output_type": "stream",
     "text": [
      "[I 2020-05-22 18:28:32,696] Finished trial#210 with value: 2.0976938306046455 with parameters: {'boosting_type': 'gbdt', 'num_leaves': 214, 'num_rounds': 677, 'learning_rate': 0.11403259222893315, 'min_data_in_leaf': 59}. Best is trial#54 with value: 2.075449686609079.\n"
     ]
    },
    {
     "name": "stdout",
     "output_type": "stream",
     "text": [
      "MAPE of prediction is: 2.083647233793392\n"
     ]
    },
    {
     "name": "stderr",
     "output_type": "stream",
     "text": [
      "[I 2020-05-22 18:29:17,447] Finished trial#211 with value: 2.083647233793392 with parameters: {'boosting_type': 'gbdt', 'num_leaves': 220, 'num_rounds': 689, 'learning_rate': 0.08463196247020223, 'min_data_in_leaf': 56}. Best is trial#54 with value: 2.075449686609079.\n"
     ]
    },
    {
     "name": "stdout",
     "output_type": "stream",
     "text": [
      "MAPE of prediction is: 2.087716292719263\n"
     ]
    },
    {
     "name": "stderr",
     "output_type": "stream",
     "text": [
      "[I 2020-05-22 18:30:02,014] Finished trial#212 with value: 2.087716292719263 with parameters: {'boosting_type': 'gbdt', 'num_leaves': 219, 'num_rounds': 700, 'learning_rate': 0.08630439380013166, 'min_data_in_leaf': 55}. Best is trial#54 with value: 2.075449686609079.\n"
     ]
    },
    {
     "name": "stdout",
     "output_type": "stream",
     "text": [
      "MAPE of prediction is: 2.0980849558319297\n"
     ]
    },
    {
     "name": "stderr",
     "output_type": "stream",
     "text": [
      "[I 2020-05-22 18:30:45,273] Finished trial#213 with value: 2.0980849558319297 with parameters: {'boosting_type': 'gbdt', 'num_leaves': 220, 'num_rounds': 700, 'learning_rate': 0.09919721858948803, 'min_data_in_leaf': 53}. Best is trial#54 with value: 2.075449686609079.\n"
     ]
    },
    {
     "name": "stdout",
     "output_type": "stream",
     "text": [
      "MAPE of prediction is: 5.515662754900765\n"
     ]
    },
    {
     "name": "stderr",
     "output_type": "stream",
     "text": [
      "[I 2020-05-22 18:30:46,860] Finished trial#214 with value: 5.515662754900765 with parameters: {'boosting_type': 'goss', 'num_leaves': 215, 'num_rounds': 687, 'learning_rate': 0.08254471525822002, 'min_data_in_leaf': 59}. Best is trial#54 with value: 2.075449686609079.\n"
     ]
    },
    {
     "name": "stdout",
     "output_type": "stream",
     "text": [
      "MAPE of prediction is: 2.092796503039833\n"
     ]
    },
    {
     "name": "stderr",
     "output_type": "stream",
     "text": [
      "[I 2020-05-22 18:31:33,207] Finished trial#215 with value: 2.092796503039833 with parameters: {'boosting_type': 'gbdt', 'num_leaves': 206, 'num_rounds': 700, 'learning_rate': 0.06778746318793169, 'min_data_in_leaf': 56}. Best is trial#54 with value: 2.075449686609079.\n"
     ]
    },
    {
     "name": "stdout",
     "output_type": "stream",
     "text": [
      "MAPE of prediction is: 2.0810054343880093\n"
     ]
    },
    {
     "name": "stderr",
     "output_type": "stream",
     "text": [
      "[I 2020-05-22 18:32:16,122] Finished trial#216 with value: 2.0810054343880093 with parameters: {'boosting_type': 'gbdt', 'num_leaves': 224, 'num_rounds': 672, 'learning_rate': 0.09245627195131037, 'min_data_in_leaf': 54}. Best is trial#54 with value: 2.075449686609079.\n"
     ]
    },
    {
     "name": "stdout",
     "output_type": "stream",
     "text": [
      "MAPE of prediction is: 2.1002682351338637\n"
     ]
    },
    {
     "name": "stderr",
     "output_type": "stream",
     "text": [
      "[I 2020-05-22 18:33:00,445] Finished trial#217 with value: 2.1002682351338637 with parameters: {'boosting_type': 'gbdt', 'num_leaves': 225, 'num_rounds': 667, 'learning_rate': 0.08414476840151477, 'min_data_in_leaf': 63}. Best is trial#54 with value: 2.075449686609079.\n"
     ]
    },
    {
     "name": "stdout",
     "output_type": "stream",
     "text": [
      "MAPE of prediction is: 2.097972965877173\n"
     ]
    },
    {
     "name": "stderr",
     "output_type": "stream",
     "text": [
      "[I 2020-05-22 18:33:41,953] Finished trial#218 with value: 2.097972965877173 with parameters: {'boosting_type': 'gbdt', 'num_leaves': 220, 'num_rounds': 676, 'learning_rate': 0.10933780599955971, 'min_data_in_leaf': 57}. Best is trial#54 with value: 2.075449686609079.\n"
     ]
    },
    {
     "name": "stdout",
     "output_type": "stream",
     "text": [
      "MAPE of prediction is: 2.098107364446428\n"
     ]
    },
    {
     "name": "stderr",
     "output_type": "stream",
     "text": [
      "[I 2020-05-22 18:34:24,962] Finished trial#219 with value: 2.098107364446428 with parameters: {'boosting_type': 'gbdt', 'num_leaves': 221, 'num_rounds': 657, 'learning_rate': 0.0911708752914024, 'min_data_in_leaf': 60}. Best is trial#54 with value: 2.075449686609079.\n"
     ]
    },
    {
     "name": "stdout",
     "output_type": "stream",
     "text": [
      "MAPE of prediction is: 2.7955967443936593\n"
     ]
    },
    {
     "name": "stderr",
     "output_type": "stream",
     "text": [
      "[I 2020-05-22 18:34:35,714] Finished trial#220 with value: 2.7955967443936593 with parameters: {'boosting_type': 'gbdt', 'num_leaves': 224, 'num_rounds': 127, 'learning_rate': 0.06832076287771935, 'min_data_in_leaf': 62}. Best is trial#54 with value: 2.075449686609079.\n"
     ]
    },
    {
     "name": "stdout",
     "output_type": "stream",
     "text": [
      "MAPE of prediction is: 2.0846145194752763\n"
     ]
    },
    {
     "name": "stderr",
     "output_type": "stream",
     "text": [
      "[I 2020-05-22 18:35:17,707] Finished trial#221 with value: 2.0846145194752763 with parameters: {'boosting_type': 'gbdt', 'num_leaves': 212, 'num_rounds': 686, 'learning_rate': 0.09855123551352414, 'min_data_in_leaf': 54}. Best is trial#54 with value: 2.075449686609079.\n"
     ]
    },
    {
     "name": "stdout",
     "output_type": "stream",
     "text": [
      "MAPE of prediction is: 2.0953833804806434\n"
     ]
    },
    {
     "name": "stderr",
     "output_type": "stream",
     "text": [
      "[I 2020-05-22 18:35:59,323] Finished trial#222 with value: 2.0953833804806434 with parameters: {'boosting_type': 'gbdt', 'num_leaves': 210, 'num_rounds': 687, 'learning_rate': 0.101694076128905, 'min_data_in_leaf': 54}. Best is trial#54 with value: 2.075449686609079.\n"
     ]
    },
    {
     "name": "stdout",
     "output_type": "stream",
     "text": [
      "MAPE of prediction is: 2.0870654570361467\n"
     ]
    },
    {
     "name": "stderr",
     "output_type": "stream",
     "text": [
      "[I 2020-05-22 18:36:45,271] Finished trial#223 with value: 2.0870654570361467 with parameters: {'boosting_type': 'gbdt', 'num_leaves': 217, 'num_rounds': 677, 'learning_rate': 0.08052117265588221, 'min_data_in_leaf': 95}. Best is trial#54 with value: 2.075449686609079.\n"
     ]
    },
    {
     "name": "stdout",
     "output_type": "stream",
     "text": [
      "MAPE of prediction is: 2.1052439172311805\n"
     ]
    },
    {
     "name": "stderr",
     "output_type": "stream",
     "text": [
      "[I 2020-05-22 18:37:27,278] Finished trial#224 with value: 2.1052439172311805 with parameters: {'boosting_type': 'gbdt', 'num_leaves': 226, 'num_rounds': 689, 'learning_rate': 0.1195993033322142, 'min_data_in_leaf': 56}. Best is trial#54 with value: 2.075449686609079.\n"
     ]
    },
    {
     "name": "stdout",
     "output_type": "stream",
     "text": [
      "MAPE of prediction is: 2.0888733022096124\n"
     ]
    },
    {
     "name": "stderr",
     "output_type": "stream",
     "text": [
      "[I 2020-05-22 18:38:09,346] Finished trial#225 with value: 2.0888733022096124 with parameters: {'boosting_type': 'gbdt', 'num_leaves': 215, 'num_rounds': 668, 'learning_rate': 0.08911997705798652, 'min_data_in_leaf': 50}. Best is trial#54 with value: 2.075449686609079.\n"
     ]
    },
    {
     "name": "stdout",
     "output_type": "stream",
     "text": [
      "MAPE of prediction is: 2.0918985855900356\n"
     ]
    },
    {
     "name": "stderr",
     "output_type": "stream",
     "text": [
      "[I 2020-05-22 18:38:51,622] Finished trial#226 with value: 2.0918985855900356 with parameters: {'boosting_type': 'gbdt', 'num_leaves': 228, 'num_rounds': 682, 'learning_rate': 0.10330829805691792, 'min_data_in_leaf': 52}. Best is trial#54 with value: 2.075449686609079.\n"
     ]
    },
    {
     "name": "stdout",
     "output_type": "stream",
     "text": [
      "MAPE of prediction is: 2.0838504332240717\n"
     ]
    },
    {
     "name": "stderr",
     "output_type": "stream",
     "text": [
      "[I 2020-05-22 18:39:36,363] Finished trial#227 with value: 2.0838504332240717 with parameters: {'boosting_type': 'gbdt', 'num_leaves': 204, 'num_rounds': 700, 'learning_rate': 0.07634217612842097, 'min_data_in_leaf': 58}. Best is trial#54 with value: 2.075449686609079.\n"
     ]
    },
    {
     "name": "stdout",
     "output_type": "stream",
     "text": [
      "MAPE of prediction is: 2.088950810650426\n"
     ]
    },
    {
     "name": "stderr",
     "output_type": "stream",
     "text": [
      "[I 2020-05-22 18:40:21,924] Finished trial#228 with value: 2.088950810650426 with parameters: {'boosting_type': 'gbdt', 'num_leaves': 207, 'num_rounds': 692, 'learning_rate': 0.07252263708220719, 'min_data_in_leaf': 58}. Best is trial#54 with value: 2.075449686609079.\n"
     ]
    },
    {
     "name": "stdout",
     "output_type": "stream",
     "text": [
      "MAPE of prediction is: 2.0903025608370394\n"
     ]
    },
    {
     "name": "stderr",
     "output_type": "stream",
     "text": [
      "[I 2020-05-22 18:41:04,614] Finished trial#229 with value: 2.0903025608370394 with parameters: {'boosting_type': 'gbdt', 'num_leaves': 202, 'num_rounds': 672, 'learning_rate': 0.07945627452491501, 'min_data_in_leaf': 58}. Best is trial#54 with value: 2.075449686609079.\n"
     ]
    },
    {
     "name": "stdout",
     "output_type": "stream",
     "text": [
      "MAPE of prediction is: 2.1063871127770533\n"
     ]
    },
    {
     "name": "stderr",
     "output_type": "stream",
     "text": [
      "[I 2020-05-22 18:41:53,246] Finished trial#230 with value: 2.1063871127770533 with parameters: {'boosting_type': 'gbdt', 'num_leaves': 209, 'num_rounds': 700, 'learning_rate': 0.06060162093937579, 'min_data_in_leaf': 56}. Best is trial#54 with value: 2.075449686609079.\n"
     ]
    },
    {
     "name": "stdout",
     "output_type": "stream",
     "text": [
      "MAPE of prediction is: 2.0886468717254725\n"
     ]
    },
    {
     "name": "stderr",
     "output_type": "stream",
     "text": [
      "[I 2020-05-22 18:42:36,907] Finished trial#231 with value: 2.0886468717254725 with parameters: {'boosting_type': 'gbdt', 'num_leaves': 217, 'num_rounds': 688, 'learning_rate': 0.08970807731539868, 'min_data_in_leaf': 54}. Best is trial#54 with value: 2.075449686609079.\n"
     ]
    },
    {
     "name": "stdout",
     "output_type": "stream",
     "text": [
      "MAPE of prediction is: 2.0883990614415957\n"
     ]
    },
    {
     "name": "stderr",
     "output_type": "stream",
     "text": [
      "[I 2020-05-22 18:43:20,259] Finished trial#232 with value: 2.0883990614415957 with parameters: {'boosting_type': 'gbdt', 'num_leaves': 212, 'num_rounds': 700, 'learning_rate': 0.09660694360143926, 'min_data_in_leaf': 59}. Best is trial#54 with value: 2.075449686609079.\n"
     ]
    },
    {
     "name": "stdout",
     "output_type": "stream",
     "text": [
      "MAPE of prediction is: 2.0841521901241786\n"
     ]
    },
    {
     "name": "stderr",
     "output_type": "stream",
     "text": [
      "[I 2020-05-22 18:44:06,209] Finished trial#233 with value: 2.0841521901241786 with parameters: {'boosting_type': 'gbdt', 'num_leaves': 221, 'num_rounds': 700, 'learning_rate': 0.08015732371678115, 'min_data_in_leaf': 56}. Best is trial#54 with value: 2.075449686609079.\n"
     ]
    },
    {
     "name": "stdout",
     "output_type": "stream",
     "text": [
      "MAPE of prediction is: 2.087819262432486\n"
     ]
    },
    {
     "name": "stderr",
     "output_type": "stream",
     "text": [
      "[I 2020-05-22 18:44:51,619] Finished trial#234 with value: 2.087819262432486 with parameters: {'boosting_type': 'gbdt', 'num_leaves': 222, 'num_rounds': 679, 'learning_rate': 0.07701077074322554, 'min_data_in_leaf': 57}. Best is trial#54 with value: 2.075449686609079.\n"
     ]
    },
    {
     "name": "stdout",
     "output_type": "stream",
     "text": [
      "MAPE of prediction is: 2.0846872366141556\n"
     ]
    },
    {
     "name": "stderr",
     "output_type": "stream",
     "text": [
      "[I 2020-05-22 18:45:37,788] Finished trial#235 with value: 2.0846872366141556 with parameters: {'boosting_type': 'gbdt', 'num_leaves': 227, 'num_rounds': 699, 'learning_rate': 0.08254225407041138, 'min_data_in_leaf': 60}. Best is trial#54 with value: 2.075449686609079.\n"
     ]
    },
    {
     "name": "stdout",
     "output_type": "stream",
     "text": [
      "MAPE of prediction is: 4.464762169408779\n"
     ]
    },
    {
     "name": "stderr",
     "output_type": "stream",
     "text": [
      "[I 2020-05-22 18:46:39,800] Finished trial#236 with value: 4.464762169408779 with parameters: {'boosting_type': 'gbdt', 'num_leaves': 229, 'num_rounds': 700, 'learning_rate': 0.0033086196167865065, 'min_data_in_leaf': 60}. Best is trial#54 with value: 2.075449686609079.\n"
     ]
    },
    {
     "name": "stdout",
     "output_type": "stream",
     "text": [
      "MAPE of prediction is: 2.0912216142989366\n"
     ]
    },
    {
     "name": "stderr",
     "output_type": "stream",
     "text": [
      "[I 2020-05-22 18:47:27,116] Finished trial#237 with value: 2.0912216142989366 with parameters: {'boosting_type': 'gbdt', 'num_leaves': 222, 'num_rounds': 689, 'learning_rate': 0.06859834039221369, 'min_data_in_leaf': 56}. Best is trial#54 with value: 2.075449686609079.\n"
     ]
    },
    {
     "name": "stdout",
     "output_type": "stream",
     "text": [
      "MAPE of prediction is: 2.095462642055278\n"
     ]
    },
    {
     "name": "stderr",
     "output_type": "stream",
     "text": [
      "[I 2020-05-22 18:48:12,736] Finished trial#238 with value: 2.095462642055278 with parameters: {'boosting_type': 'gbdt', 'num_leaves': 226, 'num_rounds': 677, 'learning_rate': 0.0812918372925141, 'min_data_in_leaf': 58}. Best is trial#54 with value: 2.075449686609079.\n"
     ]
    },
    {
     "name": "stdout",
     "output_type": "stream",
     "text": [
      "MAPE of prediction is: 2.090571721904099\n"
     ]
    },
    {
     "name": "stderr",
     "output_type": "stream",
     "text": [
      "[I 2020-05-22 18:48:59,090] Finished trial#239 with value: 2.090571721904099 with parameters: {'boosting_type': 'gbdt', 'num_leaves': 218, 'num_rounds': 700, 'learning_rate': 0.07265633361798038, 'min_data_in_leaf': 57}. Best is trial#54 with value: 2.075449686609079.\n"
     ]
    },
    {
     "name": "stdout",
     "output_type": "stream",
     "text": [
      "MAPE of prediction is: 2.084460158855004\n"
     ]
    },
    {
     "name": "stderr",
     "output_type": "stream",
     "text": [
      "[I 2020-05-22 18:49:43,933] Finished trial#240 with value: 2.084460158855004 with parameters: {'boosting_type': 'gbdt', 'num_leaves': 230, 'num_rounds': 660, 'learning_rate': 0.08302620533670953, 'min_data_in_leaf': 61}. Best is trial#54 with value: 2.075449686609079.\n"
     ]
    },
    {
     "name": "stdout",
     "output_type": "stream",
     "text": [
      "MAPE of prediction is: 2.097663580217639\n"
     ]
    },
    {
     "name": "stderr",
     "output_type": "stream",
     "text": [
      "[I 2020-05-22 18:50:27,703] Finished trial#241 with value: 2.097663580217639 with parameters: {'boosting_type': 'gbdt', 'num_leaves': 228, 'num_rounds': 659, 'learning_rate': 0.0859895548228229, 'min_data_in_leaf': 60}. Best is trial#54 with value: 2.075449686609079.\n"
     ]
    },
    {
     "name": "stdout",
     "output_type": "stream",
     "text": [
      "MAPE of prediction is: 2.6112469024560845\n"
     ]
    },
    {
     "name": "stderr",
     "output_type": "stream",
     "text": [
      "[I 2020-05-22 18:59:34,506] Finished trial#242 with value: 2.6112469024560845 with parameters: {'boosting_type': 'dart', 'num_leaves': 233, 'num_rounds': 700, 'learning_rate': 0.08611304337446132, 'min_data_in_leaf': 61}. Best is trial#54 with value: 2.075449686609079.\n"
     ]
    },
    {
     "name": "stdout",
     "output_type": "stream",
     "text": [
      "MAPE of prediction is: 2.0971861872138855\n"
     ]
    },
    {
     "name": "stderr",
     "output_type": "stream",
     "text": [
      "[I 2020-05-22 19:00:20,687] Finished trial#243 with value: 2.0971861872138855 with parameters: {'boosting_type': 'gbdt', 'num_leaves': 220, 'num_rounds': 687, 'learning_rate': 0.07453565964591678, 'min_data_in_leaf': 55}. Best is trial#54 with value: 2.075449686609079.\n"
     ]
    },
    {
     "name": "stdout",
     "output_type": "stream",
     "text": [
      "MAPE of prediction is: 2.090773336677143\n"
     ]
    },
    {
     "name": "stderr",
     "output_type": "stream",
     "text": [
      "[I 2020-05-22 19:01:05,042] Finished trial#244 with value: 2.090773336677143 with parameters: {'boosting_type': 'gbdt', 'num_leaves': 224, 'num_rounds': 671, 'learning_rate': 0.08496491696084177, 'min_data_in_leaf': 59}. Best is trial#54 with value: 2.075449686609079.\n"
     ]
    },
    {
     "name": "stdout",
     "output_type": "stream",
     "text": [
      "MAPE of prediction is: 2.0863995156625466\n"
     ]
    },
    {
     "name": "stderr",
     "output_type": "stream",
     "text": [
      "[I 2020-05-22 19:01:55,314] Finished trial#245 with value: 2.0863995156625466 with parameters: {'boosting_type': 'gbdt', 'num_leaves': 241, 'num_rounds': 689, 'learning_rate': 0.06407475499213088, 'min_data_in_leaf': 58}. Best is trial#54 with value: 2.075449686609079.\n"
     ]
    },
    {
     "name": "stdout",
     "output_type": "stream",
     "text": [
      "MAPE of prediction is: 2.086692288802252\n"
     ]
    },
    {
     "name": "stderr",
     "output_type": "stream",
     "text": [
      "[I 2020-05-22 19:02:39,968] Finished trial#246 with value: 2.086692288802252 with parameters: {'boosting_type': 'gbdt', 'num_leaves': 230, 'num_rounds': 700, 'learning_rate': 0.09650168803138086, 'min_data_in_leaf': 56}. Best is trial#54 with value: 2.075449686609079.\n"
     ]
    },
    {
     "name": "stdout",
     "output_type": "stream",
     "text": [
      "MAPE of prediction is: 2.093020547219298\n"
     ]
    },
    {
     "name": "stderr",
     "output_type": "stream",
     "text": [
      "[I 2020-05-22 19:03:23,227] Finished trial#247 with value: 2.093020547219298 with parameters: {'boosting_type': 'gbdt', 'num_leaves': 217, 'num_rounds': 653, 'learning_rate': 0.0775245273839355, 'min_data_in_leaf': 53}. Best is trial#54 with value: 2.075449686609079.\n"
     ]
    },
    {
     "name": "stdout",
     "output_type": "stream",
     "text": [
      "MAPE of prediction is: 2.0992866807221002\n"
     ]
    },
    {
     "name": "stderr",
     "output_type": "stream",
     "text": [
      "[I 2020-05-22 19:04:04,147] Finished trial#248 with value: 2.0992866807221002 with parameters: {'boosting_type': 'gbdt', 'num_leaves': 212, 'num_rounds': 666, 'learning_rate': 0.10818208606545114, 'min_data_in_leaf': 61}. Best is trial#54 with value: 2.075449686609079.\n"
     ]
    },
    {
     "name": "stdout",
     "output_type": "stream",
     "text": [
      "MAPE of prediction is: 2.0967218133334664\n"
     ]
    },
    {
     "name": "stderr",
     "output_type": "stream",
     "text": [
      "[I 2020-05-22 19:04:46,855] Finished trial#249 with value: 2.0967218133334664 with parameters: {'boosting_type': 'gbdt', 'num_leaves': 206, 'num_rounds': 680, 'learning_rate': 0.08928490824029008, 'min_data_in_leaf': 64}. Best is trial#54 with value: 2.075449686609079.\n"
     ]
    }
   ],
   "source": [
    "print(\"Optimizing...\")\n",
    "neptune.create_experiment(\n",
    "    name='Optuna optimization with relative doses', \n",
    "    tags=['optimization', 'optuna', 'lightgbm', 'data_v5', 'relative', 'uniform_200k', 'l2']\n",
    ")\n",
    "study = optuna.create_study(direction='minimize')\n",
    "study.optimize(objective, n_trials=250, callbacks=[neptune_monitor_optuna])"
   ]
  },
  {
   "cell_type": "code",
   "execution_count": null,
   "metadata": {
    "colab": {},
    "colab_type": "code",
    "id": "N_a-Y3peIZoC"
   },
   "outputs": [],
   "source": [
    "neptune.stop()"
   ]
  },
  {
   "cell_type": "code",
   "execution_count": null,
   "metadata": {},
   "outputs": [],
   "source": [
    "!pip install joblib\n",
    "joblib.dump(study, 'optuna-study.pkl')"
   ]
  }
 ],
 "metadata": {
  "colab": {
   "collapsed_sections": [],
   "name": "lightgbm_regressor.ipynb",
   "provenance": []
  },
  "kernelspec": {
   "display_name": "Python 3",
   "language": "python",
   "name": "python3"
  },
  "language_info": {
   "codemirror_mode": {
    "name": "ipython",
    "version": 3
   },
   "file_extension": ".py",
   "mimetype": "text/x-python",
   "name": "python",
   "nbconvert_exporter": "python",
   "pygments_lexer": "ipython3",
   "version": "3.7.6"
  }
 },
 "nbformat": 4,
 "nbformat_minor": 1
}