{
 "cells": [
  {
   "cell_type": "code",
   "execution_count": 1,
   "metadata": {},
   "outputs": [],
   "source": [
    "import itertools\n",
    "import json\n",
    "from sklearn.metrics import mean_squared_error\n",
    "from data_processor import read_data\n",
    "import neptune\n",
    "import lightgbm as lgb\n",
    "\n",
    "import warnings\n",
    "\n",
    "import numpy as np\n",
    "warnings.filterwarnings(\"ignore\")"
   ]
  },
  {
   "cell_type": "code",
   "execution_count": 2,
   "metadata": {
    "pycharm": {
     "name": "#%%\n"
    }
   },
   "outputs": [],
   "source": [
    "def mean_absolute_percentage_error(y_true, y_pred):\n",
    "    y_true, y_pred = np.array(y_true), np.array(y_pred)\n",
    "    return np.mean(np.abs((y_true - y_pred) / y_true)) * 100"
   ]
  },
  {
   "cell_type": "code",
   "execution_count": 3,
   "metadata": {
    "pycharm": {
     "name": "#%%\n"
    }
   },
   "outputs": [
    {
     "name": "stdout",
     "output_type": "stream",
     "text": [
      "Loading data...\n",
      "Read dataset for train from file ../data/train.csv\n",
      "Read dataset for eval from file ../data/eval.csv\n"
     ]
    }
   ],
   "source": [
    "print('Loading data...')\n",
    "x_train, y_train = read_data('../data/200k_uniform/', 'train')\n",
    "x_eval, y_eval = read_data('../data/200k_uniform/', 'eval')\n",
    "\n",
    "neptune.init('kowson/OLN')"
   ]
  },
  {
   "cell_type": "code",
   "execution_count": 4,
   "metadata": {
    "pycharm": {
     "name": "#%%\n"
    }
   },
   "outputs": [
    {
     "name": "stdout",
     "output_type": "stream",
     "text": [
      "Preparing LightGBM datasets...\n"
     ]
    }
   ],
   "source": [
    "print('Preparing LightGBM datasets...')\n",
    "lgb_train = lgb.Dataset(x_train, y_train)\n",
    "lgb_eval = lgb.Dataset(x_eval, y_eval, reference=lgb_train)\n"
   ]
  },
  {
   "cell_type": "code",
   "execution_count": 5,
   "metadata": {
    "pycharm": {
     "name": "#%% NEPTUNE INTEGRATION\n"
    }
   },
   "outputs": [],
   "source": [
    "TAGS = ['lightgbm', 'data_v2', '10k_uniform', '200k_uniform', 'mape', 'relative', 'manual']\n",
    "\n",
    "def neptune_monitor():\n",
    "    def callback(env):\n",
    "        for name, loss_name, loss_value, _ in env.evaluation_result_list:\n",
    "            neptune.send_metric('{}_{}'.format(name, loss_name), x=env.iteration, y=loss_value)\n",
    "    return callback\n"
   ]
  },
  {
   "cell_type": "code",
   "execution_count": null,
   "metadata": {
    "pycharm": {
     "name": "#%% MODEL HYPERPARAMETERS\n"
    }
   },
   "outputs": [],
   "source": [
    "params_dict = {\n",
    "    'boosting_type': ['dart','gbdt'],\n",
    "    'objective': ['regression'],\n",
    "    'metric': [['l2', 'l1']],\n",
    "    'num_leaves': [10, 20, 25, 30, 40, 50, 100],\n",
    "    'num_rounds': [30, 50, 70, 100, 150],\n",
    "    'learning_rate': [0.01, 0.05, 0.1, 0.2, 0.5],\n",
    "    'verbose': [0],\n",
    "}"
   ]
  },
  {
   "cell_type": "code",
   "execution_count": null,
   "metadata": {
    "pycharm": {
     "name": "#%% TRAINING\n"
    }
   },
   "outputs": [],
   "source": [
    "print(\"Training...\")\n",
    "try:\n",
    "    with open('lgb_params.json') as data_file:    \n",
    "        used_params = json.load(data_file)\n",
    "except (FileNotFoundError, json.JSONDecodeError): \n",
    "    used_params = []\n",
    "keys, values = zip(*params_dict.items())\n",
    "for v in itertools.product(*values):\n",
    "    experiment_params = dict(zip(keys, v))\n",
    "    if any(param_dict == experiment_params for param_dict in used_params):\n",
    "        continue  # skip already computed\n",
    "    neptune.create_experiment(\n",
    "        name='LightGBM regressor', \n",
    "        params=experiment_params,\n",
    "        tags=TAGS\n",
    "    )\n",
    "    gbm = lgb.train(\n",
    "        params=experiment_params, \n",
    "        train_set=lgb_train, \n",
    "        valid_sets=[lgb_train, lgb_eval],\n",
    "        verbose_eval=False,\n",
    "        early_stopping_rounds=5,\n",
    "        callbacks=[neptune_monitor()],\n",
    "    )\n",
    "    # PREDICT AND EVAL\n",
    "    y_pred = gbm.predict(x_eval, num_iteration=gbm.best_iteration)\n",
    "    error = mean_squared_error(y_eval, y_pred) ** 0.5\n",
    "    print(\"RMSE of prediction is: {}\".format(error))\n",
    "    neptune.log_text('rmse', str(error))\n",
    "    error = mean_absolute_percentage_error(y_eval, y_pred)\n",
    "    print(\"MAPE of prediction is: {}\".format(error))\n",
    "    neptune.log_text('mape', str(error))\n",
    "    neptune.stop()\n",
    "    used_params.append(experiment_params)\n",
    "    with open('lgb_params.json', 'w') as outfile:\n",
    "        json.dump(used_params, outfile, sort_keys=True, indent=4)"
   ]
  },
  {
   "cell_type": "code",
   "execution_count": 12,
   "outputs": [
    {
     "name": "stderr",
     "output_type": "stream",
     "text": [
      "NVMLError: NVML Shared Library Not Found - GPU usage metrics may not be reported.\n"
     ]
    },
    {
     "name": "stdout",
     "output_type": "stream",
     "text": [
      "https://ui.neptune.ai/kowson/OLN/e/OLN-3217\n",
      "RMSE of prediction is: 11.616334823225378\n",
      "MAPE of prediction is: 2.0922319350280656\n"
     ]
    }
   ],
   "source": [
    "params = {\n",
    "    'boosting_type': 'gbdt',\n",
    "    'objective': 'regression',\n",
    "    'metric': ['l2', 'l1'],\n",
    "    'num_leaves': 163,\n",
    "    'num_rounds': 700,\n",
    "    'learning_rate': 0.09,\n",
    "    'min_data_in_leaf': 58,\n",
    "    'verbose': 0,\n",
    "}\n",
    "neptune.create_experiment(\n",
    "    name='LightGBM regressor eval on 10k trained on 200k',\n",
    "    params=params,\n",
    "    tags=TAGS\n",
    ")\n",
    "gbm = lgb.train(\n",
    "    params=params,\n",
    "    train_set=lgb_train,\n",
    "    valid_sets=[lgb_train, lgb_eval],\n",
    "    verbose_eval=False,\n",
    "    early_stopping_rounds=5,\n",
    "    callbacks=[neptune_monitor()],\n",
    ")\n",
    "# PREDICT AND EVAL\n",
    "y_pred = gbm.predict(x_eval, num_iteration=gbm.best_iteration)\n",
    "error = mean_squared_error(y_eval, y_pred) ** 0.5\n",
    "print(\"RMSE of prediction is: {}\".format(error))\n",
    "neptune.log_text('rmse', str(error))\n",
    "error = mean_absolute_percentage_error(y_eval, y_pred)\n",
    "print(\"MAPE of prediction is: {}\".format(error))\n",
    "neptune.log_text('mape', str(error))"
   ],
   "metadata": {
    "collapsed": false,
    "pycharm": {
     "name": "#%%\n"
    }
   }
  },
  {
   "cell_type": "code",
   "execution_count": 8,
   "outputs": [
    {
     "name": "stdout",
     "output_type": "stream",
     "text": [
      "Read dataset for 10k_relative_dataset from file ../data/1000per_simulation/10k_relative_dataset.csv\n",
      "RMSE of prediction is: 11.01480429045062\n",
      "MAPE of prediction is: 1.9612923458691274\n"
     ]
    }
   ],
   "source": [
    "# PREDICT AND EVAL ON 10k\n",
    "x_eval2, y_eval2 = read_data('../data/1000per_simulation/', 'relative_dataset')\n",
    "y_pred2 = gbm.predict(x_eval2, num_iteration=gbm.best_iteration)\n",
    "error = mean_squared_error(y_eval2, y_pred2) ** 0.5\n",
    "print(\"RMSE of prediction is: {}\".format(error))\n",
    "error = mean_absolute_percentage_error(y_eval2, y_pred2)\n",
    "print(\"MAPE of prediction is: {}\".format(error))"
   ],
   "metadata": {
    "collapsed": false,
    "pycharm": {
     "name": "#%%\n"
    }
   }
  },
  {
   "cell_type": "code",
   "execution_count": 9,
   "outputs": [
    {
     "name": "stdout",
     "output_type": "stream",
     "text": [
      "Read dataset for wrong_generated_relative from file ../data/old_data_wrong_uniform/wrong_generated_relative.csv\n",
      "RMSE of prediction is: 38.4810983429398\n",
      "MAPE of prediction is: 6.617198135289118\n"
     ]
    }
   ],
   "source": [
    "# PREDICT AND EVAL ON FIRST DATASET\n",
    "x_eval3, y_eval3 = read_data('../data/old_data/', 'relative_dataset')\n",
    "y_pred3 = gbm.predict(x_eval3, num_iteration=gbm.best_iteration)\n",
    "error = mean_squared_error(y_eval3, y_pred3) ** 0.5\n",
    "print(\"RMSE of prediction is: {}\".format(error))\n",
    "error = mean_absolute_percentage_error(y_eval3, y_pred3)\n",
    "print(\"MAPE of prediction is: {}\".format(error))"
   ],
   "metadata": {
    "collapsed": false,
    "pycharm": {
     "name": "#%%\n"
    }
   }
  },
  {
   "cell_type": "code",
   "execution_count": 11,
   "outputs": [
    {
     "name": "stdout",
     "output_type": "stream",
     "text": [
      "Plotting feature importances...\n"
     ]
    },
    {
     "data": {
      "text/plain": "<Figure size 432x288 with 1 Axes>",
      "image/png": "[encoded data removed]"
     },
     "metadata": {
      "needs_background": "light"
     },
     "output_type": "display_data"
    }
   ],
   "source": [
    "import matplotlib.pyplot as plt\n",
    "print('Plotting feature importances...')\n",
    "ax = lgb.plot_importance(gbm, max_num_features=45)\n",
    "plt.show()"
   ],
   "metadata": {
    "collapsed": false,
    "pycharm": {
     "name": "#%% PLOT FEATURE IMPORTANCE\n"
    }
   }
  },
  {
   "cell_type": "code",
   "execution_count": null,
   "outputs": [],
   "source": [
    "neptune.stop()"
   ],
   "metadata": {
    "collapsed": false,
    "pycharm": {
     "name": "#%%\n"
    }
   }
  },
  {
   "cell_type": "code",
   "execution_count": 11,
   "outputs": [],
   "source": [
    "test = gbm.feature_importance(iteration=gbm.best_iteration)\n",
    "\n"
   ],
   "metadata": {
    "collapsed": false,
    "pycharm": {
     "name": "#%%\n"
    }
   }
  }
 ],
 "metadata": {
  "kernelspec": {
   "display_name": "Python 3",
   "language": "python",
   "name": "python3"
  },
  "language_info": {
   "codemirror_mode": {
    "name": "ipython",
    "version": 3
   },
   "file_extension": ".py",
   "mimetype": "text/x-python",
   "name": "python",
   "nbconvert_exporter": "python",
   "pygments_lexer": "ipython3",
   "version": "3.5.2"
  }
 },
 "nbformat": 4,
 "nbformat_minor": 1
}