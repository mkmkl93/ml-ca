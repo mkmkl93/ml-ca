{
 "cells": [
  {
   "cell_type": "code",
   "execution_count": 6,
   "metadata": {
    "pycharm": {
     "name": "#%% IMPORTS\n"
    }
   },
   "outputs": [],
   "source": [
    "import lightgbm as lgb\n",
    "import pandas as pd\n",
    "import numpy as np\n",
    "import time"
   ]
  },
  {
   "cell_type": "code",
   "execution_count": 7,
   "metadata": {
    "pycharm": {
     "name": "#%% LOAD DATA\n"
    }
   },
   "outputs": [
    {
     "name": "stdout",
     "output_type": "stream",
     "text": [
      "Loading data...\n"
     ]
    }
   ],
   "source": [
    "def read_data(dataset_path, mode):\n",
    "    dataset = pd.read_csv(dataset_path + mode + '.csv')\n",
    "    dataset = dataset.drop(['Unnamed: 0'], axis=1)\n",
    "    return dataset.drop(['y'], axis=1), dataset['y']\n",
    "\n",
    "print('Loading data...')\n",
    "x_eval, y_eval = read_data('../data/200k_uniform/', 'dataset')\n"
   ]
  },
  {
   "cell_type": "code",
   "execution_count": 8,
   "metadata": {
    "pycharm": {
     "name": "#%% LOAD MODEL\n"
    }
   },
   "outputs": [],
   "source": [
    "ttt = lgb.Booster(model_file=\"model.txt\")"
   ]
  },
  {
   "cell_type": "code",
   "execution_count": 20,
   "metadata": {
    "pycharm": {
     "name": "#%% MEASURE SPEED\n"
    }
   },
   "outputs": [
    {
     "name": "stdout",
     "output_type": "stream",
     "text": [
      "7.411223292350769e-06\n"
     ]
    }
   ],
   "source": [
    "start_time = time.time()\n",
    "iterations = 10\n",
    "for i in range(iterations):\n",
    "    _ = ttt.predict(x_eval, num_iteration=ttt.best_iteration)\n",
    "execution_time = time.time() - start_time\n",
    "execution_time /= (len(x_eval) * iterations)\n",
    "\n",
    "print(execution_time)"
   ]
  },
  {
   "cell_type": "code",
   "execution_count": 10,
   "metadata": {
    "pycharm": {
     "name": "#%% DIAGNOSTICS\n"
    }
   },
   "outputs": [],
   "source": [
    "# def mean_absolute_percentage_error(y_true, y_pred):\n",
    "#     y_true, y_pred = np.array(y_true), np.array(y_pred)\n",
    "#     return np.mean(np.abs((y_true - y_pred) / y_true)) * 100\n",
    "\n",
    "# error = mean_absolute_percentage_error(y_eval, y_pred)\n",
    "# print(\"MAPE of prediction is: {}\".format(error))\n",
    "\n",
    "\n"
   ]
  },
  {
   "cell_type": "code",
   "execution_count": null,
   "metadata": {},
   "outputs": [],
   "source": []
  }
 ],
 "metadata": {
  "kernelspec": {
   "display_name": "Python 3",
   "language": "python",
   "name": "python3"
  },
  "language_info": {
   "codemirror_mode": {
    "name": "ipython",
    "version": 3
   },
   "file_extension": ".py",
   "mimetype": "text/x-python",
   "name": "python",
   "nbconvert_exporter": "python",
   "pygments_lexer": "ipython3",
   "version": "3.7.4"
  }
 },
 "nbformat": 4,
 "nbformat_minor": 1
}
