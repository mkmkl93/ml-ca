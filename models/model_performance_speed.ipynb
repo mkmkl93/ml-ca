{
 "cells": [
  {
   "cell_type": "code",
   "execution_count": 10,
   "metadata": {
    "collapsed": true,
    "pycharm": {
     "name": "#%% IMPORTS\n"
    }
   },
   "outputs": [],
   "source": [
    "import lightgbm as lgb\n",
    "import pandas as pd\n",
    "import numpy as np\n",
    "import time"
   ]
  },
  {
   "cell_type": "code",
   "execution_count": 5,
   "outputs": [
    {
     "name": "stdout",
     "output_type": "stream",
     "text": [
      "Loading data...\n"
     ]
    }
   ],
   "source": [
    "def read_data(dataset_path, mode):\n",
    "    dataset = pd.read_csv(dataset_path + mode + '.csv')\n",
    "    dataset = dataset.drop(['Unnamed: 0'], axis=1)\n",
    "    return dataset.drop(['y'], axis=1), dataset['y']\n",
    "\n",
    "print('Loading data...')\n",
    "x_eval, y_eval = read_data('../data/200k_uniform/', 'eval_200k_relative')\n"
   ],
   "metadata": {
    "collapsed": false,
    "pycharm": {
     "name": "#%% LOAD DATA\n"
    }
   }
  },
  {
   "cell_type": "code",
   "execution_count": 7,
   "outputs": [],
   "source": [
    "ttt = lgb.Booster(model_file=\"model.txt\")"
   ],
   "metadata": {
    "collapsed": false,
    "pycharm": {
     "name": "#%% LOAD MODEL\n"
    }
   }
  },
  {
   "cell_type": "code",
   "execution_count": 11,
   "outputs": [],
   "source": [
    "start_time = time.time()\n",
    "y_pred = ttt.predict(x_eval, num_iteration=ttt.best_iteration)\n",
    "execution_time = time.time() - start_time\n",
    "# execution_time / len(y_pred) ??"
   ],
   "metadata": {
    "collapsed": false,
    "pycharm": {
     "name": "#%% MEASURE SPEED\n"
    }
   }
  },
  {
   "cell_type": "code",
   "execution_count": null,
   "outputs": [],
   "source": [
    "# def mean_absolute_percentage_error(y_true, y_pred):\n",
    "#     y_true, y_pred = np.array(y_true), np.array(y_pred)\n",
    "#     return np.mean(np.abs((y_true - y_pred) / y_true)) * 100\n",
    "\n",
    "# error = mean_absolute_percentage_error(y_eval, y_pred)\n",
    "# print(\"MAPE of prediction is: {}\".format(error))\n",
    "\n",
    "\n"
   ],
   "metadata": {
    "collapsed": false,
    "pycharm": {
     "name": "#%% DIAGNOSTICS\n"
    }
   }
  }
 ],
 "metadata": {
  "kernelspec": {
   "display_name": "Python 3",
   "language": "python",
   "name": "python3"
  },
  "language_info": {
   "codemirror_mode": {
    "name": "ipython",
    "version": 2
   },
   "file_extension": ".py",
   "mimetype": "text/x-python",
   "name": "python",
   "nbconvert_exporter": "python",
   "pygments_lexer": "ipython2",
   "version": "2.7.6"
  }
 },
 "nbformat": 4,
 "nbformat_minor": 0
}