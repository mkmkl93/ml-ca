{
 "cells": [
  {
   "cell_type": "markdown",
   "metadata": {},
   "source": [
    "Importowanie rzeczy"
   ]
  },
  {
   "cell_type": "code",
   "execution_count": 1,
   "metadata": {},
   "outputs": [],
   "source": [
    "import pandas as pd\n",
    "import tensorflow as tf\n",
    "import lightgbm as lgb\n",
    "import numpy as np\n",
    "import matplotlib.pyplot as plt\n",
    "\n",
    "from data_processor import read_data"
   ]
  },
  {
   "cell_type": "markdown",
   "metadata": {},
   "source": [
    "Zbieranie zbiorów danych"
   ]
  },
  {
   "cell_type": "code",
   "execution_count": 2,
   "metadata": {},
   "outputs": [
    {
     "name": "stdout",
     "output_type": "stream",
     "text": [
      "Read dataset for eval from file ../data/uniform_200k/eval.csv\n",
      "Read dataset for infer from file ../data/uniform_200k/infer.csv\n",
      "38.731385866547235 426.50937419999997\n",
      "38.731385866547235 426.50937419999997\n"
     ]
    }
   ],
   "source": [
    "data_dir = '../data/uniform_200k/'\n",
    "datasets = []\n",
    "\n",
    "x_eval, y_eval = read_data(data_dir, 'eval')\n",
    "x_eval = np.reshape(x_eval.values, (-1, x_eval.shape[1]))\n",
    "y_eval = np.reshape(y_eval.values, (-1, 1))\n",
    "\n",
    "x_infer, y_infer = read_data(data_dir, 'infer')\n",
    "x_infer = np.reshape(x_infer.values, (-1, x_infer.shape[1]))\n",
    "y_infer = np.reshape(y_infer.values, (-1, 1))\n",
    "\n",
    "def denormalize(val):\n",
    "    # Read original data\n",
    "    dataset = pd.read_csv('../data/uniform_200k/dataset1_200.csv')\n",
    "    dataset = dataset.drop(['Unnamed: 0'], axis=1)\n",
    "    \n",
    "    # Calculate mean and standard deviation from original data\n",
    "    avg = np.average(dataset['y'])\n",
    "    std = np.std(dataset['y'])\n",
    "    \n",
    "    # Remove normalization from given data\n",
    "    print(std, avg)\n",
    "    val *= std\n",
    "    val += avg\n",
    "    \n",
    "    return val\n",
    "\n",
    "y_eval = denormalize(y_eval)\n",
    "y_infer = denormalize(y_infer)\n",
    "\n",
    "datasets.append(('eval', x_eval, y_eval))\n",
    "datasets.append(('infer', x_infer, y_infer))"
   ]
  },
  {
   "cell_type": "markdown",
   "metadata": {},
   "source": [
    "Zbieranie wszystkich modeli do porównania"
   ]
  },
  {
   "cell_type": "code",
   "execution_count": 3,
   "metadata": {},
   "outputs": [],
   "source": [
    "models = []\n",
    "\n",
    "# CNN model\n",
    "path_to_model = 'logs/run_15219734408739720318/'\n",
    "\n",
    "cnn_model = tf.keras.models.load_model(path_to_model)\n",
    "models.append(['cnn', cnn_model])\n",
    "\n",
    "# LGBM\n",
    "path_to_model = 'model.txt'\n",
    "lgb_model = lgb.Booster(model_file=path_to_model)\n",
    "models.append(['lgbm', lgb_model])"
   ]
  },
  {
   "cell_type": "markdown",
   "metadata": {},
   "source": [
    "Zbieranie funkcji kosztu do porównywania"
   ]
  },
  {
   "cell_type": "code",
   "execution_count": 4,
   "metadata": {},
   "outputs": [],
   "source": [
    "losses = []\n",
    "\n",
    "losses.append(['mse', tf.keras.losses.MeanSquaredError()])\n",
    "losses.append(['mape', tf.keras.losses.MeanAbsolutePercentageError()])"
   ]
  },
  {
   "cell_type": "markdown",
   "metadata": {},
   "source": [
    "Tworzenie tabelki"
   ]
  },
  {
   "cell_type": "code",
   "execution_count": null,
   "metadata": {},
   "outputs": [
    {
     "name": "stdout",
     "output_type": "stream",
     "text": [
      "38.731385866547235 426.50937419999997\n",
      "38.731385866547235 426.50937419999997\n"
     ]
    },
    {
     "data": {
      "image/png": "[encoded data removed]",
      "text/plain": [
       "<Figure size 432x288 with 1 Axes>"
      ]
     },
     "metadata": {
      "needs_background": "light"
     },
     "output_type": "display_data"
    },
    {
     "name": "stdout",
     "output_type": "stream",
     "text": [
      "38.731385866547235 426.50937419999997\n",
      "38.731385866547235 426.50937419999997\n"
     ]
    }
   ],
   "source": [
    "for dataset in datasets:\n",
    "    name, X, Y = dataset\n",
    "    rows = [x[0] for x in losses]    \n",
    "    columns = [x[0] for x in models]\n",
    "\n",
    "    cell_text = []\n",
    "    for loss in losses:\n",
    "        for model in models:\n",
    "            Y_pred = model[1].predict(X)\n",
    "\n",
    "            # Dirty trick do denormalize output\n",
    "            if Y_pred[0] < 10:\n",
    "                Y_pred = denormalize(Y_pred)\n",
    "\n",
    "            val_loss = loss[1](Y, Y_pred).numpy()\n",
    "            cell_text.append(str(val_loss))\n",
    "        \n",
    "    cell_text = np.reshape(cell_text, (len(rows), len(columns)))\n",
    "    the_table = plt.table(cellText=cell_text,\n",
    "                          rowLabels=rows,\n",
    "                          colLabels=columns,\n",
    "                          loc='center')\n",
    "\n",
    "    plt.title(name)\n",
    "    plt.axis(\"off\")\n",
    "    plt.grid(False)\n",
    "    plt.show()"
   ]
  },
  {
   "cell_type": "code",
   "execution_count": null,
   "metadata": {},
   "outputs": [],
   "source": []
  }
 ],
 "metadata": {
  "kernelspec": {
   "display_name": "Python 3",
   "language": "python",
   "name": "python3"
  },
  "language_info": {
   "codemirror_mode": {
    "name": "ipython",
    "version": 3
   },
   "file_extension": ".py",
   "mimetype": "text/x-python",
   "name": "python",
   "nbconvert_exporter": "python",
   "pygments_lexer": "ipython3",
   "version": "3.7.4"
  }
 },
 "nbformat": 4,
 "nbformat_minor": 2
}
