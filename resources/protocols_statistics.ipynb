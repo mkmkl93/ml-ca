{
 "cells": [
  {
   "cell_type": "code",
   "execution_count": 1,
   "metadata": {},
   "outputs": [],
   "source": [
    "def file_num(name):\n",
    "    return int(name.split('_')[1].split('.')[0])"
   ]
  },
  {
   "cell_type": "code",
   "execution_count": 18,
   "metadata": {},
   "outputs": [
    {
     "name": "stdout",
     "output_type": "stream",
     "text": [
      "protocol_times_1.csv : 6250\n",
      "protocol_times_2.csv : 6250\n",
      "protocol_times_3.csv : 6250\n",
      "protocol_times_4.csv : 6250\n",
      "protocol_times_5.csv : 6250\n",
      "protocol_times_6.csv : 6250\n",
      "protocol_times_7.csv : 6250\n",
      "protocol_times_8.csv : 6250\n",
      "protocol_times_9.csv : 6250\n",
      "protocol_times_10.csv : 6250\n",
      "protocol_times_11.csv : 6250\n",
      "protocol_times_12.csv : 6250\n",
      "protocol_times_13.csv : 6250\n",
      "protocol_times_14.csv : 6250\n",
      "protocol_times_15.csv : 6250\n",
      "protocol_times_16.csv : 6250\n",
      "protocol_times_17.csv : 6250\n",
      "protocol_times_18.csv : 6250\n",
      "protocol_times_19.csv : 6250\n",
      "protocol_times_20.csv : 6250\n",
      "protocol_times_21.csv : 6250\n",
      "protocol_times_22.csv : 6250\n",
      "protocol_times_23.csv : 6250\n",
      "protocol_times_24.csv : 6250\n",
      "protocol_times_25.csv : 6250\n",
      "protocol_times_26.csv : 6250\n",
      "protocol_times_27.csv : 6250\n",
      "protocol_times_28.csv : 6250\n",
      "protocol_times_29.csv : 6250\n",
      "protocol_times_30.csv : 6250\n",
      "protocol_times_31.csv : 6250\n",
      "protocol_times_32.csv : 6250\n",
      "Sum 200000\n"
     ]
    }
   ],
   "source": [
    "import os\n",
    "import glob\n",
    "import csv\n",
    "import itertools\n",
    "import numpy as np\n",
    "\n",
    "hist = [0 for i in range(81)]\n",
    "doses = [0 for i in range(21)]\n",
    "files = ['protocols/uniform_200k/protocol_times_{}.csv'.format(i) for i in range(1, 33)]\n",
    "suma = 0\n",
    "for fname in files:\n",
    "    rows = []\n",
    "    with open(fname) as csvfile:\n",
    "        lineCounter = 0\n",
    "        for line1,line2 in itertools.zip_longest(csvfile, csvfile):\n",
    "            lineCounter += 2\n",
    "            protocol = line1.split(' ')\n",
    "            protocol.pop()\n",
    "            doses[len(protocol)] += 1\n",
    "            hist[int(sum(map(float, protocol)) * 8)] += 1\n",
    "        print(\"{} : {}\".format(os.path.basename(fname), lineCounter // 2))\n",
    "        suma += lineCounter // 2\n",
    "print(\"Sum {}\".format(suma))\n",
    "            "
   ]
  },
  {
   "cell_type": "code",
   "execution_count": 19,
   "metadata": {},
   "outputs": [
    {
     "name": "stdout",
     "output_type": "stream",
     "text": [
      "sum: 0.125 | count: 0\n",
      "sum: 0.25 | count: 0\n",
      "sum: 0.375 | count: 0\n",
      "sum: 0.5 | count: 0\n",
      "sum: 0.625 | count: 0\n",
      "sum: 0.75 | count: 0\n",
      "sum: 0.875 | count: 0\n",
      "sum: 1.0 | count: 0\n",
      "sum: 1.125 | count: 2\n",
      "sum: 1.25 | count: 0\n",
      "sum: 1.375 | count: 0\n",
      "sum: 1.5 | count: 0\n",
      "sum: 1.625 | count: 4\n",
      "sum: 1.75 | count: 4\n",
      "sum: 1.875 | count: 0\n",
      "sum: 2.0 | count: 4\n",
      "sum: 2.125 | count: 0\n",
      "sum: 2.25 | count: 4\n",
      "sum: 2.375 | count: 8\n",
      "sum: 2.5 | count: 2\n",
      "sum: 2.625 | count: 6\n",
      "sum: 2.75 | count: 2\n",
      "sum: 2.875 | count: 10\n",
      "sum: 3.0 | count: 8\n",
      "sum: 3.125 | count: 10\n",
      "sum: 3.25 | count: 6\n",
      "sum: 3.375 | count: 18\n",
      "sum: 3.5 | count: 12\n",
      "sum: 3.625 | count: 26\n",
      "sum: 3.75 | count: 28\n",
      "sum: 3.875 | count: 32\n",
      "sum: 4.0 | count: 46\n",
      "sum: 4.125 | count: 32\n",
      "sum: 4.25 | count: 48\n",
      "sum: 4.375 | count: 42\n",
      "sum: 4.5 | count: 62\n",
      "sum: 4.625 | count: 90\n",
      "sum: 4.75 | count: 82\n",
      "sum: 4.875 | count: 106\n",
      "sum: 5.0 | count: 136\n",
      "sum: 5.125 | count: 164\n",
      "sum: 5.25 | count: 148\n",
      "sum: 5.375 | count: 182\n",
      "sum: 5.5 | count: 188\n",
      "sum: 5.625 | count: 212\n",
      "sum: 5.75 | count: 286\n",
      "sum: 5.875 | count: 318\n",
      "sum: 6.0 | count: 390\n",
      "sum: 6.125 | count: 394\n",
      "sum: 6.25 | count: 526\n",
      "sum: 6.375 | count: 596\n",
      "sum: 6.5 | count: 658\n",
      "sum: 6.625 | count: 794\n",
      "sum: 6.75 | count: 944\n",
      "sum: 6.875 | count: 966\n",
      "sum: 7.0 | count: 1114\n",
      "sum: 7.125 | count: 1288\n",
      "sum: 7.25 | count: 1372\n",
      "sum: 7.375 | count: 1704\n",
      "sum: 7.5 | count: 2020\n",
      "sum: 7.625 | count: 2218\n",
      "sum: 7.75 | count: 2442\n",
      "sum: 7.875 | count: 2782\n",
      "sum: 8.0 | count: 3238\n",
      "sum: 8.125 | count: 3758\n",
      "sum: 8.25 | count: 4326\n",
      "sum: 8.375 | count: 4670\n",
      "sum: 8.5 | count: 5372\n",
      "sum: 8.625 | count: 6236\n",
      "sum: 8.75 | count: 7084\n",
      "sum: 8.875 | count: 7704\n",
      "sum: 9.0 | count: 8720\n",
      "sum: 9.125 | count: 9886\n",
      "sum: 9.25 | count: 11324\n",
      "sum: 9.375 | count: 12690\n",
      "sum: 9.5 | count: 14276\n",
      "sum: 9.625 | count: 16322\n",
      "sum: 9.75 | count: 18302\n",
      "sum: 9.875 | count: 20372\n",
      "sum: 10.0 | count: 23184\n",
      "Number of protocols: 200000\n"
     ]
    }
   ],
   "source": [
    "suma = 0\n",
    "for s in range(1, 81):\n",
    "    print('sum: {} | count: {}'.format(s/8, hist[s]))\n",
    "    suma = suma + hist[s]\n",
    "print('Number of protocols: {}'.format(suma))"
   ]
  },
  {
   "cell_type": "code",
   "execution_count": 24,
   "metadata": {
    "pycharm": {
     "name": "#%% DOSES\n"
    }
   },
   "outputs": [
    {
     "data": {
      "image/png": "[encoded data removed]",
      "text/plain": [
       "<Figure size 432x288 with 1 Axes>"
      ]
     },
     "metadata": {
      "needs_background": "light"
     },
     "output_type": "display_data"
    }
   ],
   "source": [
    "import matplotlib\n",
    "import matplotlib.pyplot as plt\n",
    "plt.plot([i for i in range(21)], doses)\n",
    "plt.ylabel('Number of protocols')\n",
    "plt.xlabel('Number of doses')\n",
    "plt.show()"
   ]
  },
  {
   "cell_type": "code",
   "execution_count": 33,
   "metadata": {},
   "outputs": [
    {
     "data": {
      "image/png": "[encoded data removed]",
      "text/plain": [
       "<Figure size 432x288 with 1 Axes>"
      ]
     },
     "metadata": {
      "needs_background": "light"
     },
     "output_type": "display_data"
    }
   ],
   "source": [
    "s = np.arange(0.625, 10.0, 0.125)\n",
    "count = list(hist[6:])\n",
    "plt.plot(s, count)\n",
    "plt.xlabel('Total Gy')\n",
    "plt.ylabel('Number of protocols')\n",
    "plt.show()"
   ]
  },
  {
   "cell_type": "code",
   "execution_count": 6,
   "metadata": {},
   "outputs": [],
   "source": []
  }
 ],
 "metadata": {
  "kernelspec": {
   "display_name": "Python 3",
   "language": "python",
   "name": "python3"
  },
  "language_info": {
   "codemirror_mode": {
    "name": "ipython",
    "version": 3
   },
   "file_extension": ".py",
   "mimetype": "text/x-python",
   "name": "python",
   "nbconvert_exporter": "python",
   "pygments_lexer": "ipython3",
   "version": "3.6.9"
  }
 },
 "nbformat": 4,
 "nbformat_minor": 2
}
